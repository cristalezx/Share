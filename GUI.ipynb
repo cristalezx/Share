{
 "cells": [
  {
   "cell_type": "code",
   "execution_count": 1,
   "metadata": {
    "collapsed": true,
    "deletable": true,
    "editable": true,
    "nbpresent": {
     "id": "ae3baf1f-b03a-4c98-bea8-c0865f0072c5"
    }
   },
   "outputs": [],
   "source": [
    "import numpy as np\n",
    "import pandas as pd\n",
    "import copy\n",
    "from sklearn.externals import joblib\n",
    "import os"
   ]
  },
  {
   "cell_type": "code",
   "execution_count": 2,
   "metadata": {
    "collapsed": false,
    "deletable": true,
    "editable": true,
    "nbpresent": {
     "id": "07de61b8-f192-4882-b504-1d20adf7200f"
    }
   },
   "outputs": [],
   "source": [
    "from tkinter import messagebox\n",
    "from tkinter import Checkbutton\n",
    "from tkinter import *\n",
    "from tkinter import ttk\n",
    "from tkinter.filedialog import *\n",
    "from tkinter.ttk import Progressbar\n",
    "import threading"
   ]
  },
  {
   "cell_type": "code",
   "execution_count": 3,
   "metadata": {
    "collapsed": false,
    "deletable": true,
    "editable": true,
    "nbpresent": {
     "id": "9ccb2ab9-8e2a-4b7c-ba6c-2cdf73e7ae71"
    }
   },
   "outputs": [
    {
     "ename": "FileNotFoundError",
     "evalue": "[Errno 2] No such file or directory: 'v_1.xlsx'",
     "output_type": "error",
     "traceback": [
      "\u001b[1;31m---------------------------------------------------------------------------\u001b[0m",
      "\u001b[1;31mFileNotFoundError\u001b[0m                         Traceback (most recent call last)",
      "\u001b[1;32m<ipython-input-3-1623bf1858e8>\u001b[0m in \u001b[0;36m<module>\u001b[1;34m()\u001b[0m\n\u001b[0;32m      4\u001b[0m \u001b[0mdic\u001b[0m\u001b[1;33m=\u001b[0m\u001b[0mpickle\u001b[0m\u001b[1;33m.\u001b[0m\u001b[0mload\u001b[0m\u001b[1;33m(\u001b[0m\u001b[0mopen\u001b[0m\u001b[1;33m(\u001b[0m\u001b[1;34m\"dic_996.p\"\u001b[0m\u001b[1;33m,\u001b[0m\u001b[1;34m\"rb\"\u001b[0m\u001b[1;33m)\u001b[0m\u001b[1;33m)\u001b[0m\u001b[1;33m\u001b[0m\u001b[0m\n\u001b[0;32m      5\u001b[0m \u001b[0mdic_cols\u001b[0m\u001b[1;33m=\u001b[0m\u001b[0mpickle\u001b[0m\u001b[1;33m.\u001b[0m\u001b[0mload\u001b[0m\u001b[1;33m(\u001b[0m\u001b[0mopen\u001b[0m\u001b[1;33m(\u001b[0m\u001b[1;34m\"dic_cols.p\"\u001b[0m\u001b[1;33m,\u001b[0m\u001b[1;34m\"rb\"\u001b[0m\u001b[1;33m)\u001b[0m\u001b[1;33m)\u001b[0m\u001b[1;33m\u001b[0m\u001b[0m\n\u001b[1;32m----> 6\u001b[1;33m \u001b[0mv_1\u001b[0m\u001b[1;33m=\u001b[0m\u001b[0mpd\u001b[0m\u001b[1;33m.\u001b[0m\u001b[0mExcelFile\u001b[0m\u001b[1;33m(\u001b[0m\u001b[1;34m\"v_1.xlsx\"\u001b[0m\u001b[1;33m)\u001b[0m\u001b[1;33m.\u001b[0m\u001b[0mparse\u001b[0m\u001b[1;33m(\u001b[0m\u001b[1;34m\"Sheet1\"\u001b[0m\u001b[1;33m)\u001b[0m\u001b[1;33m\u001b[0m\u001b[0m\n\u001b[0m\u001b[0;32m      7\u001b[0m \u001b[0mv_1\u001b[0m\u001b[1;33m.\u001b[0m\u001b[0mrename\u001b[0m\u001b[1;33m(\u001b[0m\u001b[0mcolumns\u001b[0m\u001b[1;33m=\u001b[0m\u001b[1;33m{\u001b[0m\u001b[1;34m\"ACCOUNT\"\u001b[0m\u001b[1;33m:\u001b[0m\u001b[1;34m\"ACCOUNT_u\"\u001b[0m\u001b[1;33m}\u001b[0m\u001b[1;33m,\u001b[0m\u001b[0minplace\u001b[0m\u001b[1;33m=\u001b[0m\u001b[1;32mTrue\u001b[0m\u001b[1;33m)\u001b[0m\u001b[1;33m\u001b[0m\u001b[0m\n\u001b[0;32m      8\u001b[0m \u001b[0mgg\u001b[0m\u001b[1;33m=\u001b[0m\u001b[0mpd\u001b[0m\u001b[1;33m.\u001b[0m\u001b[0mExcelFile\u001b[0m\u001b[1;33m(\u001b[0m\u001b[1;34m\"gg.xlsx\"\u001b[0m\u001b[1;33m)\u001b[0m\u001b[1;33m.\u001b[0m\u001b[0mparse\u001b[0m\u001b[1;33m(\u001b[0m\u001b[1;34m\"Sheet1\"\u001b[0m\u001b[1;33m)\u001b[0m\u001b[1;33m\u001b[0m\u001b[0m\n",
      "\u001b[1;32mc:\\homeware\\anaconda3\\lib\\site-packages\\pandas\\io\\excel.py\u001b[0m in \u001b[0;36m__init__\u001b[1;34m(self, io, **kwds)\u001b[0m\n\u001b[0;32m    225\u001b[0m             \u001b[0mself\u001b[0m\u001b[1;33m.\u001b[0m\u001b[0mbook\u001b[0m \u001b[1;33m=\u001b[0m \u001b[0mxlrd\u001b[0m\u001b[1;33m.\u001b[0m\u001b[0mopen_workbook\u001b[0m\u001b[1;33m(\u001b[0m\u001b[0mfile_contents\u001b[0m\u001b[1;33m=\u001b[0m\u001b[0mdata\u001b[0m\u001b[1;33m)\u001b[0m\u001b[1;33m\u001b[0m\u001b[0m\n\u001b[0;32m    226\u001b[0m         \u001b[1;32melif\u001b[0m \u001b[0misinstance\u001b[0m\u001b[1;33m(\u001b[0m\u001b[0mio\u001b[0m\u001b[1;33m,\u001b[0m \u001b[0mcompat\u001b[0m\u001b[1;33m.\u001b[0m\u001b[0mstring_types\u001b[0m\u001b[1;33m)\u001b[0m\u001b[1;33m:\u001b[0m\u001b[1;33m\u001b[0m\u001b[0m\n\u001b[1;32m--> 227\u001b[1;33m             \u001b[0mself\u001b[0m\u001b[1;33m.\u001b[0m\u001b[0mbook\u001b[0m \u001b[1;33m=\u001b[0m \u001b[0mxlrd\u001b[0m\u001b[1;33m.\u001b[0m\u001b[0mopen_workbook\u001b[0m\u001b[1;33m(\u001b[0m\u001b[0mio\u001b[0m\u001b[1;33m)\u001b[0m\u001b[1;33m\u001b[0m\u001b[0m\n\u001b[0m\u001b[0;32m    228\u001b[0m         \u001b[1;32melse\u001b[0m\u001b[1;33m:\u001b[0m\u001b[1;33m\u001b[0m\u001b[0m\n\u001b[0;32m    229\u001b[0m             raise ValueError('Must explicitly set engine if not passing in'\n",
      "\u001b[1;32mc:\\homeware\\anaconda3\\lib\\site-packages\\xlrd\\__init__.py\u001b[0m in \u001b[0;36mopen_workbook\u001b[1;34m(filename, logfile, verbosity, use_mmap, file_contents, encoding_override, formatting_info, on_demand, ragged_rows)\u001b[0m\n\u001b[0;32m    393\u001b[0m         \u001b[0mpeek\u001b[0m \u001b[1;33m=\u001b[0m \u001b[0mfile_contents\u001b[0m\u001b[1;33m[\u001b[0m\u001b[1;33m:\u001b[0m\u001b[0mpeeksz\u001b[0m\u001b[1;33m]\u001b[0m\u001b[1;33m\u001b[0m\u001b[0m\n\u001b[0;32m    394\u001b[0m     \u001b[1;32melse\u001b[0m\u001b[1;33m:\u001b[0m\u001b[1;33m\u001b[0m\u001b[0m\n\u001b[1;32m--> 395\u001b[1;33m         \u001b[1;32mwith\u001b[0m \u001b[0mopen\u001b[0m\u001b[1;33m(\u001b[0m\u001b[0mfilename\u001b[0m\u001b[1;33m,\u001b[0m \u001b[1;34m\"rb\"\u001b[0m\u001b[1;33m)\u001b[0m \u001b[1;32mas\u001b[0m \u001b[0mf\u001b[0m\u001b[1;33m:\u001b[0m\u001b[1;33m\u001b[0m\u001b[0m\n\u001b[0m\u001b[0;32m    396\u001b[0m             \u001b[0mpeek\u001b[0m \u001b[1;33m=\u001b[0m \u001b[0mf\u001b[0m\u001b[1;33m.\u001b[0m\u001b[0mread\u001b[0m\u001b[1;33m(\u001b[0m\u001b[0mpeeksz\u001b[0m\u001b[1;33m)\u001b[0m\u001b[1;33m\u001b[0m\u001b[0m\n\u001b[0;32m    397\u001b[0m     \u001b[1;32mif\u001b[0m \u001b[0mpeek\u001b[0m \u001b[1;33m==\u001b[0m \u001b[1;34mb\"PK\\x03\\x04\"\u001b[0m\u001b[1;33m:\u001b[0m \u001b[1;31m# a ZIP file\u001b[0m\u001b[1;33m\u001b[0m\u001b[0m\n",
      "\u001b[1;31mFileNotFoundError\u001b[0m: [Errno 2] No such file or directory: 'v_1.xlsx'"
     ]
    }
   ],
   "source": [
    "import pickle\n",
    "import os\n",
    "os.chdir(r'C:\\Users\\A458497\\desktop')\n",
    "dic=pickle.load(open(\"dic_996.p\",\"rb\"))\n",
    "dic_cols=pickle.load(open(\"dic_cols.p\",\"rb\"))\n",
    "v_1=pd.ExcelFile(\"v_1.xlsx\").parse(\"Sheet1\")\n",
    "v_1.rename(columns={\"ACCOUNT\":\"ACCOUNT_u\"},inplace=True)\n",
    "gg=pd.ExcelFile(\"gg.xlsx\").parse(\"Sheet1\")\n",
    "gg3=pd.ExcelFile(\"gg3.xlsx\").parse(\"Sheet1\")\n",
    "gg_997=pd.ExcelFile(\"gg_997.xlsx\").parse(\"Sheet1\")\n",
    "gg_994=pd.ExcelFile(\"gg_994.xlsx\").parse(\"Sheet1\")\n",
    "gg_993=pd.ExcelFile(\"gg_993.xlsx\").parse(\"Sheet1\")\n",
    "# df1['c1']=pd.DataFrame([str(i)[:1] for i in df1.ACCOUNT])\n",
    "# df1['c3']=pd.DataFrame([str(i)[:3] for i in df1.ACCOUNT])\n",
    "col_1=dic_cols[\"col_1\"]\n",
    "col_3=dic_cols[\"col_3\"]\n",
    "cols=dic_cols[\"cols\"]\n",
    "col_996=dic_cols[\"col_996\"]\n",
    "col_all_1=dic_cols[\"col_all_1\"]\n",
    "col_all_3=dic_cols[\"col_all_3\"]\n",
    "col_all_993=dic_cols[\"col_all_997\"]\n",
    "col_all_994=dic_cols[\"col_all_997\"]\n",
    "col_all_994=dic_cols[\"col_all_997\"]"
   ]
  },
  {
   "cell_type": "code",
   "execution_count": null,
   "metadata": {
    "collapsed": true,
    "deletable": true,
    "editable": true,
    "nbpresent": {
     "id": "e6a5ea0c-7e7f-4b35-962a-01e2881a020e"
    }
   },
   "outputs": [],
   "source": [
    "global xl"
   ]
  },
  {
   "cell_type": "code",
   "execution_count": null,
   "metadata": {
    "collapsed": true,
    "deletable": true,
    "editable": true,
    "nbpresent": {
     "id": "fe6191f8-6191-4967-9969-bcf70c36690e"
    }
   },
   "outputs": [],
   "source": [
    "def progress_bar(fuc):\n",
    "    s=IntVar()\n",
    "    def check_thread():\n",
    "        if thread.is_alive():\n",
    "            root.after(2,check_thread)\n",
    "        else:\n",
    "            pgb[\"variable\"]=s\n",
    "            s.set(200)\n",
    "            pgb.stop() \n",
    "    pgb.start()\n",
    "    thread=threading.Thread(target=fuc)\n",
    "    thread.start()\n",
    "    root.after(2,check_thread)"
   ]
  },
  {
   "cell_type": "code",
   "execution_count": null,
   "metadata": {
    "collapsed": false,
    "nbpresent": {
     "id": "00399c7e-75ef-4418-bdbe-89fa679e25f2"
    }
   },
   "outputs": [],
   "source": [
    "os.chdir(r'C:\\Users\\A458497\\desktop\\compte_pre')\n",
    "def predict_1(df,cols,gg):\n",
    "    os.chdir(r'model_'+str(1))\n",
    "    clf=joblib.load(\"model_1.sav\")\n",
    "    os.chdir(\"../\")\n",
    "    dt=pd.DataFrame(0,index=df.index,columns=col_all_1)\n",
    "    dtt=df[cols]\n",
    "    dtt=dtt.merge(gg,on=\"VENDOR_ID\",how=\"left\")\n",
    "    dtt=dtt.fillna(0.0)\n",
    "    dtt=dtt.drop('VENDOR_ID',1)\n",
    "    dtt=pd.get_dummies(dtt)\n",
    "    for col in dtt.columns.values.tolist():\n",
    "        dt[col]=dtt[col]\n",
    "    dt=dt[col_all_1]\n",
    "    y_p=clf.predict(dt)\n",
    "    df[\"Predicted_1\"]=y_p\n",
    "    df[\"NEW_VENDOR\"]=~df.VENDOR_ID.isin(gg.VENDOR_ID)*1\n",
    "    \n",
    "def predict_3(df,cols,gg):\n",
    "    os.chdir(r'model_'+str(3))\n",
    "    clf=joblib.load(\"model_3.sav\")\n",
    "    os.chdir(\"../\")\n",
    "    \n",
    "    dtt=df[cols][df.Predicted_1=='9']\n",
    "    dd=dtt[[]]\n",
    "    dt=pd.DataFrame(0,index=dtt.index,columns=col_all_3)\n",
    "    \n",
    "    dtt=dtt.merge(gg3,on=\"VENDOR_ID\",how=\"left\")\n",
    "    dtt=dtt.drop('VENDOR_ID',1)\n",
    "    dtt=pd.get_dummies(dtt)\n",
    "    for col in dtt.columns.values.tolist():\n",
    "        dt[col]=dtt[col]\n",
    "    dt=dt[col_all_3]\n",
    "    dt=dt.fillna(0.0)\n",
    "    y_p=clf.predict(dt)\n",
    "    \n",
    "    dd[\"Predicted_3\"]=y_p \n",
    "#     df[~df.VENDOR_ID.isin (gg.VENDOR_ID)][cols][df.Predicted_3=='996']\n",
    "    df=pd.concat([df,dd],axis=1,join_axes=[df.index])\n",
    "    return df\n",
    "# predict 997 or 994 or 993\n",
    "def predict_99347(df,gg,name): \n",
    "    cols=dic_cols[\"cols\"]\n",
    "    col_all=dic_cols[\"col_all_\"+name]\n",
    "    os.chdir(r'model_'+name)\n",
    "    clf=joblib.load(\"model_\"+name+\".sav\")\n",
    "    os.chdir(\"../\")\n",
    "    dtt=df[cols][df.Predicted_3==name][~df.VENDOR_ID.isin (v_1.VENDOR_ID)]\n",
    "    dd=dtt[[]]\n",
    "    if dd.shape[0]==0:\n",
    "        return df\n",
    "    dt=pd.DataFrame(0,index=dtt.index,columns=col_all)\n",
    "    dtt=dtt.merge(gg,on=\"VENDOR_ID\",how=\"left\")\n",
    "    dtt=dtt.drop('VENDOR_ID',1)\n",
    "    dtt=pd.get_dummies(dtt)\n",
    "    \n",
    "    for col in dtt.columns.values.tolist():\n",
    "        dt[col]=dtt[col]\n",
    "    dt=dt.fillna(0)\n",
    "    dt=dt[col_all]\n",
    "    y_p=clf.predict(dt)\n",
    "    dd[\"Predicted_\"+name]=y_p \n",
    "    print (\"SSSSSSSSSSSSSSSSSSSSSSSS\")\n",
    "    print(y_p)\n",
    "    df[\"Zero\"]=0\n",
    "    df.Zero=df.Zero+dd[\"Predicted_\"+name]\n",
    "    df.Zero=df.Zero.fillna(0)\n",
    "    print(\"YYYYYYYYYYYYYYY\")\n",
    "    print (df.Zero)\n",
    "    \n",
    "    print (\"ZZZZZZZZZZZZZZ\")\n",
    "    print(dd[\"Predicted_\"+name])\n",
    "\n",
    "    df.Predicted=df.Predicted+df.Zero\n",
    "    df=df.drop(\"Zero\",1)\n",
    "    return df\n",
    "\n",
    "def predict_996(df,cols):  \n",
    "    df[\"VENDOR_ONE\"]=df.VENDOR_ID.isin(v_1.VENDOR_ID)*1\n",
    "    os.chdir(r'model_996')\n",
    "    df[\"Predicted\"]=0\n",
    "    df=df.merge(v_1,on=\"VENDOR_ID\",how=\"left\")\n",
    "    df.ACCOUNT_u=df.ACCOUNT_u.fillna(0)\n",
    "    df.Predicted=df.Predicted+df.ACCOUNT_u\n",
    "    \n",
    "   \n",
    "    dt=df[~df.VENDOR_ID.isin (v_1.VENDOR_ID)][cols][df.Predicted_3=='996'][df.VENDOR_ID.astype(str).isin(dic.keys())]\n",
    "    v_list=dt.VENDOR_ID.unique()\n",
    "    print(len(v_list))\n",
    "     \n",
    "    for v in v_list:\n",
    "        df[\"Zero\"]=0\n",
    "        dt_i=dt[dt.VENDOR_ID==v]\n",
    "        dd=dt_i[[]]\n",
    "        col_all=dic[str(v)]\n",
    "        dtt=pd.DataFrame(0,index=dt_i.index,columns=col_all)\n",
    "\n",
    "        dt_i=dt_i.drop('VENDOR_ID',1)\n",
    "        dt_i=pd.get_dummies(dt_i) \n",
    "\n",
    "        for col in dt_i.columns.values.tolist():\n",
    "            dtt[col]=dt_i[col]\n",
    "\n",
    "        os.chdir(r'model'+str(v))\n",
    "        clf=joblib.load(\"model_\"+str(v)+\".sav\")\n",
    "        os.chdir(\"../\")\n",
    "        dtt=dtt[col_all]\n",
    "        y_p=clf.predict(dtt)   \n",
    "        dd[\"Predicted_996\"+str(v)]=y_p  \n",
    "        df.Zero=df.Zero+dd[\"Predicted_996\"+str(v)]\n",
    "        df.Zero=df.Zero.fillna(0)\n",
    "        df.Predicted= df.Predicted+df.Zero\n",
    "    os.chdir(\"../\")\n",
    "#     df=df.drop(\"Zero\",1)\n",
    "    df=df.drop(\"ACCOUNT_u\",1)\n",
    "    print(df.columns)\n",
    "    return df\n"
   ]
  },
  {
   "cell_type": "code",
   "execution_count": null,
   "metadata": {
    "collapsed": true,
    "deletable": true,
    "editable": true,
    "nbpresent": {
     "id": "0dabbb64-4855-4202-90c5-338c7e6d5d44"
    }
   },
   "outputs": [],
   "source": [
    "def SaveFile():\n",
    "    name=asksaveasfilename(filetypes=[('Project file', '*.xlsx'), ('All files', '*')])\n",
    "    msgi.set(msgi.get()+\"\\n\"+\"File saved at\"+name)\n",
    "    global df\n",
    "    df.to_excel(name+\".xlsx\",index=False) "
   ]
  },
  {
   "cell_type": "code",
   "execution_count": null,
   "metadata": {
    "collapsed": false,
    "deletable": true,
    "editable": true,
    "nbpresent": {
     "id": "378f370d-f0d8-452c-91c6-472ac9f65ad3"
    }
   },
   "outputs": [],
   "source": [
    "def Predict():\n",
    "    check_buttons([\"First number\",\"First 3 number\",\"Account\"])\n",
    "    global target\n",
    "    print (target)\n",
    "    global df\n",
    "    if target[2]==1:\n",
    "        msgi.set(msgi.get()+\"\\n\"+ \" Account Predicting...\")\n",
    "        predict_1(df,col_1,gg)\n",
    "        df=predict_3(df,col_3,gg3)\n",
    "       \n",
    "        df=predict_996(df,col_996)\n",
    "        df=predict_99347(df,gg_993,\"993\")\n",
    "        df=predict_99347(df,gg_997,\"997\")\n",
    "       \n",
    "\n",
    "        msgi.set(msgi.get()+\"\\n\"+ \"Prediction finished \")\n",
    "        print(df.columns)\n",
    "    if target[2]==0 and target[1]==1:\n",
    "        \n",
    "        \n",
    "        msgi.set(msgi.get()+\"\\n\"+ \"First 3 number of Account Predicting...\")\n",
    "        predict_1(df,col_1,gg)\n",
    "        df=predict_3(df,col_3,gg3)\n",
    "        msgi.set(msgi.get()+\"\\n\"+ \"Prediction finished \")\n",
    "        print(df.columns)\n",
    "    if target[2]==0 and target[1]==0:\n",
    "        \n",
    "        msgi.set(msgi.get()+\"\\n\"+ \"First number of Account Predicting...\")\n",
    "        predict_1(df,col_1,gg)\n",
    "        msgi.set(msgi.get()+\"\\n\"+ \"Prediction finished \")\n",
    "        print(\"Pre_1 over\")\n",
    "    target.clear()\n",
    "           \n",
    "#     if file.get()==\"First number\":\n",
    "#         global df\n",
    "#         predict_1(df,col_1,gg)"
   ]
  },
  {
   "cell_type": "code",
   "execution_count": null,
   "metadata": {
    "collapsed": true,
    "deletable": true,
    "editable": true,
    "nbpresent": {
     "id": "c935e7f3-45a8-4771-be70-fed0b1de3f29"
    }
   },
   "outputs": [],
   "source": [
    "def radio_buttons(option):\n",
    "    var=StringVar()\n",
    "    top=Toplevel(root)\n",
    "    def sel():\n",
    "        selection=str(var.get())\n",
    "        label.config(text=selection)\n",
    "    for item in option:\n",
    "        Radiobutton(top,text=item,variable=var,value=item,\n",
    "                   command=sel).pack(anchor=W)\n",
    "    \n",
    "    label=Label(top)\n",
    "    label.pack()\n",
    "    def callback():\n",
    "        file.set(var.get())\n",
    "        top.destroy()\n",
    "    b=Button(top,text=\"OK\",command=lambda:callback())\n",
    "    b.pack()\n",
    "    root.wait_window(top)  "
   ]
  },
  {
   "cell_type": "code",
   "execution_count": null,
   "metadata": {
    "collapsed": false,
    "nbpresent": {
     "id": "fb99d3d4-4756-4942-91a4-5fbed0be918b"
    }
   },
   "outputs": [],
   "source": [
    "# col_3"
   ]
  },
  {
   "cell_type": "code",
   "execution_count": 4,
   "metadata": {
    "collapsed": false,
    "nbpresent": {
     "id": "fea2d950-b1b8-410c-ba4e-5759955b4623"
    }
   },
   "outputs": [],
   "source": [
    "# col_996"
   ]
  },
  {
   "cell_type": "code",
   "execution_count": 5,
   "metadata": {
    "collapsed": false,
    "deletable": true,
    "editable": true,
    "nbpresent": {
     "id": "6975e24a-ce55-453c-914c-b1ca3e6a3523"
    }
   },
   "outputs": [],
   "source": [
    "def check_buttons(option):\n",
    "    top=Toplevel(root)\n",
    "    vars=[]\n",
    "    for item in option:\n",
    "        var = IntVar()\n",
    "        Checkbutton(top,text=item,\n",
    "                    variable=var).pack(anchor=W,expand=YES)\n",
    "        vars.append(var)\n",
    "    def callback():\n",
    "        for i in vars:\n",
    "            global target\n",
    "            target.append(i.get())\n",
    "        file.set(vars[0])\n",
    "        top.destroy()\n",
    "    b=Button(top,text='OK',command=lambda: callback())\n",
    "    b.pack(expand=YES)\n",
    "    root.wait_window(top)   "
   ]
  },
  {
   "cell_type": "code",
   "execution_count": 6,
   "metadata": {
    "collapsed": false,
    "deletable": true,
    "editable": true,
    "nbpresent": {
     "id": "98d58736-5661-417d-956a-3278dfe515cf"
    }
   },
   "outputs": [],
   "source": [
    "def OpenFile():\n",
    "    name = askopenfilename(initialdir=\"C:/Users/A458497/desktop\",\n",
    "                           filetypes =((\"Excel File\", \"*.xlsx\"),(\"All Files\",\"*.*\")),\n",
    "                           title = \"Choose a file.\")\n",
    "    try:\n",
    "        print (name)\n",
    "        msgi.set(\"File import from :\"+name)\n",
    "    except:\n",
    "        print(\"No file exists\")   \n",
    "    def read(name):\n",
    "        print(\"Reading\")\n",
    "        print(name)\n",
    "        global xl\n",
    "        xl=pd.ExcelFile(name)    \n",
    "        print (\"over\")\n",
    "        \n",
    "    progress_bar(read(name)) \n",
    "    radio_buttons(xl.sheet_names)   \n",
    "    def parse():\n",
    "        global df\n",
    "        df=xl.parse(file.get())\n",
    "        df=df.fillna(0)\n",
    "       \n",
    "        df.MONETARY_AMOUNT=df.MONETARY_AMOUNT.astype(float32)\n",
    "        df.VAT_INV_AMT_GL=df.VAT_INV_AMT_GL.astype(float32)\n",
    "        \n",
    "    progress_bar(parse)\n",
    "    msgi.set(msgi.get()+'\\n'+\"Import file finish\")"
   ]
  },
  {
   "cell_type": "code",
   "execution_count": 7,
   "metadata": {
    "collapsed": true,
    "nbpresent": {
     "id": "e3973a27-6b4a-4ffa-a46c-444c10f56c29"
    }
   },
   "outputs": [],
   "source": [
    " from numpy import float32"
   ]
  },
  {
   "cell_type": "code",
   "execution_count": 8,
   "metadata": {
    "collapsed": false,
    "deletable": true,
    "editable": true,
    "nbpresent": {
     "id": "4623419d-e9d8-46fa-b125-eb86895f14cb"
    },
    "scrolled": false
   },
   "outputs": [
    {
     "ename": "NameError",
     "evalue": "name 'Predict' is not defined",
     "output_type": "error",
     "traceback": [
      "\u001b[1;31m---------------------------------------------------------------------------\u001b[0m",
      "\u001b[1;31mNameError\u001b[0m                                 Traceback (most recent call last)",
      "\u001b[1;32m<ipython-input-8-fc479a501987>\u001b[0m in \u001b[0;36m<module>\u001b[1;34m()\u001b[0m\n\u001b[0;32m     15\u001b[0m \u001b[1;31m# b1.pack()\u001b[0m\u001b[1;33m\u001b[0m\u001b[1;33m\u001b[0m\u001b[0m\n\u001b[0;32m     16\u001b[0m \u001b[1;33m\u001b[0m\u001b[0m\n\u001b[1;32m---> 17\u001b[1;33m \u001b[0mb2\u001b[0m \u001b[1;33m=\u001b[0m \u001b[0mButton\u001b[0m\u001b[1;33m(\u001b[0m\u001b[0mroot\u001b[0m\u001b[1;33m,\u001b[0m \u001b[0mtext\u001b[0m\u001b[1;33m=\u001b[0m\u001b[1;34m\"PREDICTION\"\u001b[0m\u001b[1;33m,\u001b[0m\u001b[0mheight\u001b[0m \u001b[1;33m=\u001b[0m \u001b[1;36m2\u001b[0m\u001b[1;33m,\u001b[0m \u001b[0mwidth\u001b[0m \u001b[1;33m=\u001b[0m\u001b[1;36m12\u001b[0m\u001b[1;33m,\u001b[0m \u001b[0mcommand\u001b[0m\u001b[1;33m=\u001b[0m\u001b[0mPredict\u001b[0m\u001b[1;33m)\u001b[0m\u001b[1;33m\u001b[0m\u001b[0m\n\u001b[0m\u001b[0;32m     18\u001b[0m \u001b[0mb2\u001b[0m\u001b[1;33m.\u001b[0m\u001b[0mplace\u001b[0m\u001b[1;33m(\u001b[0m\u001b[0mx\u001b[0m\u001b[1;33m=\u001b[0m\u001b[1;36m50\u001b[0m\u001b[1;33m,\u001b[0m\u001b[0my\u001b[0m\u001b[1;33m=\u001b[0m\u001b[1;36m130\u001b[0m\u001b[1;33m)\u001b[0m\u001b[1;33m\u001b[0m\u001b[0m\n\u001b[0;32m     19\u001b[0m \u001b[1;33m\u001b[0m\u001b[0m\n",
      "\u001b[1;31mNameError\u001b[0m: name 'Predict' is not defined"
     ]
    }
   ],
   "source": [
    "global target\n",
    "target=[]\n",
    "root = Tk(  )\n",
    "root.geometry('{}x{}'.format(600, 400))\n",
    "\n",
    "file=StringVar()\n",
    "df=pd.DataFrame()\n",
    "\n",
    "Title = root.title( \"Account Prediction\")\n",
    "label = ttk.Label(root, text =\"ACCOUNT Prediction\",foreground=\"Black\",font=(\"Helvetica\", 16))\n",
    "label.pack()\n",
    "\n",
    "b1 = Button(root, text=\"IMPORT\",height = 2, width =12,command=OpenFile)\n",
    "b1.place(x=50,y=80)\n",
    "# b1.pack()\n",
    "\n",
    "b2 = Button(root, text=\"PREDICTION\",height = 2, width =12, command=Predict)\n",
    "b2.place(x=50,y=130)\n",
    "\n",
    "b3 = Button(root, text=\"DOWNLOAD\",height = 2, width =12, command=SaveFile)\n",
    "b3.place(x=50,y=180)\n",
    "\n",
    "msgi = StringVar()\n",
    "msg=Message(root,textvariable = msgi,width =250)\n",
    "msg.place(x=220,y=90)\n",
    "\n",
    "# pgb=Progressbar(root, orient=HORIZONTAL, length=600, mode='determinate')\n",
    "# pgb.pack(side=\"bottom\")\n",
    "\n",
    "l = ttk.Label(root, text =\"Information\",foreground=\"Black\")\n",
    "l.place(x=280,y=70)\n",
    "\n",
    " \n",
    "# msg = Message(root, textvariable = msgi)\n",
    "# msg.config(bg='#EDE8E8', font=('times'))\n",
    "# msg.place(x=200,y=80)\n",
    "\n",
    "copy = ttk.Label(root, text =\"copyright\",foreground=\"Black\")\n",
    "copy.pack(side=\"bottom\")\n",
    "\n",
    "pgb=Progressbar(root, orient=HORIZONTAL, length=600, mode='determinate')\n",
    "pgb.place(x=0,y=360)\n",
    "\n",
    "root.mainloop()"
   ]
  },
  {
   "cell_type": "code",
   "execution_count": null,
   "metadata": {
    "collapsed": true,
    "nbpresent": {
     "id": "070224d4-1bdb-44d4-bda3-f8be99933efb"
    }
   },
   "outputs": [],
   "source": []
  },
  {
   "cell_type": "code",
   "execution_count": null,
   "metadata": {
    "collapsed": false,
    "nbpresent": {
     "id": "c0835eb4-da62-4c86-9667-b6bc2c3b1e8b"
    }
   },
   "outputs": [],
   "source": [
    "cd"
   ]
  },
  {
   "cell_type": "code",
   "execution_count": 176,
   "metadata": {
    "collapsed": true,
    "nbpresent": {
     "id": "816e6980-0d93-48ad-96ae-79f11162973c"
    }
   },
   "outputs": [],
   "source": [
    "global df"
   ]
  },
  {
   "cell_type": "code",
   "execution_count": 168,
   "metadata": {
    "collapsed": false,
    "nbpresent": {
     "id": "dac075e3-13fe-446a-9ccc-d881032ba097"
    }
   },
   "outputs": [
    {
     "name": "stdout",
     "output_type": "stream",
     "text": [
      "C:\\Users\\A458497\\desktop\n"
     ]
    }
   ],
   "source": [
    "cd desktop"
   ]
  },
  {
   "cell_type": "code",
   "execution_count": 169,
   "metadata": {
    "collapsed": false,
    "nbpresent": {
     "id": "9a826d2e-f991-42fc-8a97-77224b153706"
    }
   },
   "outputs": [
    {
     "name": "stdout",
     "output_type": "stream",
     "text": [
      "C:\\Users\\A458497\\desktop\\compte_pre\n"
     ]
    }
   ],
   "source": [
    "cd compte_pre"
   ]
  }
 ],
 "metadata": {
  "anaconda-cloud": {},
  "kernelspec": {
   "display_name": "Python [Root]",
   "language": "python",
   "name": "Python [Root]"
  },
  "language_info": {
   "codemirror_mode": {
    "name": "ipython",
    "version": 3
   },
   "file_extension": ".py",
   "mimetype": "text/x-python",
   "name": "python",
   "nbconvert_exporter": "python",
   "pygments_lexer": "ipython3",
   "version": "3.5.2"
  },
  "nbpresent": {
   "slides": {
    "125dcc8b-3abb-49b0-8f0e-984a01132e49": {
     "id": "125dcc8b-3abb-49b0-8f0e-984a01132e49",
     "prev": "d3972350-fe11-4dd1-ade8-c09698a72d1c",
     "regions": {
      "3bf369e5-e52a-4421-9aa6-6c9dbcf250e1": {
       "attrs": {
        "height": 0.8,
        "width": 0.8,
        "x": 0.1,
        "y": 0.1
       },
       "content": {
        "cell": "4623419d-e9d8-46fa-b125-eb86895f14cb",
        "part": "whole"
       },
       "id": "3bf369e5-e52a-4421-9aa6-6c9dbcf250e1"
      }
     }
    },
    "13c4f9d8-8988-4cfb-9421-c768134ca09a": {
     "id": "13c4f9d8-8988-4cfb-9421-c768134ca09a",
     "prev": "8dc8a3cf-e0aa-46c8-bc9c-c6c870a2b428",
     "regions": {
      "d8c6dfb5-5192-49ff-bf78-8be45df6d89d": {
       "attrs": {
        "height": 0.8,
        "width": 0.8,
        "x": 0.1,
        "y": 0.1
       },
       "content": {
        "cell": "c935e7f3-45a8-4771-be70-fed0b1de3f29",
        "part": "whole"
       },
       "id": "d8c6dfb5-5192-49ff-bf78-8be45df6d89d"
      }
     }
    },
    "2b581cfa-574b-4afe-bc87-76428cf2fdf0": {
     "id": "2b581cfa-574b-4afe-bc87-76428cf2fdf0",
     "prev": "4b49432f-bfbe-436e-8bb4-63cae7591ce8",
     "regions": {
      "23a0a2db-041f-4dfd-bfca-ef701fd229b9": {
       "attrs": {
        "height": 0.8,
        "width": 0.8,
        "x": 0.1,
        "y": 0.1
       },
       "content": {
        "cell": "fea2d950-b1b8-410c-ba4e-5759955b4623",
        "part": "whole"
       },
       "id": "23a0a2db-041f-4dfd-bfca-ef701fd229b9"
      }
     }
    },
    "4b49432f-bfbe-436e-8bb4-63cae7591ce8": {
     "id": "4b49432f-bfbe-436e-8bb4-63cae7591ce8",
     "prev": "13c4f9d8-8988-4cfb-9421-c768134ca09a",
     "regions": {
      "796e67a3-d963-4faf-8f9e-d0e542765d05": {
       "attrs": {
        "height": 0.8,
        "width": 0.8,
        "x": 0.1,
        "y": 0.1
       },
       "content": {
        "cell": "fb99d3d4-4756-4942-91a4-5fbed0be918b",
        "part": "whole"
       },
       "id": "796e67a3-d963-4faf-8f9e-d0e542765d05"
      }
     }
    },
    "58760229-ed2e-490a-bb13-7a0814508aad": {
     "id": "58760229-ed2e-490a-bb13-7a0814508aad",
     "prev": null,
     "regions": {
      "ce1eda7c-945f-4705-a706-b64a192b7825": {
       "attrs": {
        "height": 0.8,
        "width": 0.8,
        "x": 0.1,
        "y": 0.1
       },
       "content": {
        "cell": "ae3baf1f-b03a-4c98-bea8-c0865f0072c5",
        "part": "whole"
       },
       "id": "ce1eda7c-945f-4705-a706-b64a192b7825"
      }
     }
    },
    "825f55f6-0be5-4d20-86de-3e36df384519": {
     "id": "825f55f6-0be5-4d20-86de-3e36df384519",
     "prev": "2b581cfa-574b-4afe-bc87-76428cf2fdf0",
     "regions": {
      "dac75c4f-9a8c-45ea-98f2-41e499409e75": {
       "attrs": {
        "height": 0.8,
        "width": 0.8,
        "x": 0.1,
        "y": 0.1
       },
       "content": {
        "cell": "6975e24a-ce55-453c-914c-b1ca3e6a3523",
        "part": "whole"
       },
       "id": "dac75c4f-9a8c-45ea-98f2-41e499409e75"
      }
     }
    },
    "86476f96-a85d-4909-8712-526869662316": {
     "id": "86476f96-a85d-4909-8712-526869662316",
     "prev": "fd14a987-69e2-4f9b-a380-de3380a971d1",
     "regions": {
      "deec2660-eee5-46c5-94c7-b242063f1f48": {
       "attrs": {
        "height": 0.8,
        "width": 0.8,
        "x": 0.1,
        "y": 0.1
       },
       "content": {
        "cell": "dac075e3-13fe-446a-9ccc-d881032ba097",
        "part": "whole"
       },
       "id": "deec2660-eee5-46c5-94c7-b242063f1f48"
      }
     }
    },
    "8dc8a3cf-e0aa-46c8-bc9c-c6c870a2b428": {
     "id": "8dc8a3cf-e0aa-46c8-bc9c-c6c870a2b428",
     "prev": "cfb40533-1750-495a-a4f4-e7086aa2fb9c",
     "regions": {
      "4634bc9d-4762-4fc3-a37f-6455385fb2b7": {
       "attrs": {
        "height": 0.8,
        "width": 0.8,
        "x": 0.1,
        "y": 0.1
       },
       "content": {
        "cell": "378f370d-f0d8-452c-91c6-472ac9f65ad3",
        "part": "whole"
       },
       "id": "4634bc9d-4762-4fc3-a37f-6455385fb2b7"
      }
     }
    },
    "a0a6104e-9f16-4f67-b9da-a06911d214db": {
     "id": "a0a6104e-9f16-4f67-b9da-a06911d214db",
     "prev": "58760229-ed2e-490a-bb13-7a0814508aad",
     "regions": {
      "93464e05-ff15-44f8-9509-846165ac95db": {
       "attrs": {
        "height": 0.8,
        "width": 0.8,
        "x": 0.1,
        "y": 0.1
       },
       "content": {
        "cell": "07de61b8-f192-4882-b504-1d20adf7200f",
        "part": "whole"
       },
       "id": "93464e05-ff15-44f8-9509-846165ac95db"
      }
     }
    },
    "a54beb20-498a-4aae-b721-ca4312dcd4f6": {
     "id": "a54beb20-498a-4aae-b721-ca4312dcd4f6",
     "prev": "825f55f6-0be5-4d20-86de-3e36df384519",
     "regions": {
      "1457c7d6-0a85-42b2-bd32-38ab0ccdaa1f": {
       "attrs": {
        "height": 0.8,
        "width": 0.8,
        "x": 0.1,
        "y": 0.1
       },
       "content": {
        "cell": "98d58736-5661-417d-956a-3278dfe515cf",
        "part": "whole"
       },
       "id": "1457c7d6-0a85-42b2-bd32-38ab0ccdaa1f"
      }
     }
    },
    "b333e894-2534-4b49-892a-253e7b73e6e0": {
     "id": "b333e894-2534-4b49-892a-253e7b73e6e0",
     "prev": "c3c956ff-bd80-4b92-a522-77f7d0dc0b17",
     "regions": {
      "da828f18-317d-415d-8964-5aa7a2c39387": {
       "attrs": {
        "height": 0.8,
        "width": 0.8,
        "x": 0.1,
        "y": 0.1
       },
       "content": {
        "cell": "fe6191f8-6191-4967-9969-bcf70c36690e",
        "part": "whole"
       },
       "id": "da828f18-317d-415d-8964-5aa7a2c39387"
      }
     }
    },
    "c3c956ff-bd80-4b92-a522-77f7d0dc0b17": {
     "id": "c3c956ff-bd80-4b92-a522-77f7d0dc0b17",
     "prev": "a0a6104e-9f16-4f67-b9da-a06911d214db",
     "regions": {
      "efbb70c5-3456-499b-8081-a89295f95f2f": {
       "attrs": {
        "height": 0.8,
        "width": 0.8,
        "x": 0.1,
        "y": 0.1
       },
       "content": {
        "cell": "e6a5ea0c-7e7f-4b35-962a-01e2881a020e",
        "part": "whole"
       },
       "id": "efbb70c5-3456-499b-8081-a89295f95f2f"
      }
     }
    },
    "c6e64772-b801-4f30-a95e-f3e756e19ac7": {
     "id": "c6e64772-b801-4f30-a95e-f3e756e19ac7",
     "prev": "86476f96-a85d-4909-8712-526869662316",
     "regions": {
      "84f13f64-42d4-465f-baf4-ddb1fe9ef7c7": {
       "attrs": {
        "height": 0.8,
        "width": 0.8,
        "x": 0.1,
        "y": 0.1
       },
       "content": {
        "cell": "9a826d2e-f991-42fc-8a97-77224b153706",
        "part": "whole"
       },
       "id": "84f13f64-42d4-465f-baf4-ddb1fe9ef7c7"
      }
     }
    },
    "cc62a035-27bd-46ea-b0c1-25fb71d2d58a": {
     "id": "cc62a035-27bd-46ea-b0c1-25fb71d2d58a",
     "prev": "125dcc8b-3abb-49b0-8f0e-984a01132e49",
     "regions": {
      "d6923520-22eb-4c31-8d79-d1c5a2d7b758": {
       "attrs": {
        "height": 0.8,
        "width": 0.8,
        "x": 0.1,
        "y": 0.1
       },
       "content": {
        "cell": "070224d4-1bdb-44d4-bda3-f8be99933efb",
        "part": "whole"
       },
       "id": "d6923520-22eb-4c31-8d79-d1c5a2d7b758"
      }
     }
    },
    "cfb40533-1750-495a-a4f4-e7086aa2fb9c": {
     "id": "cfb40533-1750-495a-a4f4-e7086aa2fb9c",
     "prev": "fc349428-493a-4ac6-88ed-6f483e6edf9d",
     "regions": {
      "8427e352-ed7b-4e0e-9ce6-a5b49c72e052": {
       "attrs": {
        "height": 0.8,
        "width": 0.8,
        "x": 0.1,
        "y": 0.1
       },
       "content": {
        "cell": "0dabbb64-4855-4202-90c5-338c7e6d5d44",
        "part": "whole"
       },
       "id": "8427e352-ed7b-4e0e-9ce6-a5b49c72e052"
      }
     }
    },
    "d3972350-fe11-4dd1-ade8-c09698a72d1c": {
     "id": "d3972350-fe11-4dd1-ade8-c09698a72d1c",
     "prev": "a54beb20-498a-4aae-b721-ca4312dcd4f6",
     "regions": {
      "25d607ac-6a81-49a0-afe2-bad930e76c35": {
       "attrs": {
        "height": 0.8,
        "width": 0.8,
        "x": 0.1,
        "y": 0.1
       },
       "content": {
        "cell": "e3973a27-6b4a-4ffa-a46c-444c10f56c29",
        "part": "whole"
       },
       "id": "25d607ac-6a81-49a0-afe2-bad930e76c35"
      }
     }
    },
    "d52ecf52-a2d7-4a11-9492-9ae4c4650d13": {
     "id": "d52ecf52-a2d7-4a11-9492-9ae4c4650d13",
     "prev": "cc62a035-27bd-46ea-b0c1-25fb71d2d58a",
     "regions": {
      "e9df28cd-a97b-4f7d-83c2-59e44292206f": {
       "attrs": {
        "height": 0.8,
        "width": 0.8,
        "x": 0.1,
        "y": 0.1
       },
       "content": {
        "cell": "c0835eb4-da62-4c86-9667-b6bc2c3b1e8b",
        "part": "whole"
       },
       "id": "e9df28cd-a97b-4f7d-83c2-59e44292206f"
      }
     }
    },
    "fc349428-493a-4ac6-88ed-6f483e6edf9d": {
     "id": "fc349428-493a-4ac6-88ed-6f483e6edf9d",
     "prev": "b333e894-2534-4b49-892a-253e7b73e6e0",
     "regions": {
      "efe7ce18-7de7-4512-b1d5-ecf20816293b": {
       "attrs": {
        "height": 0.8,
        "width": 0.8,
        "x": 0.1,
        "y": 0.1
       },
       "content": {
        "cell": "00399c7e-75ef-4418-bdbe-89fa679e25f2",
        "part": "whole"
       },
       "id": "efe7ce18-7de7-4512-b1d5-ecf20816293b"
      }
     }
    },
    "fd14a987-69e2-4f9b-a380-de3380a971d1": {
     "id": "fd14a987-69e2-4f9b-a380-de3380a971d1",
     "prev": "d52ecf52-a2d7-4a11-9492-9ae4c4650d13",
     "regions": {
      "675b96cf-8b76-4dd6-a763-51c531c3d586": {
       "attrs": {
        "height": 0.8,
        "width": 0.8,
        "x": 0.1,
        "y": 0.1
       },
       "content": {
        "cell": "816e6980-0d93-48ad-96ae-79f11162973c",
        "part": "whole"
       },
       "id": "675b96cf-8b76-4dd6-a763-51c531c3d586"
      }
     }
    }
   },
   "themes": {}
  }
 },
 "nbformat": 4,
 "nbformat_minor": 2
}
