{
 "cells": [
  {
   "cell_type": "code",
   "execution_count": 15,
   "metadata": {
    "collapsed": false,
    "nbpresent": {
     "id": "2e50c493-0b46-4cb1-af2f-6e89b878e463"
    }
   },
   "outputs": [],
   "source": [
    "###### \n",
    "%matplotlib inline\n",
    "import matplotlib\n",
    "import numpy as np\n",
    "import matplotlib.pyplot as plt\n",
    "from sklearn.ensemble import RandomForestClassifier \n",
    "from sklearn import cluster\n",
    "import pandas as pd\n",
    "import copy"
   ]
  },
  {
   "cell_type": "code",
   "execution_count": 16,
   "metadata": {
    "collapsed": true,
    "nbpresent": {
     "id": "f0dab568-017c-4bd1-98ec-aa4e51946731"
    }
   },
   "outputs": [],
   "source": [
    "from sklearn.cross_validation import train_test_split\n",
    "from sklearn.ensemble import RandomForestClassifier\n",
    "from sklearn.externals import joblib\n",
    "from sklearn.utils import resample,shuffle\n",
    "from sklearn.cross_validation import cross_val_score\n",
    "import itertools"
   ]
  },
  {
   "cell_type": "code",
   "execution_count": null,
   "metadata": {
    "collapsed": true
   },
   "outputs": [],
   "source": []
  },
  {
   "cell_type": "markdown",
   "metadata": {
    "nbpresent": {
     "id": "bfbe9da7-7f5d-410f-b595-ba1e3c7e97c2"
    }
   },
   "source": [
    "### 1. Load Data"
   ]
  },
  {
   "cell_type": "code",
   "execution_count": 5,
   "metadata": {
    "collapsed": false,
    "nbpresent": {
     "id": "76b09d8f-f13e-4871-85aa-cdeb23c52b07"
    }
   },
   "outputs": [
    {
     "name": "stdout",
     "output_type": "stream",
     "text": [
      "C:\\Users\\A458497\n"
     ]
    }
   ],
   "source": [
    "# cd\n",
    "# cd desktop"
   ]
  },
  {
   "cell_type": "code",
   "execution_count": 91,
   "metadata": {
    "collapsed": false
   },
   "outputs": [
    {
     "name": "stdout",
     "output_type": "stream",
     "text": [
      "C:\\Users\\A458497\n"
     ]
    }
   ],
   "source": [
    "cd"
   ]
  },
  {
   "cell_type": "code",
   "execution_count": 92,
   "metadata": {
    "collapsed": false
   },
   "outputs": [
    {
     "name": "stdout",
     "output_type": "stream",
     "text": [
      "C:\\Users\\A458497\\desktop\n"
     ]
    }
   ],
   "source": [
    "cd desktop"
   ]
  },
  {
   "cell_type": "markdown",
   "metadata": {
    "nbpresent": {
     "id": "842d5720-7e00-437a-917e-b4a559a129f7"
    }
   },
   "source": [
    "#### 1.1 Business_Unit-Filial"
   ]
  },
  {
   "cell_type": "code",
   "execution_count": 20,
   "metadata": {
    "collapsed": true,
    "nbpresent": {
     "id": "5d8ae2ab-7968-4d7f-b4bf-07c4ac85cea2"
    }
   },
   "outputs": [],
   "source": [
    "xl_bu=pd.ExcelFile(\"BU_hier.xlsx\")\n",
    "bu_hier=xl_bu.parse('Sheet1')\n",
    "bu_hier[\"fil\"]=pd.DataFrame([str(i)[:3] for i in bu_hier.Column6])"
   ]
  },
  {
   "cell_type": "code",
   "execution_count": 24,
   "metadata": {
    "collapsed": false
   },
   "outputs": [
    {
     "data": {
      "text/plain": [
       "105"
      ]
     },
     "execution_count": 24,
     "metadata": {},
     "output_type": "execute_result"
    }
   ],
   "source": [
    "bu_hier.shape[0]"
   ]
  },
  {
   "cell_type": "code",
   "execution_count": 10,
   "metadata": {
    "collapsed": false,
    "nbpresent": {
     "id": "3b5227cf-504f-46ca-844e-777958855122"
    }
   },
   "outputs": [
    {
     "data": {
      "text/plain": [
       "Index(['Column6', 'SSC', 'Région', 'Pole', 'BUSINESS_UNIT', 'DESCR BU', 'fil'], dtype='object')"
      ]
     },
     "execution_count": 10,
     "metadata": {},
     "output_type": "execute_result"
    }
   ],
   "source": [
    "bu_hier.columns"
   ]
  },
  {
   "cell_type": "code",
   "execution_count": 11,
   "metadata": {
    "collapsed": false,
    "nbpresent": {
     "id": "26f7e322-389b-414e-8a63-6df96a855955"
    }
   },
   "outputs": [],
   "source": [
    "bu_fil=bu_hier[[\"BUSINESS_UNIT\",\"fil\"]][bu_hier.fil=='Fil'].drop_duplicates()\n",
    "bu_fil.fil=1"
   ]
  },
  {
   "cell_type": "markdown",
   "metadata": {
    "collapsed": false,
    "nbpresent": {
     "id": "3ed1f252-460b-40b9-b80a-7408414246e3"
    }
   },
   "source": [
    "#### 1.2 Train data"
   ]
  },
  {
   "cell_type": "code",
   "execution_count": 142,
   "metadata": {
    "collapsed": false
   },
   "outputs": [
    {
     "name": "stdout",
     "output_type": "stream",
     "text": [
      "C:\\Users\\A458497\\desktop\n"
     ]
    }
   ],
   "source": [
    "cd desktop"
   ]
  },
  {
   "cell_type": "code",
   "execution_count": 143,
   "metadata": {
    "collapsed": false,
    "nbpresent": {
     "id": "736d9a1c-4bd3-4ab2-afe6-0ad76221aa26"
    }
   },
   "outputs": [],
   "source": [
    "xl=pd.ExcelFile(\"facture_comptabilisées_BEX_062016_042017_v2.xlsx\")\n",
    "df=xl.parse('Sheet 1')\n",
    "\n",
    "df['c1']=pd.DataFrame([str(i)[:1] for i in df.ACCOUNT])\n",
    "df['c3']=pd.DataFrame([str(i)[:3] for i in df.ACCOUNT])\n"
   ]
  },
  {
   "cell_type": "code",
   "execution_count": 144,
   "metadata": {
    "collapsed": true
   },
   "outputs": [],
   "source": [
    "df[\"count\"]=1\n",
    "df=df[~df.ACCOUNT.isnull()]"
   ]
  },
  {
   "cell_type": "code",
   "execution_count": null,
   "metadata": {
    "collapsed": true
   },
   "outputs": [],
   "source": [
    "df=df[~df.ACCOUNT.isnull()]"
   ]
  },
  {
   "cell_type": "code",
   "execution_count": 138,
   "metadata": {
    "collapsed": true
   },
   "outputs": [],
   "source": [
    "df['c3']=pd.DataFrame([str(i) for i in df.ACCOUNT])"
   ]
  },
  {
   "cell_type": "code",
   "execution_count": 145,
   "metadata": {
    "collapsed": false,
    "scrolled": true
   },
   "outputs": [
    {
     "data": {
      "text/html": [
       "<div>\n",
       "<table border=\"1\" class=\"dataframe\">\n",
       "  <thead>\n",
       "    <tr style=\"text-align: right;\">\n",
       "      <th></th>\n",
       "      <th>BUSINESS_UNIT</th>\n",
       "      <th>VENDOR_SETID</th>\n",
       "      <th>VENDOR_ID</th>\n",
       "      <th>MONETARY_AMOUNT</th>\n",
       "      <th>VAT_INV_AMT_GL</th>\n",
       "      <th>CURRENCY_CD</th>\n",
       "      <th>ASSET_FLG</th>\n",
       "      <th>VOUCHER_ID</th>\n",
       "      <th>VOUCHER_LINE_NUM</th>\n",
       "      <th>DISTRIB_LINE_NUM</th>\n",
       "      <th>...</th>\n",
       "      <th>VAT_SERVICE_TYPE</th>\n",
       "      <th>ACCOUNT</th>\n",
       "      <th>ALTACCT</th>\n",
       "      <th>TAX_CD_VAT</th>\n",
       "      <th>DESCR</th>\n",
       "      <th>VNDR_FIELD_C30_J</th>\n",
       "      <th>ACTIVE_FLG</th>\n",
       "      <th>c1</th>\n",
       "      <th>c3</th>\n",
       "      <th>count</th>\n",
       "    </tr>\n",
       "  </thead>\n",
       "  <tbody>\n",
       "    <tr>\n",
       "      <th>2608</th>\n",
       "      <td>IT001</td>\n",
       "      <td>FR001</td>\n",
       "      <td>4</td>\n",
       "      <td>8783.89</td>\n",
       "      <td>1577.00</td>\n",
       "      <td>EUR</td>\n",
       "      <td>N</td>\n",
       "      <td>10760101</td>\n",
       "      <td>1</td>\n",
       "      <td>1</td>\n",
       "      <td>...</td>\n",
       "      <td>2.0</td>\n",
       "      <td>99652371.0</td>\n",
       "      <td>NaN</td>\n",
       "      <td>FRNOR</td>\n",
       "      <td>PRESTA.INFORMATIQUES ATG - HTR</td>\n",
       "      <td>2.100000e+09</td>\n",
       "      <td>N</td>\n",
       "      <td>9</td>\n",
       "      <td>996</td>\n",
       "      <td>1</td>\n",
       "    </tr>\n",
       "    <tr>\n",
       "      <th>2630</th>\n",
       "      <td>IT001</td>\n",
       "      <td>FR001</td>\n",
       "      <td>4</td>\n",
       "      <td>9134.80</td>\n",
       "      <td>1640.00</td>\n",
       "      <td>EUR</td>\n",
       "      <td>N</td>\n",
       "      <td>10760105</td>\n",
       "      <td>1</td>\n",
       "      <td>1</td>\n",
       "      <td>...</td>\n",
       "      <td>2.0</td>\n",
       "      <td>99652371.0</td>\n",
       "      <td>NaN</td>\n",
       "      <td>FRNOR</td>\n",
       "      <td>PRESTA.INFORMATIQUES ATG - HTR</td>\n",
       "      <td>2.100000e+09</td>\n",
       "      <td>N</td>\n",
       "      <td>9</td>\n",
       "      <td>996</td>\n",
       "      <td>1</td>\n",
       "    </tr>\n",
       "    <tr>\n",
       "      <th>2644</th>\n",
       "      <td>IT001</td>\n",
       "      <td>FR001</td>\n",
       "      <td>4</td>\n",
       "      <td>8689.20</td>\n",
       "      <td>1560.00</td>\n",
       "      <td>EUR</td>\n",
       "      <td>N</td>\n",
       "      <td>10760106</td>\n",
       "      <td>1</td>\n",
       "      <td>1</td>\n",
       "      <td>...</td>\n",
       "      <td>2.0</td>\n",
       "      <td>99640012.0</td>\n",
       "      <td>NaN</td>\n",
       "      <td>FRNOR</td>\n",
       "      <td>NaN</td>\n",
       "      <td>2.100000e+09</td>\n",
       "      <td>N</td>\n",
       "      <td>9</td>\n",
       "      <td>996</td>\n",
       "      <td>1</td>\n",
       "    </tr>\n",
       "    <tr>\n",
       "      <th>18738</th>\n",
       "      <td>DF001</td>\n",
       "      <td>FR001</td>\n",
       "      <td>4</td>\n",
       "      <td>398482.55</td>\n",
       "      <td>71540.85</td>\n",
       "      <td>EUR</td>\n",
       "      <td>N</td>\n",
       "      <td>00001268</td>\n",
       "      <td>1</td>\n",
       "      <td>1</td>\n",
       "      <td>...</td>\n",
       "      <td>2.0</td>\n",
       "      <td>99645276.0</td>\n",
       "      <td>NaN</td>\n",
       "      <td>FRNOR</td>\n",
       "      <td>NaN</td>\n",
       "      <td>2.100000e+09</td>\n",
       "      <td>N</td>\n",
       "      <td>9</td>\n",
       "      <td>996</td>\n",
       "      <td>1</td>\n",
       "    </tr>\n",
       "    <tr>\n",
       "      <th>18740</th>\n",
       "      <td>IT001</td>\n",
       "      <td>FR001</td>\n",
       "      <td>4</td>\n",
       "      <td>23042.10</td>\n",
       "      <td>4136.82</td>\n",
       "      <td>EUR</td>\n",
       "      <td>N</td>\n",
       "      <td>00000636</td>\n",
       "      <td>1</td>\n",
       "      <td>1</td>\n",
       "      <td>...</td>\n",
       "      <td>2.0</td>\n",
       "      <td>99645276.0</td>\n",
       "      <td>NaN</td>\n",
       "      <td>FRNOR</td>\n",
       "      <td>NaN</td>\n",
       "      <td>2.100000e+09</td>\n",
       "      <td>N</td>\n",
       "      <td>9</td>\n",
       "      <td>996</td>\n",
       "      <td>1</td>\n",
       "    </tr>\n",
       "    <tr>\n",
       "      <th>18741</th>\n",
       "      <td>IT001</td>\n",
       "      <td>FR001</td>\n",
       "      <td>4</td>\n",
       "      <td>4.42</td>\n",
       "      <td>0.79</td>\n",
       "      <td>EUR</td>\n",
       "      <td>N</td>\n",
       "      <td>00000637</td>\n",
       "      <td>1</td>\n",
       "      <td>1</td>\n",
       "      <td>...</td>\n",
       "      <td>2.0</td>\n",
       "      <td>99645276.0</td>\n",
       "      <td>NaN</td>\n",
       "      <td>FRNOR</td>\n",
       "      <td>NaN</td>\n",
       "      <td>2.100000e+09</td>\n",
       "      <td>N</td>\n",
       "      <td>9</td>\n",
       "      <td>996</td>\n",
       "      <td>1</td>\n",
       "    </tr>\n",
       "    <tr>\n",
       "      <th>18744</th>\n",
       "      <td>IT001</td>\n",
       "      <td>FR001</td>\n",
       "      <td>4</td>\n",
       "      <td>873.09</td>\n",
       "      <td>156.75</td>\n",
       "      <td>EUR</td>\n",
       "      <td>N</td>\n",
       "      <td>00000639</td>\n",
       "      <td>1</td>\n",
       "      <td>1</td>\n",
       "      <td>...</td>\n",
       "      <td>2.0</td>\n",
       "      <td>99645276.0</td>\n",
       "      <td>NaN</td>\n",
       "      <td>FRNOR</td>\n",
       "      <td>NaN</td>\n",
       "      <td>2.100000e+09</td>\n",
       "      <td>N</td>\n",
       "      <td>9</td>\n",
       "      <td>996</td>\n",
       "      <td>1</td>\n",
       "    </tr>\n",
       "    <tr>\n",
       "      <th>26715</th>\n",
       "      <td>DF001</td>\n",
       "      <td>FR001</td>\n",
       "      <td>4</td>\n",
       "      <td>16.70</td>\n",
       "      <td>3.00</td>\n",
       "      <td>EUR</td>\n",
       "      <td>N</td>\n",
       "      <td>10787059</td>\n",
       "      <td>1</td>\n",
       "      <td>1</td>\n",
       "      <td>...</td>\n",
       "      <td>2.0</td>\n",
       "      <td>99645276.0</td>\n",
       "      <td>NaN</td>\n",
       "      <td>FRNOR</td>\n",
       "      <td>NaN</td>\n",
       "      <td>2.100000e+09</td>\n",
       "      <td>N</td>\n",
       "      <td>9</td>\n",
       "      <td>996</td>\n",
       "      <td>1</td>\n",
       "    </tr>\n",
       "    <tr>\n",
       "      <th>37872</th>\n",
       "      <td>IT001</td>\n",
       "      <td>FR001</td>\n",
       "      <td>4</td>\n",
       "      <td>20728.54</td>\n",
       "      <td>3721.46</td>\n",
       "      <td>EUR</td>\n",
       "      <td>N</td>\n",
       "      <td>00000682</td>\n",
       "      <td>1</td>\n",
       "      <td>1</td>\n",
       "      <td>...</td>\n",
       "      <td>2.0</td>\n",
       "      <td>99645276.0</td>\n",
       "      <td>NaN</td>\n",
       "      <td>FRNOR</td>\n",
       "      <td>NaN</td>\n",
       "      <td>2.100000e+09</td>\n",
       "      <td>N</td>\n",
       "      <td>9</td>\n",
       "      <td>996</td>\n",
       "      <td>1</td>\n",
       "    </tr>\n",
       "    <tr>\n",
       "      <th>37873</th>\n",
       "      <td>IT001</td>\n",
       "      <td>FR001</td>\n",
       "      <td>4</td>\n",
       "      <td>2.18</td>\n",
       "      <td>0.39</td>\n",
       "      <td>EUR</td>\n",
       "      <td>N</td>\n",
       "      <td>00000683</td>\n",
       "      <td>1</td>\n",
       "      <td>1</td>\n",
       "      <td>...</td>\n",
       "      <td>2.0</td>\n",
       "      <td>99645276.0</td>\n",
       "      <td>NaN</td>\n",
       "      <td>FRNOR</td>\n",
       "      <td>NaN</td>\n",
       "      <td>2.100000e+09</td>\n",
       "      <td>N</td>\n",
       "      <td>9</td>\n",
       "      <td>996</td>\n",
       "      <td>1</td>\n",
       "    </tr>\n",
       "    <tr>\n",
       "      <th>37875</th>\n",
       "      <td>IT001</td>\n",
       "      <td>FR001</td>\n",
       "      <td>4</td>\n",
       "      <td>9695.34</td>\n",
       "      <td>1740.64</td>\n",
       "      <td>EUR</td>\n",
       "      <td>N</td>\n",
       "      <td>00000684</td>\n",
       "      <td>1</td>\n",
       "      <td>1</td>\n",
       "      <td>...</td>\n",
       "      <td>2.0</td>\n",
       "      <td>99645276.0</td>\n",
       "      <td>NaN</td>\n",
       "      <td>FRNOR</td>\n",
       "      <td>NaN</td>\n",
       "      <td>2.100000e+09</td>\n",
       "      <td>N</td>\n",
       "      <td>9</td>\n",
       "      <td>996</td>\n",
       "      <td>1</td>\n",
       "    </tr>\n",
       "    <tr>\n",
       "      <th>37884</th>\n",
       "      <td>DF001</td>\n",
       "      <td>FR001</td>\n",
       "      <td>4</td>\n",
       "      <td>412768.15</td>\n",
       "      <td>74105.59</td>\n",
       "      <td>EUR</td>\n",
       "      <td>N</td>\n",
       "      <td>00001400</td>\n",
       "      <td>1</td>\n",
       "      <td>1</td>\n",
       "      <td>...</td>\n",
       "      <td>2.0</td>\n",
       "      <td>99645276.0</td>\n",
       "      <td>NaN</td>\n",
       "      <td>FRNOR</td>\n",
       "      <td>NaN</td>\n",
       "      <td>2.100000e+09</td>\n",
       "      <td>N</td>\n",
       "      <td>9</td>\n",
       "      <td>996</td>\n",
       "      <td>1</td>\n",
       "    </tr>\n",
       "    <tr>\n",
       "      <th>63712</th>\n",
       "      <td>GIMS1</td>\n",
       "      <td>FR001</td>\n",
       "      <td>4</td>\n",
       "      <td>668.30</td>\n",
       "      <td>119.98</td>\n",
       "      <td>EUR</td>\n",
       "      <td>N</td>\n",
       "      <td>10827841</td>\n",
       "      <td>1</td>\n",
       "      <td>1</td>\n",
       "      <td>...</td>\n",
       "      <td>2.0</td>\n",
       "      <td>99645276.0</td>\n",
       "      <td>NaN</td>\n",
       "      <td>FRNOR</td>\n",
       "      <td>NaN</td>\n",
       "      <td>2.100000e+09</td>\n",
       "      <td>N</td>\n",
       "      <td>9</td>\n",
       "      <td>996</td>\n",
       "      <td>1</td>\n",
       "    </tr>\n",
       "    <tr>\n",
       "      <th>65717</th>\n",
       "      <td>GIMS1</td>\n",
       "      <td>FR001</td>\n",
       "      <td>4</td>\n",
       "      <td>6.35</td>\n",
       "      <td>1.14</td>\n",
       "      <td>EUR</td>\n",
       "      <td>N</td>\n",
       "      <td>10829076</td>\n",
       "      <td>1</td>\n",
       "      <td>1</td>\n",
       "      <td>...</td>\n",
       "      <td>2.0</td>\n",
       "      <td>99645276.0</td>\n",
       "      <td>NaN</td>\n",
       "      <td>FRNOR</td>\n",
       "      <td>NaN</td>\n",
       "      <td>2.100000e+09</td>\n",
       "      <td>N</td>\n",
       "      <td>9</td>\n",
       "      <td>996</td>\n",
       "      <td>1</td>\n",
       "    </tr>\n",
       "    <tr>\n",
       "      <th>65792</th>\n",
       "      <td>GIMS1</td>\n",
       "      <td>FR001</td>\n",
       "      <td>4</td>\n",
       "      <td>7.18</td>\n",
       "      <td>1.29</td>\n",
       "      <td>EUR</td>\n",
       "      <td>N</td>\n",
       "      <td>10829096</td>\n",
       "      <td>1</td>\n",
       "      <td>1</td>\n",
       "      <td>...</td>\n",
       "      <td>2.0</td>\n",
       "      <td>99645276.0</td>\n",
       "      <td>NaN</td>\n",
       "      <td>FRNOR</td>\n",
       "      <td>NaN</td>\n",
       "      <td>2.100000e+09</td>\n",
       "      <td>N</td>\n",
       "      <td>9</td>\n",
       "      <td>996</td>\n",
       "      <td>1</td>\n",
       "    </tr>\n",
       "    <tr>\n",
       "      <th>65795</th>\n",
       "      <td>GIMS1</td>\n",
       "      <td>FR001</td>\n",
       "      <td>4</td>\n",
       "      <td>402.04</td>\n",
       "      <td>72.18</td>\n",
       "      <td>EUR</td>\n",
       "      <td>N</td>\n",
       "      <td>10828968</td>\n",
       "      <td>1</td>\n",
       "      <td>1</td>\n",
       "      <td>...</td>\n",
       "      <td>2.0</td>\n",
       "      <td>99645276.0</td>\n",
       "      <td>NaN</td>\n",
       "      <td>FRNOR</td>\n",
       "      <td>NaN</td>\n",
       "      <td>2.100000e+09</td>\n",
       "      <td>N</td>\n",
       "      <td>9</td>\n",
       "      <td>996</td>\n",
       "      <td>1</td>\n",
       "    </tr>\n",
       "    <tr>\n",
       "      <th>67538</th>\n",
       "      <td>IT001</td>\n",
       "      <td>FR001</td>\n",
       "      <td>4</td>\n",
       "      <td>-9695.34</td>\n",
       "      <td>-1740.64</td>\n",
       "      <td>EUR</td>\n",
       "      <td>N</td>\n",
       "      <td>00000799</td>\n",
       "      <td>1</td>\n",
       "      <td>1</td>\n",
       "      <td>...</td>\n",
       "      <td>2.0</td>\n",
       "      <td>99645276.0</td>\n",
       "      <td>NaN</td>\n",
       "      <td>FRNOR</td>\n",
       "      <td>NaN</td>\n",
       "      <td>2.100000e+09</td>\n",
       "      <td>N</td>\n",
       "      <td>9</td>\n",
       "      <td>996</td>\n",
       "      <td>1</td>\n",
       "    </tr>\n",
       "    <tr>\n",
       "      <th>67550</th>\n",
       "      <td>IT001</td>\n",
       "      <td>FR001</td>\n",
       "      <td>4</td>\n",
       "      <td>455.79</td>\n",
       "      <td>81.83</td>\n",
       "      <td>EUR</td>\n",
       "      <td>N</td>\n",
       "      <td>00000800</td>\n",
       "      <td>1</td>\n",
       "      <td>1</td>\n",
       "      <td>...</td>\n",
       "      <td>2.0</td>\n",
       "      <td>99645276.0</td>\n",
       "      <td>NaN</td>\n",
       "      <td>FRNOR</td>\n",
       "      <td>NaN</td>\n",
       "      <td>2.100000e+09</td>\n",
       "      <td>N</td>\n",
       "      <td>9</td>\n",
       "      <td>996</td>\n",
       "      <td>1</td>\n",
       "    </tr>\n",
       "    <tr>\n",
       "      <th>71015</th>\n",
       "      <td>DF001</td>\n",
       "      <td>FR001</td>\n",
       "      <td>4</td>\n",
       "      <td>299067.27</td>\n",
       "      <td>53692.51</td>\n",
       "      <td>EUR</td>\n",
       "      <td>N</td>\n",
       "      <td>00001646</td>\n",
       "      <td>1</td>\n",
       "      <td>1</td>\n",
       "      <td>...</td>\n",
       "      <td>2.0</td>\n",
       "      <td>99645276.0</td>\n",
       "      <td>NaN</td>\n",
       "      <td>FRNOR</td>\n",
       "      <td>NaN</td>\n",
       "      <td>2.100000e+09</td>\n",
       "      <td>N</td>\n",
       "      <td>9</td>\n",
       "      <td>996</td>\n",
       "      <td>1</td>\n",
       "    </tr>\n",
       "    <tr>\n",
       "      <th>71029</th>\n",
       "      <td>IT001</td>\n",
       "      <td>FR001</td>\n",
       "      <td>4</td>\n",
       "      <td>2.23</td>\n",
       "      <td>0.40</td>\n",
       "      <td>EUR</td>\n",
       "      <td>N</td>\n",
       "      <td>00000850</td>\n",
       "      <td>1</td>\n",
       "      <td>1</td>\n",
       "      <td>...</td>\n",
       "      <td>2.0</td>\n",
       "      <td>99645276.0</td>\n",
       "      <td>NaN</td>\n",
       "      <td>FRNOR</td>\n",
       "      <td>NaN</td>\n",
       "      <td>2.100000e+09</td>\n",
       "      <td>N</td>\n",
       "      <td>9</td>\n",
       "      <td>996</td>\n",
       "      <td>1</td>\n",
       "    </tr>\n",
       "    <tr>\n",
       "      <th>71030</th>\n",
       "      <td>IT001</td>\n",
       "      <td>FR001</td>\n",
       "      <td>4</td>\n",
       "      <td>381.44</td>\n",
       "      <td>68.48</td>\n",
       "      <td>EUR</td>\n",
       "      <td>N</td>\n",
       "      <td>00000851</td>\n",
       "      <td>1</td>\n",
       "      <td>1</td>\n",
       "      <td>...</td>\n",
       "      <td>2.0</td>\n",
       "      <td>99645276.0</td>\n",
       "      <td>NaN</td>\n",
       "      <td>FRNOR</td>\n",
       "      <td>NaN</td>\n",
       "      <td>2.100000e+09</td>\n",
       "      <td>N</td>\n",
       "      <td>9</td>\n",
       "      <td>996</td>\n",
       "      <td>1</td>\n",
       "    </tr>\n",
       "    <tr>\n",
       "      <th>71075</th>\n",
       "      <td>IT001</td>\n",
       "      <td>FR001</td>\n",
       "      <td>4</td>\n",
       "      <td>22043.14</td>\n",
       "      <td>3957.48</td>\n",
       "      <td>EUR</td>\n",
       "      <td>N</td>\n",
       "      <td>00000852</td>\n",
       "      <td>1</td>\n",
       "      <td>1</td>\n",
       "      <td>...</td>\n",
       "      <td>2.0</td>\n",
       "      <td>99645276.0</td>\n",
       "      <td>NaN</td>\n",
       "      <td>FRNOR</td>\n",
       "      <td>NaN</td>\n",
       "      <td>2.100000e+09</td>\n",
       "      <td>N</td>\n",
       "      <td>9</td>\n",
       "      <td>996</td>\n",
       "      <td>1</td>\n",
       "    </tr>\n",
       "    <tr>\n",
       "      <th>71902</th>\n",
       "      <td>DF001</td>\n",
       "      <td>FR001</td>\n",
       "      <td>4</td>\n",
       "      <td>16.88</td>\n",
       "      <td>3.03</td>\n",
       "      <td>EUR</td>\n",
       "      <td>N</td>\n",
       "      <td>10836067</td>\n",
       "      <td>1</td>\n",
       "      <td>1</td>\n",
       "      <td>...</td>\n",
       "      <td>2.0</td>\n",
       "      <td>99645276.0</td>\n",
       "      <td>NaN</td>\n",
       "      <td>FRNOR</td>\n",
       "      <td>NaN</td>\n",
       "      <td>2.100000e+09</td>\n",
       "      <td>N</td>\n",
       "      <td>9</td>\n",
       "      <td>996</td>\n",
       "      <td>1</td>\n",
       "    </tr>\n",
       "    <tr>\n",
       "      <th>121587</th>\n",
       "      <td>DF001</td>\n",
       "      <td>FR001</td>\n",
       "      <td>4</td>\n",
       "      <td>11.35</td>\n",
       "      <td>2.04</td>\n",
       "      <td>EUR</td>\n",
       "      <td>N</td>\n",
       "      <td>10885349</td>\n",
       "      <td>1</td>\n",
       "      <td>1</td>\n",
       "      <td>...</td>\n",
       "      <td>2.0</td>\n",
       "      <td>99655101.0</td>\n",
       "      <td>NaN</td>\n",
       "      <td>FRNOR</td>\n",
       "      <td>NaN</td>\n",
       "      <td>2.100000e+09</td>\n",
       "      <td>N</td>\n",
       "      <td>9</td>\n",
       "      <td>996</td>\n",
       "      <td>1</td>\n",
       "    </tr>\n",
       "    <tr>\n",
       "      <th>121592</th>\n",
       "      <td>DF001</td>\n",
       "      <td>FR001</td>\n",
       "      <td>4</td>\n",
       "      <td>20.25</td>\n",
       "      <td>3.64</td>\n",
       "      <td>EUR</td>\n",
       "      <td>N</td>\n",
       "      <td>10885347</td>\n",
       "      <td>1</td>\n",
       "      <td>1</td>\n",
       "      <td>...</td>\n",
       "      <td>2.0</td>\n",
       "      <td>99655101.0</td>\n",
       "      <td>NaN</td>\n",
       "      <td>FRNOR</td>\n",
       "      <td>NaN</td>\n",
       "      <td>2.100000e+09</td>\n",
       "      <td>N</td>\n",
       "      <td>9</td>\n",
       "      <td>996</td>\n",
       "      <td>1</td>\n",
       "    </tr>\n",
       "    <tr>\n",
       "      <th>121598</th>\n",
       "      <td>DF001</td>\n",
       "      <td>FR001</td>\n",
       "      <td>4</td>\n",
       "      <td>4.55</td>\n",
       "      <td>0.82</td>\n",
       "      <td>EUR</td>\n",
       "      <td>N</td>\n",
       "      <td>10885450</td>\n",
       "      <td>1</td>\n",
       "      <td>1</td>\n",
       "      <td>...</td>\n",
       "      <td>2.0</td>\n",
       "      <td>99655101.0</td>\n",
       "      <td>NaN</td>\n",
       "      <td>FRNOR</td>\n",
       "      <td>NaN</td>\n",
       "      <td>2.100000e+09</td>\n",
       "      <td>N</td>\n",
       "      <td>9</td>\n",
       "      <td>996</td>\n",
       "      <td>1</td>\n",
       "    </tr>\n",
       "    <tr>\n",
       "      <th>121599</th>\n",
       "      <td>DF001</td>\n",
       "      <td>FR001</td>\n",
       "      <td>4</td>\n",
       "      <td>2.96</td>\n",
       "      <td>0.53</td>\n",
       "      <td>EUR</td>\n",
       "      <td>N</td>\n",
       "      <td>10885430</td>\n",
       "      <td>1</td>\n",
       "      <td>1</td>\n",
       "      <td>...</td>\n",
       "      <td>2.0</td>\n",
       "      <td>99655101.0</td>\n",
       "      <td>NaN</td>\n",
       "      <td>FRNOR</td>\n",
       "      <td>NaN</td>\n",
       "      <td>2.100000e+09</td>\n",
       "      <td>N</td>\n",
       "      <td>9</td>\n",
       "      <td>996</td>\n",
       "      <td>1</td>\n",
       "    </tr>\n",
       "    <tr>\n",
       "      <th>121600</th>\n",
       "      <td>DF001</td>\n",
       "      <td>FR001</td>\n",
       "      <td>4</td>\n",
       "      <td>20.10</td>\n",
       "      <td>3.61</td>\n",
       "      <td>EUR</td>\n",
       "      <td>N</td>\n",
       "      <td>10885438</td>\n",
       "      <td>1</td>\n",
       "      <td>1</td>\n",
       "      <td>...</td>\n",
       "      <td>2.0</td>\n",
       "      <td>99655101.0</td>\n",
       "      <td>NaN</td>\n",
       "      <td>FRNOR</td>\n",
       "      <td>NaN</td>\n",
       "      <td>2.100000e+09</td>\n",
       "      <td>N</td>\n",
       "      <td>9</td>\n",
       "      <td>996</td>\n",
       "      <td>1</td>\n",
       "    </tr>\n",
       "    <tr>\n",
       "      <th>121619</th>\n",
       "      <td>DF001</td>\n",
       "      <td>FR001</td>\n",
       "      <td>4</td>\n",
       "      <td>6.20</td>\n",
       "      <td>1.11</td>\n",
       "      <td>EUR</td>\n",
       "      <td>N</td>\n",
       "      <td>10885429</td>\n",
       "      <td>1</td>\n",
       "      <td>1</td>\n",
       "      <td>...</td>\n",
       "      <td>2.0</td>\n",
       "      <td>99655101.0</td>\n",
       "      <td>NaN</td>\n",
       "      <td>FRNOR</td>\n",
       "      <td>NaN</td>\n",
       "      <td>2.100000e+09</td>\n",
       "      <td>N</td>\n",
       "      <td>9</td>\n",
       "      <td>996</td>\n",
       "      <td>1</td>\n",
       "    </tr>\n",
       "    <tr>\n",
       "      <th>121625</th>\n",
       "      <td>DF001</td>\n",
       "      <td>FR001</td>\n",
       "      <td>4</td>\n",
       "      <td>6.28</td>\n",
       "      <td>1.13</td>\n",
       "      <td>EUR</td>\n",
       "      <td>N</td>\n",
       "      <td>10885364</td>\n",
       "      <td>1</td>\n",
       "      <td>1</td>\n",
       "      <td>...</td>\n",
       "      <td>2.0</td>\n",
       "      <td>99655101.0</td>\n",
       "      <td>NaN</td>\n",
       "      <td>FRNOR</td>\n",
       "      <td>NaN</td>\n",
       "      <td>2.100000e+09</td>\n",
       "      <td>N</td>\n",
       "      <td>9</td>\n",
       "      <td>996</td>\n",
       "      <td>1</td>\n",
       "    </tr>\n",
       "    <tr>\n",
       "      <th>121630</th>\n",
       "      <td>DF001</td>\n",
       "      <td>FR001</td>\n",
       "      <td>4</td>\n",
       "      <td>4.24</td>\n",
       "      <td>0.76</td>\n",
       "      <td>EUR</td>\n",
       "      <td>N</td>\n",
       "      <td>10885435</td>\n",
       "      <td>1</td>\n",
       "      <td>1</td>\n",
       "      <td>...</td>\n",
       "      <td>2.0</td>\n",
       "      <td>99655101.0</td>\n",
       "      <td>NaN</td>\n",
       "      <td>FRNOR</td>\n",
       "      <td>NaN</td>\n",
       "      <td>2.100000e+09</td>\n",
       "      <td>N</td>\n",
       "      <td>9</td>\n",
       "      <td>996</td>\n",
       "      <td>1</td>\n",
       "    </tr>\n",
       "    <tr>\n",
       "      <th>121633</th>\n",
       "      <td>DF001</td>\n",
       "      <td>FR001</td>\n",
       "      <td>4</td>\n",
       "      <td>12.98</td>\n",
       "      <td>2.33</td>\n",
       "      <td>EUR</td>\n",
       "      <td>N</td>\n",
       "      <td>10885446</td>\n",
       "      <td>1</td>\n",
       "      <td>1</td>\n",
       "      <td>...</td>\n",
       "      <td>2.0</td>\n",
       "      <td>99655101.0</td>\n",
       "      <td>NaN</td>\n",
       "      <td>FRNOR</td>\n",
       "      <td>NaN</td>\n",
       "      <td>2.100000e+09</td>\n",
       "      <td>N</td>\n",
       "      <td>9</td>\n",
       "      <td>996</td>\n",
       "      <td>1</td>\n",
       "    </tr>\n",
       "    <tr>\n",
       "      <th>121651</th>\n",
       "      <td>DF001</td>\n",
       "      <td>FR001</td>\n",
       "      <td>4</td>\n",
       "      <td>12.21</td>\n",
       "      <td>2.19</td>\n",
       "      <td>EUR</td>\n",
       "      <td>N</td>\n",
       "      <td>10885432</td>\n",
       "      <td>1</td>\n",
       "      <td>1</td>\n",
       "      <td>...</td>\n",
       "      <td>2.0</td>\n",
       "      <td>99655101.0</td>\n",
       "      <td>NaN</td>\n",
       "      <td>FRNOR</td>\n",
       "      <td>NaN</td>\n",
       "      <td>2.100000e+09</td>\n",
       "      <td>N</td>\n",
       "      <td>9</td>\n",
       "      <td>996</td>\n",
       "      <td>1</td>\n",
       "    </tr>\n",
       "    <tr>\n",
       "      <th>121653</th>\n",
       "      <td>DF001</td>\n",
       "      <td>FR001</td>\n",
       "      <td>4</td>\n",
       "      <td>0.01</td>\n",
       "      <td>0.00</td>\n",
       "      <td>EUR</td>\n",
       "      <td>N</td>\n",
       "      <td>10885427</td>\n",
       "      <td>1</td>\n",
       "      <td>1</td>\n",
       "      <td>...</td>\n",
       "      <td>2.0</td>\n",
       "      <td>99655101.0</td>\n",
       "      <td>NaN</td>\n",
       "      <td>FRNOR</td>\n",
       "      <td>NaN</td>\n",
       "      <td>2.100000e+09</td>\n",
       "      <td>N</td>\n",
       "      <td>9</td>\n",
       "      <td>996</td>\n",
       "      <td>1</td>\n",
       "    </tr>\n",
       "    <tr>\n",
       "      <th>121658</th>\n",
       "      <td>DF001</td>\n",
       "      <td>FR001</td>\n",
       "      <td>4</td>\n",
       "      <td>9.03</td>\n",
       "      <td>1.62</td>\n",
       "      <td>EUR</td>\n",
       "      <td>N</td>\n",
       "      <td>10885371</td>\n",
       "      <td>1</td>\n",
       "      <td>1</td>\n",
       "      <td>...</td>\n",
       "      <td>2.0</td>\n",
       "      <td>99655101.0</td>\n",
       "      <td>NaN</td>\n",
       "      <td>FRNOR</td>\n",
       "      <td>NaN</td>\n",
       "      <td>2.100000e+09</td>\n",
       "      <td>N</td>\n",
       "      <td>9</td>\n",
       "      <td>996</td>\n",
       "      <td>1</td>\n",
       "    </tr>\n",
       "    <tr>\n",
       "      <th>121718</th>\n",
       "      <td>DF001</td>\n",
       "      <td>FR001</td>\n",
       "      <td>4</td>\n",
       "      <td>7.42</td>\n",
       "      <td>1.33</td>\n",
       "      <td>EUR</td>\n",
       "      <td>N</td>\n",
       "      <td>10885426</td>\n",
       "      <td>1</td>\n",
       "      <td>1</td>\n",
       "      <td>...</td>\n",
       "      <td>2.0</td>\n",
       "      <td>99655101.0</td>\n",
       "      <td>NaN</td>\n",
       "      <td>FRNOR</td>\n",
       "      <td>NaN</td>\n",
       "      <td>2.100000e+09</td>\n",
       "      <td>N</td>\n",
       "      <td>9</td>\n",
       "      <td>996</td>\n",
       "      <td>1</td>\n",
       "    </tr>\n",
       "    <tr>\n",
       "      <th>121721</th>\n",
       "      <td>DF001</td>\n",
       "      <td>FR001</td>\n",
       "      <td>4</td>\n",
       "      <td>6.65</td>\n",
       "      <td>1.19</td>\n",
       "      <td>EUR</td>\n",
       "      <td>N</td>\n",
       "      <td>10885363</td>\n",
       "      <td>1</td>\n",
       "      <td>1</td>\n",
       "      <td>...</td>\n",
       "      <td>2.0</td>\n",
       "      <td>99655101.0</td>\n",
       "      <td>NaN</td>\n",
       "      <td>FRNOR</td>\n",
       "      <td>NaN</td>\n",
       "      <td>2.100000e+09</td>\n",
       "      <td>N</td>\n",
       "      <td>9</td>\n",
       "      <td>996</td>\n",
       "      <td>1</td>\n",
       "    </tr>\n",
       "    <tr>\n",
       "      <th>121731</th>\n",
       "      <td>DF001</td>\n",
       "      <td>FR001</td>\n",
       "      <td>4</td>\n",
       "      <td>11.12</td>\n",
       "      <td>2.00</td>\n",
       "      <td>EUR</td>\n",
       "      <td>N</td>\n",
       "      <td>10885341</td>\n",
       "      <td>1</td>\n",
       "      <td>1</td>\n",
       "      <td>...</td>\n",
       "      <td>2.0</td>\n",
       "      <td>99655101.0</td>\n",
       "      <td>NaN</td>\n",
       "      <td>FRNOR</td>\n",
       "      <td>NaN</td>\n",
       "      <td>2.100000e+09</td>\n",
       "      <td>N</td>\n",
       "      <td>9</td>\n",
       "      <td>996</td>\n",
       "      <td>1</td>\n",
       "    </tr>\n",
       "    <tr>\n",
       "      <th>121732</th>\n",
       "      <td>DF001</td>\n",
       "      <td>FR001</td>\n",
       "      <td>4</td>\n",
       "      <td>7.42</td>\n",
       "      <td>1.33</td>\n",
       "      <td>EUR</td>\n",
       "      <td>N</td>\n",
       "      <td>10885431</td>\n",
       "      <td>1</td>\n",
       "      <td>1</td>\n",
       "      <td>...</td>\n",
       "      <td>2.0</td>\n",
       "      <td>99655101.0</td>\n",
       "      <td>NaN</td>\n",
       "      <td>FRNOR</td>\n",
       "      <td>NaN</td>\n",
       "      <td>2.100000e+09</td>\n",
       "      <td>N</td>\n",
       "      <td>9</td>\n",
       "      <td>996</td>\n",
       "      <td>1</td>\n",
       "    </tr>\n",
       "    <tr>\n",
       "      <th>122459</th>\n",
       "      <td>DF001</td>\n",
       "      <td>FR001</td>\n",
       "      <td>4</td>\n",
       "      <td>11.33</td>\n",
       "      <td>2.03</td>\n",
       "      <td>EUR</td>\n",
       "      <td>N</td>\n",
       "      <td>10885344</td>\n",
       "      <td>1</td>\n",
       "      <td>1</td>\n",
       "      <td>...</td>\n",
       "      <td>2.0</td>\n",
       "      <td>99655101.0</td>\n",
       "      <td>NaN</td>\n",
       "      <td>FRNOR</td>\n",
       "      <td>NaN</td>\n",
       "      <td>2.100000e+09</td>\n",
       "      <td>N</td>\n",
       "      <td>9</td>\n",
       "      <td>996</td>\n",
       "      <td>1</td>\n",
       "    </tr>\n",
       "    <tr>\n",
       "      <th>122518</th>\n",
       "      <td>DF001</td>\n",
       "      <td>FR001</td>\n",
       "      <td>4</td>\n",
       "      <td>6.84</td>\n",
       "      <td>1.23</td>\n",
       "      <td>EUR</td>\n",
       "      <td>N</td>\n",
       "      <td>10885449</td>\n",
       "      <td>1</td>\n",
       "      <td>1</td>\n",
       "      <td>...</td>\n",
       "      <td>2.0</td>\n",
       "      <td>99655101.0</td>\n",
       "      <td>NaN</td>\n",
       "      <td>FRNOR</td>\n",
       "      <td>NaN</td>\n",
       "      <td>2.100000e+09</td>\n",
       "      <td>N</td>\n",
       "      <td>9</td>\n",
       "      <td>996</td>\n",
       "      <td>1</td>\n",
       "    </tr>\n",
       "    <tr>\n",
       "      <th>122588</th>\n",
       "      <td>DF001</td>\n",
       "      <td>FR001</td>\n",
       "      <td>4</td>\n",
       "      <td>16.37</td>\n",
       "      <td>2.94</td>\n",
       "      <td>EUR</td>\n",
       "      <td>N</td>\n",
       "      <td>10885423</td>\n",
       "      <td>1</td>\n",
       "      <td>1</td>\n",
       "      <td>...</td>\n",
       "      <td>2.0</td>\n",
       "      <td>99655101.0</td>\n",
       "      <td>NaN</td>\n",
       "      <td>FRNOR</td>\n",
       "      <td>NaN</td>\n",
       "      <td>2.100000e+09</td>\n",
       "      <td>N</td>\n",
       "      <td>9</td>\n",
       "      <td>996</td>\n",
       "      <td>1</td>\n",
       "    </tr>\n",
       "    <tr>\n",
       "      <th>122675</th>\n",
       "      <td>DF001</td>\n",
       "      <td>FR001</td>\n",
       "      <td>4</td>\n",
       "      <td>6.20</td>\n",
       "      <td>1.11</td>\n",
       "      <td>EUR</td>\n",
       "      <td>N</td>\n",
       "      <td>10885440</td>\n",
       "      <td>1</td>\n",
       "      <td>1</td>\n",
       "      <td>...</td>\n",
       "      <td>2.0</td>\n",
       "      <td>99655101.0</td>\n",
       "      <td>NaN</td>\n",
       "      <td>FRNOR</td>\n",
       "      <td>NaN</td>\n",
       "      <td>2.100000e+09</td>\n",
       "      <td>N</td>\n",
       "      <td>9</td>\n",
       "      <td>996</td>\n",
       "      <td>1</td>\n",
       "    </tr>\n",
       "    <tr>\n",
       "      <th>122731</th>\n",
       "      <td>DF001</td>\n",
       "      <td>FR001</td>\n",
       "      <td>4</td>\n",
       "      <td>5.88</td>\n",
       "      <td>1.06</td>\n",
       "      <td>EUR</td>\n",
       "      <td>N</td>\n",
       "      <td>10885457</td>\n",
       "      <td>1</td>\n",
       "      <td>1</td>\n",
       "      <td>...</td>\n",
       "      <td>2.0</td>\n",
       "      <td>99655101.0</td>\n",
       "      <td>NaN</td>\n",
       "      <td>FRNOR</td>\n",
       "      <td>NaN</td>\n",
       "      <td>2.100000e+09</td>\n",
       "      <td>N</td>\n",
       "      <td>9</td>\n",
       "      <td>996</td>\n",
       "      <td>1</td>\n",
       "    </tr>\n",
       "    <tr>\n",
       "      <th>122826</th>\n",
       "      <td>IT001</td>\n",
       "      <td>FR001</td>\n",
       "      <td>4</td>\n",
       "      <td>2.23</td>\n",
       "      <td>0.40</td>\n",
       "      <td>EUR</td>\n",
       "      <td>N</td>\n",
       "      <td>00001040</td>\n",
       "      <td>1</td>\n",
       "      <td>1</td>\n",
       "      <td>...</td>\n",
       "      <td>2.0</td>\n",
       "      <td>99645276.0</td>\n",
       "      <td>NaN</td>\n",
       "      <td>FRNOR</td>\n",
       "      <td>NaN</td>\n",
       "      <td>2.100000e+09</td>\n",
       "      <td>N</td>\n",
       "      <td>9</td>\n",
       "      <td>996</td>\n",
       "      <td>1</td>\n",
       "    </tr>\n",
       "    <tr>\n",
       "      <th>122827</th>\n",
       "      <td>IT001</td>\n",
       "      <td>FR001</td>\n",
       "      <td>4</td>\n",
       "      <td>420.43</td>\n",
       "      <td>75.48</td>\n",
       "      <td>EUR</td>\n",
       "      <td>N</td>\n",
       "      <td>00001041</td>\n",
       "      <td>1</td>\n",
       "      <td>1</td>\n",
       "      <td>...</td>\n",
       "      <td>2.0</td>\n",
       "      <td>99645276.0</td>\n",
       "      <td>NaN</td>\n",
       "      <td>FRNOR</td>\n",
       "      <td>NaN</td>\n",
       "      <td>2.100000e+09</td>\n",
       "      <td>N</td>\n",
       "      <td>9</td>\n",
       "      <td>996</td>\n",
       "      <td>1</td>\n",
       "    </tr>\n",
       "    <tr>\n",
       "      <th>122828</th>\n",
       "      <td>IT001</td>\n",
       "      <td>FR001</td>\n",
       "      <td>4</td>\n",
       "      <td>18360.88</td>\n",
       "      <td>3296.39</td>\n",
       "      <td>EUR</td>\n",
       "      <td>N</td>\n",
       "      <td>00001042</td>\n",
       "      <td>1</td>\n",
       "      <td>1</td>\n",
       "      <td>...</td>\n",
       "      <td>2.0</td>\n",
       "      <td>99645276.0</td>\n",
       "      <td>NaN</td>\n",
       "      <td>FRNOR</td>\n",
       "      <td>NaN</td>\n",
       "      <td>2.100000e+09</td>\n",
       "      <td>N</td>\n",
       "      <td>9</td>\n",
       "      <td>996</td>\n",
       "      <td>1</td>\n",
       "    </tr>\n",
       "    <tr>\n",
       "      <th>126215</th>\n",
       "      <td>DF001</td>\n",
       "      <td>FR001</td>\n",
       "      <td>4</td>\n",
       "      <td>4.36</td>\n",
       "      <td>0.78</td>\n",
       "      <td>EUR</td>\n",
       "      <td>N</td>\n",
       "      <td>10885354</td>\n",
       "      <td>1</td>\n",
       "      <td>1</td>\n",
       "      <td>...</td>\n",
       "      <td>2.0</td>\n",
       "      <td>99646159.0</td>\n",
       "      <td>NaN</td>\n",
       "      <td>FRNOR</td>\n",
       "      <td>NaN</td>\n",
       "      <td>2.100000e+09</td>\n",
       "      <td>N</td>\n",
       "      <td>9</td>\n",
       "      <td>996</td>\n",
       "      <td>1</td>\n",
       "    </tr>\n",
       "    <tr>\n",
       "      <th>127308</th>\n",
       "      <td>DF001</td>\n",
       "      <td>FR001</td>\n",
       "      <td>4</td>\n",
       "      <td>268229.21</td>\n",
       "      <td>48156.05</td>\n",
       "      <td>EUR</td>\n",
       "      <td>N</td>\n",
       "      <td>00002707</td>\n",
       "      <td>1</td>\n",
       "      <td>1</td>\n",
       "      <td>...</td>\n",
       "      <td>2.0</td>\n",
       "      <td>99645276.0</td>\n",
       "      <td>NaN</td>\n",
       "      <td>FRNOR</td>\n",
       "      <td>NaN</td>\n",
       "      <td>2.100000e+09</td>\n",
       "      <td>N</td>\n",
       "      <td>9</td>\n",
       "      <td>996</td>\n",
       "      <td>1</td>\n",
       "    </tr>\n",
       "    <tr>\n",
       "      <th>137099</th>\n",
       "      <td>DF001</td>\n",
       "      <td>FR001</td>\n",
       "      <td>4</td>\n",
       "      <td>1473.47</td>\n",
       "      <td>264.54</td>\n",
       "      <td>EUR</td>\n",
       "      <td>N</td>\n",
       "      <td>AP268643</td>\n",
       "      <td>1</td>\n",
       "      <td>1</td>\n",
       "      <td>...</td>\n",
       "      <td>2.0</td>\n",
       "      <td>99326133.0</td>\n",
       "      <td>NaN</td>\n",
       "      <td>FRNOR</td>\n",
       "      <td>NaN</td>\n",
       "      <td>2.100000e+09</td>\n",
       "      <td>N</td>\n",
       "      <td>9</td>\n",
       "      <td>993</td>\n",
       "      <td>1</td>\n",
       "    </tr>\n",
       "  </tbody>\n",
       "</table>\n",
       "<p>50 rows × 28 columns</p>\n",
       "</div>"
      ],
      "text/plain": [
       "       BUSINESS_UNIT VENDOR_SETID  VENDOR_ID  MONETARY_AMOUNT  VAT_INV_AMT_GL  \\\n",
       "2608           IT001        FR001          4          8783.89         1577.00   \n",
       "2630           IT001        FR001          4          9134.80         1640.00   \n",
       "2644           IT001        FR001          4          8689.20         1560.00   \n",
       "18738          DF001        FR001          4        398482.55        71540.85   \n",
       "18740          IT001        FR001          4         23042.10         4136.82   \n",
       "18741          IT001        FR001          4             4.42            0.79   \n",
       "18744          IT001        FR001          4           873.09          156.75   \n",
       "26715          DF001        FR001          4            16.70            3.00   \n",
       "37872          IT001        FR001          4         20728.54         3721.46   \n",
       "37873          IT001        FR001          4             2.18            0.39   \n",
       "37875          IT001        FR001          4          9695.34         1740.64   \n",
       "37884          DF001        FR001          4        412768.15        74105.59   \n",
       "63712          GIMS1        FR001          4           668.30          119.98   \n",
       "65717          GIMS1        FR001          4             6.35            1.14   \n",
       "65792          GIMS1        FR001          4             7.18            1.29   \n",
       "65795          GIMS1        FR001          4           402.04           72.18   \n",
       "67538          IT001        FR001          4         -9695.34        -1740.64   \n",
       "67550          IT001        FR001          4           455.79           81.83   \n",
       "71015          DF001        FR001          4        299067.27        53692.51   \n",
       "71029          IT001        FR001          4             2.23            0.40   \n",
       "71030          IT001        FR001          4           381.44           68.48   \n",
       "71075          IT001        FR001          4         22043.14         3957.48   \n",
       "71902          DF001        FR001          4            16.88            3.03   \n",
       "121587         DF001        FR001          4            11.35            2.04   \n",
       "121592         DF001        FR001          4            20.25            3.64   \n",
       "121598         DF001        FR001          4             4.55            0.82   \n",
       "121599         DF001        FR001          4             2.96            0.53   \n",
       "121600         DF001        FR001          4            20.10            3.61   \n",
       "121619         DF001        FR001          4             6.20            1.11   \n",
       "121625         DF001        FR001          4             6.28            1.13   \n",
       "121630         DF001        FR001          4             4.24            0.76   \n",
       "121633         DF001        FR001          4            12.98            2.33   \n",
       "121651         DF001        FR001          4            12.21            2.19   \n",
       "121653         DF001        FR001          4             0.01            0.00   \n",
       "121658         DF001        FR001          4             9.03            1.62   \n",
       "121718         DF001        FR001          4             7.42            1.33   \n",
       "121721         DF001        FR001          4             6.65            1.19   \n",
       "121731         DF001        FR001          4            11.12            2.00   \n",
       "121732         DF001        FR001          4             7.42            1.33   \n",
       "122459         DF001        FR001          4            11.33            2.03   \n",
       "122518         DF001        FR001          4             6.84            1.23   \n",
       "122588         DF001        FR001          4            16.37            2.94   \n",
       "122675         DF001        FR001          4             6.20            1.11   \n",
       "122731         DF001        FR001          4             5.88            1.06   \n",
       "122826         IT001        FR001          4             2.23            0.40   \n",
       "122827         IT001        FR001          4           420.43           75.48   \n",
       "122828         IT001        FR001          4         18360.88         3296.39   \n",
       "126215         DF001        FR001          4             4.36            0.78   \n",
       "127308         DF001        FR001          4        268229.21        48156.05   \n",
       "137099         DF001        FR001          4          1473.47          264.54   \n",
       "\n",
       "       CURRENCY_CD ASSET_FLG VOUCHER_ID  VOUCHER_LINE_NUM  DISTRIB_LINE_NUM  \\\n",
       "2608           EUR         N   10760101                 1                 1   \n",
       "2630           EUR         N   10760105                 1                 1   \n",
       "2644           EUR         N   10760106                 1                 1   \n",
       "18738          EUR         N   00001268                 1                 1   \n",
       "18740          EUR         N   00000636                 1                 1   \n",
       "18741          EUR         N   00000637                 1                 1   \n",
       "18744          EUR         N   00000639                 1                 1   \n",
       "26715          EUR         N   10787059                 1                 1   \n",
       "37872          EUR         N   00000682                 1                 1   \n",
       "37873          EUR         N   00000683                 1                 1   \n",
       "37875          EUR         N   00000684                 1                 1   \n",
       "37884          EUR         N   00001400                 1                 1   \n",
       "63712          EUR         N   10827841                 1                 1   \n",
       "65717          EUR         N   10829076                 1                 1   \n",
       "65792          EUR         N   10829096                 1                 1   \n",
       "65795          EUR         N   10828968                 1                 1   \n",
       "67538          EUR         N   00000799                 1                 1   \n",
       "67550          EUR         N   00000800                 1                 1   \n",
       "71015          EUR         N   00001646                 1                 1   \n",
       "71029          EUR         N   00000850                 1                 1   \n",
       "71030          EUR         N   00000851                 1                 1   \n",
       "71075          EUR         N   00000852                 1                 1   \n",
       "71902          EUR         N   10836067                 1                 1   \n",
       "121587         EUR         N   10885349                 1                 1   \n",
       "121592         EUR         N   10885347                 1                 1   \n",
       "121598         EUR         N   10885450                 1                 1   \n",
       "121599         EUR         N   10885430                 1                 1   \n",
       "121600         EUR         N   10885438                 1                 1   \n",
       "121619         EUR         N   10885429                 1                 1   \n",
       "121625         EUR         N   10885364                 1                 1   \n",
       "121630         EUR         N   10885435                 1                 1   \n",
       "121633         EUR         N   10885446                 1                 1   \n",
       "121651         EUR         N   10885432                 1                 1   \n",
       "121653         EUR         N   10885427                 1                 1   \n",
       "121658         EUR         N   10885371                 1                 1   \n",
       "121718         EUR         N   10885426                 1                 1   \n",
       "121721         EUR         N   10885363                 1                 1   \n",
       "121731         EUR         N   10885341                 1                 1   \n",
       "121732         EUR         N   10885431                 1                 1   \n",
       "122459         EUR         N   10885344                 1                 1   \n",
       "122518         EUR         N   10885449                 1                 1   \n",
       "122588         EUR         N   10885423                 1                 1   \n",
       "122675         EUR         N   10885440                 1                 1   \n",
       "122731         EUR         N   10885457                 1                 1   \n",
       "122826         EUR         N   00001040                 1                 1   \n",
       "122827         EUR         N   00001041                 1                 1   \n",
       "122828         EUR         N   00001042                 1                 1   \n",
       "126215         EUR         N   10885354                 1                 1   \n",
       "127308         EUR         N   00002707                 1                 1   \n",
       "137099         EUR         N   AP268643                 1                 1   \n",
       "\n",
       "        ...   VAT_SERVICE_TYPE     ACCOUNT ALTACCT TAX_CD_VAT  \\\n",
       "2608    ...                2.0  99652371.0     NaN      FRNOR   \n",
       "2630    ...                2.0  99652371.0     NaN      FRNOR   \n",
       "2644    ...                2.0  99640012.0     NaN      FRNOR   \n",
       "18738   ...                2.0  99645276.0     NaN      FRNOR   \n",
       "18740   ...                2.0  99645276.0     NaN      FRNOR   \n",
       "18741   ...                2.0  99645276.0     NaN      FRNOR   \n",
       "18744   ...                2.0  99645276.0     NaN      FRNOR   \n",
       "26715   ...                2.0  99645276.0     NaN      FRNOR   \n",
       "37872   ...                2.0  99645276.0     NaN      FRNOR   \n",
       "37873   ...                2.0  99645276.0     NaN      FRNOR   \n",
       "37875   ...                2.0  99645276.0     NaN      FRNOR   \n",
       "37884   ...                2.0  99645276.0     NaN      FRNOR   \n",
       "63712   ...                2.0  99645276.0     NaN      FRNOR   \n",
       "65717   ...                2.0  99645276.0     NaN      FRNOR   \n",
       "65792   ...                2.0  99645276.0     NaN      FRNOR   \n",
       "65795   ...                2.0  99645276.0     NaN      FRNOR   \n",
       "67538   ...                2.0  99645276.0     NaN      FRNOR   \n",
       "67550   ...                2.0  99645276.0     NaN      FRNOR   \n",
       "71015   ...                2.0  99645276.0     NaN      FRNOR   \n",
       "71029   ...                2.0  99645276.0     NaN      FRNOR   \n",
       "71030   ...                2.0  99645276.0     NaN      FRNOR   \n",
       "71075   ...                2.0  99645276.0     NaN      FRNOR   \n",
       "71902   ...                2.0  99645276.0     NaN      FRNOR   \n",
       "121587  ...                2.0  99655101.0     NaN      FRNOR   \n",
       "121592  ...                2.0  99655101.0     NaN      FRNOR   \n",
       "121598  ...                2.0  99655101.0     NaN      FRNOR   \n",
       "121599  ...                2.0  99655101.0     NaN      FRNOR   \n",
       "121600  ...                2.0  99655101.0     NaN      FRNOR   \n",
       "121619  ...                2.0  99655101.0     NaN      FRNOR   \n",
       "121625  ...                2.0  99655101.0     NaN      FRNOR   \n",
       "121630  ...                2.0  99655101.0     NaN      FRNOR   \n",
       "121633  ...                2.0  99655101.0     NaN      FRNOR   \n",
       "121651  ...                2.0  99655101.0     NaN      FRNOR   \n",
       "121653  ...                2.0  99655101.0     NaN      FRNOR   \n",
       "121658  ...                2.0  99655101.0     NaN      FRNOR   \n",
       "121718  ...                2.0  99655101.0     NaN      FRNOR   \n",
       "121721  ...                2.0  99655101.0     NaN      FRNOR   \n",
       "121731  ...                2.0  99655101.0     NaN      FRNOR   \n",
       "121732  ...                2.0  99655101.0     NaN      FRNOR   \n",
       "122459  ...                2.0  99655101.0     NaN      FRNOR   \n",
       "122518  ...                2.0  99655101.0     NaN      FRNOR   \n",
       "122588  ...                2.0  99655101.0     NaN      FRNOR   \n",
       "122675  ...                2.0  99655101.0     NaN      FRNOR   \n",
       "122731  ...                2.0  99655101.0     NaN      FRNOR   \n",
       "122826  ...                2.0  99645276.0     NaN      FRNOR   \n",
       "122827  ...                2.0  99645276.0     NaN      FRNOR   \n",
       "122828  ...                2.0  99645276.0     NaN      FRNOR   \n",
       "126215  ...                2.0  99646159.0     NaN      FRNOR   \n",
       "127308  ...                2.0  99645276.0     NaN      FRNOR   \n",
       "137099  ...                2.0  99326133.0     NaN      FRNOR   \n",
       "\n",
       "                                 DESCR VNDR_FIELD_C30_J ACTIVE_FLG c1   c3  \\\n",
       "2608    PRESTA.INFORMATIQUES ATG - HTR     2.100000e+09          N  9  996   \n",
       "2630    PRESTA.INFORMATIQUES ATG - HTR     2.100000e+09          N  9  996   \n",
       "2644                               NaN     2.100000e+09          N  9  996   \n",
       "18738                              NaN     2.100000e+09          N  9  996   \n",
       "18740                              NaN     2.100000e+09          N  9  996   \n",
       "18741                              NaN     2.100000e+09          N  9  996   \n",
       "18744                              NaN     2.100000e+09          N  9  996   \n",
       "26715                              NaN     2.100000e+09          N  9  996   \n",
       "37872                              NaN     2.100000e+09          N  9  996   \n",
       "37873                              NaN     2.100000e+09          N  9  996   \n",
       "37875                              NaN     2.100000e+09          N  9  996   \n",
       "37884                              NaN     2.100000e+09          N  9  996   \n",
       "63712                              NaN     2.100000e+09          N  9  996   \n",
       "65717                              NaN     2.100000e+09          N  9  996   \n",
       "65792                              NaN     2.100000e+09          N  9  996   \n",
       "65795                              NaN     2.100000e+09          N  9  996   \n",
       "67538                              NaN     2.100000e+09          N  9  996   \n",
       "67550                              NaN     2.100000e+09          N  9  996   \n",
       "71015                              NaN     2.100000e+09          N  9  996   \n",
       "71029                              NaN     2.100000e+09          N  9  996   \n",
       "71030                              NaN     2.100000e+09          N  9  996   \n",
       "71075                              NaN     2.100000e+09          N  9  996   \n",
       "71902                              NaN     2.100000e+09          N  9  996   \n",
       "121587                             NaN     2.100000e+09          N  9  996   \n",
       "121592                             NaN     2.100000e+09          N  9  996   \n",
       "121598                             NaN     2.100000e+09          N  9  996   \n",
       "121599                             NaN     2.100000e+09          N  9  996   \n",
       "121600                             NaN     2.100000e+09          N  9  996   \n",
       "121619                             NaN     2.100000e+09          N  9  996   \n",
       "121625                             NaN     2.100000e+09          N  9  996   \n",
       "121630                             NaN     2.100000e+09          N  9  996   \n",
       "121633                             NaN     2.100000e+09          N  9  996   \n",
       "121651                             NaN     2.100000e+09          N  9  996   \n",
       "121653                             NaN     2.100000e+09          N  9  996   \n",
       "121658                             NaN     2.100000e+09          N  9  996   \n",
       "121718                             NaN     2.100000e+09          N  9  996   \n",
       "121721                             NaN     2.100000e+09          N  9  996   \n",
       "121731                             NaN     2.100000e+09          N  9  996   \n",
       "121732                             NaN     2.100000e+09          N  9  996   \n",
       "122459                             NaN     2.100000e+09          N  9  996   \n",
       "122518                             NaN     2.100000e+09          N  9  996   \n",
       "122588                             NaN     2.100000e+09          N  9  996   \n",
       "122675                             NaN     2.100000e+09          N  9  996   \n",
       "122731                             NaN     2.100000e+09          N  9  996   \n",
       "122826                             NaN     2.100000e+09          N  9  996   \n",
       "122827                             NaN     2.100000e+09          N  9  996   \n",
       "122828                             NaN     2.100000e+09          N  9  996   \n",
       "126215                             NaN     2.100000e+09          N  9  996   \n",
       "127308                             NaN     2.100000e+09          N  9  996   \n",
       "137099                             NaN     2.100000e+09          N  9  993   \n",
       "\n",
       "        count  \n",
       "2608        1  \n",
       "2630        1  \n",
       "2644        1  \n",
       "18738       1  \n",
       "18740       1  \n",
       "18741       1  \n",
       "18744       1  \n",
       "26715       1  \n",
       "37872       1  \n",
       "37873       1  \n",
       "37875       1  \n",
       "37884       1  \n",
       "63712       1  \n",
       "65717       1  \n",
       "65792       1  \n",
       "65795       1  \n",
       "67538       1  \n",
       "67550       1  \n",
       "71015       1  \n",
       "71029       1  \n",
       "71030       1  \n",
       "71075       1  \n",
       "71902       1  \n",
       "121587      1  \n",
       "121592      1  \n",
       "121598      1  \n",
       "121599      1  \n",
       "121600      1  \n",
       "121619      1  \n",
       "121625      1  \n",
       "121630      1  \n",
       "121633      1  \n",
       "121651      1  \n",
       "121653      1  \n",
       "121658      1  \n",
       "121718      1  \n",
       "121721      1  \n",
       "121731      1  \n",
       "121732      1  \n",
       "122459      1  \n",
       "122518      1  \n",
       "122588      1  \n",
       "122675      1  \n",
       "122731      1  \n",
       "122826      1  \n",
       "122827      1  \n",
       "122828      1  \n",
       "126215      1  \n",
       "127308      1  \n",
       "137099      1  \n",
       "\n",
       "[50 rows x 28 columns]"
      ]
     },
     "execution_count": 145,
     "metadata": {},
     "output_type": "execute_result"
    }
   ],
   "source": [
    "df[df.VENDOR_ID==4]"
   ]
  },
  {
   "cell_type": "code",
   "execution_count": 161,
   "metadata": {
    "collapsed": false
   },
   "outputs": [
    {
     "name": "stderr",
     "output_type": "stream",
     "text": [
      "c:\\homeware\\anaconda3\\lib\\site-packages\\ipykernel\\__main__.py:1: UserWarning: Boolean Series key will be reindexed to match DataFrame index.\n",
      "  if __name__ == '__main__':\n"
     ]
    }
   ],
   "source": [
    "df_996=df[df.c3=='996'][~df.VENDOR_ID.isin(v_11.VENDOR_ID)][~df.VENDOR_ID.isin(v_1_996.VENDOR_ID)]"
   ]
  },
  {
   "cell_type": "markdown",
   "metadata": {
    "nbpresent": {
     "id": "332ef7ff-3707-4191-944c-dbe50fd6929f"
    }
   },
   "source": [
    "#### 1.3 Test data"
   ]
  },
  {
   "cell_type": "code",
   "execution_count": 4,
   "metadata": {
    "collapsed": false,
    "nbpresent": {
     "id": "593acc33-1dd6-4458-aaa6-7869d2d37e31"
    }
   },
   "outputs": [],
   "source": [
    "# cd compte_pre"
   ]
  },
  {
   "cell_type": "code",
   "execution_count": 117,
   "metadata": {
    "collapsed": false,
    "nbpresent": {
     "id": "46bc49a6-9f96-4690-812f-1b5334931dd3"
    }
   },
   "outputs": [],
   "source": [
    "xl_re=pd.ExcelFile(\"facture_pred_v3.xlsx\")\n",
    "df_p=xl_re.parse('Sheet1')"
   ]
  },
  {
   "cell_type": "code",
   "execution_count": null,
   "metadata": {
    "collapsed": true,
    "nbpresent": {
     "id": "8e729688-cfa1-4bb8-bafa-02cb08a4386f"
    }
   },
   "outputs": [],
   "source": []
  },
  {
   "cell_type": "code",
   "execution_count": 52,
   "metadata": {
    "collapsed": true,
    "nbpresent": {
     "id": "de8d2a0e-d5fe-4e1e-ac45-7188e3916387"
    }
   },
   "outputs": [],
   "source": [
    "df_p[\"NEW_ACCOUNT\"]=\"N\""
   ]
  },
  {
   "cell_type": "code",
   "execution_count": 56,
   "metadata": {
    "collapsed": true,
    "nbpresent": {
     "id": "ebe149ac-45de-4979-9e26-660ad19650b2"
    }
   },
   "outputs": [],
   "source": [
    "a=4\n",
    "b=(1,4)"
   ]
  },
  {
   "cell_type": "code",
   "execution_count": 60,
   "metadata": {
    "collapsed": false,
    "nbpresent": {
     "id": "4c642b41-2ee6-4158-8b7f-90437c1fe850"
    }
   },
   "outputs": [],
   "source": [
    "if a not in (b):\n",
    "    print('haha')"
   ]
  },
  {
   "cell_type": "code",
   "execution_count": 111,
   "metadata": {
    "collapsed": false,
    "nbpresent": {
     "id": "cefb9b1d-b94c-4b42-8a48-1ed30d1e81ce"
    }
   },
   "outputs": [],
   "source": [
    "c=df[[\"VENDOR_ID\",'count']].groupby(\"VENDOR_ID\").count().reset_index()"
   ]
  },
  {
   "cell_type": "code",
   "execution_count": 112,
   "metadata": {
    "collapsed": true,
    "nbpresent": {
     "id": "4ca02af7-47c4-4c90-9424-5b63632ed871"
    }
   },
   "outputs": [],
   "source": [
    "d=df[[\"VENDOR_ID\",'ACCOUNT']].groupby(\"VENDOR_ID\").ACCOUNT.nunique().reset_index()"
   ]
  },
  {
   "cell_type": "code",
   "execution_count": 120,
   "metadata": {
    "collapsed": false,
    "nbpresent": {
     "id": "40ca2b4c-0f37-4367-ab4a-4b3efc88a32d"
    }
   },
   "outputs": [],
   "source": [
    "e=d.merge(c,on='VENDOR_ID',how='left')"
   ]
  },
  {
   "cell_type": "code",
   "execution_count": 121,
   "metadata": {
    "collapsed": false,
    "nbpresent": {
     "id": "083222be-2a52-43b3-babd-b09791c6e100"
    }
   },
   "outputs": [],
   "source": [
    "e.to_excel(\"VENDOR_LINE.xlsx\")"
   ]
  },
  {
   "cell_type": "code",
   "execution_count": 55,
   "metadata": {
    "collapsed": false,
    "nbpresent": {
     "id": "70df5a5a-07e1-46da-aed2-2873da734150"
    }
   },
   "outputs": [
    {
     "name": "stderr",
     "output_type": "stream",
     "text": [
      "c:\\homeware\\anaconda3\\lib\\site-packages\\ipykernel\\__main__.py:1: UserWarning: Boolean Series key will be reindexed to match DataFrame index.\n",
      "  if __name__ == '__main__':\n"
     ]
    }
   ],
   "source": [
    "df_acc=df_p[df_p.DIFF!=0][~df_p.flag.isnull()]"
   ]
  },
  {
   "cell_type": "code",
   "execution_count": 17,
   "metadata": {
    "collapsed": false,
    "nbpresent": {
     "id": "d288cab3-b5f9-43cc-af08-506cee743f33"
    }
   },
   "outputs": [],
   "source": [
    "# df_acc[df_acc.VENDOR_ID==5288].flag.isin(df[df.VENDOR_ID==5288].ACCOUNT)"
   ]
  },
  {
   "cell_type": "code",
   "execution_count": 18,
   "metadata": {
    "collapsed": false,
    "nbpresent": {
     "id": "c6437a14-4df7-4b57-a52f-1afe9c38daf8"
    }
   },
   "outputs": [],
   "source": [
    "# for  v in df_acc.VENDOR_ID:\n",
    "#     print(v)\n",
    "#     for index in df_p[df_p.VENDOR_ID==v][~df_p.flag.isnull()][~df_p.flag.isin(df[df.VENDOR_ID==v].ACCOUNT)].index:\n",
    "#         df_p.loc[df.index==index , \"NEW_ACCOUNT\"] = 'Y'"
   ]
  },
  {
   "cell_type": "code",
   "execution_count": 14,
   "metadata": {
    "collapsed": false,
    "nbpresent": {
     "id": "3f8311e8-4246-400e-83e3-cc35e0bbf728"
    }
   },
   "outputs": [],
   "source": [
    "# df_p.loc[[df_p.VENDOR_ID==5288][~df_p.flag.isnull()][~df_p.flag.isin(df[df.VENDOR_ID==5288].ACCOUNT)],'NEW_ACCOUNT']=\"YES\""
   ]
  },
  {
   "cell_type": "code",
   "execution_count": 84,
   "metadata": {
    "collapsed": false,
    "nbpresent": {
     "id": "8b674bd4-d9ff-4ab6-ad4e-4a05f35ddc00"
    }
   },
   "outputs": [
    {
     "name": "stderr",
     "output_type": "stream",
     "text": [
      "c:\\homeware\\anaconda3\\lib\\site-packages\\pandas\\core\\generic.py:2701: SettingWithCopyWarning: \n",
      "A value is trying to be set on a copy of a slice from a DataFrame.\n",
      "Try using .loc[row_indexer,col_indexer] = value instead\n",
      "\n",
      "See the caveats in the documentation: http://pandas.pydata.org/pandas-docs/stable/indexing.html#indexing-view-versus-copy\n",
      "  self[name] = value\n"
     ]
    }
   ],
   "source": [
    "df_p[df_p.index==461].index=\"Y\""
   ]
  },
  {
   "cell_type": "code",
   "execution_count": 95,
   "metadata": {
    "collapsed": false,
    "nbpresent": {
     "id": "ba5e65bf-c854-490e-aa43-9aa7e58250da"
    }
   },
   "outputs": [],
   "source": [
    "df_p.loc[df.index==461 , \"NEW_ACCOUNT\"] = 'Y'"
   ]
  },
  {
   "cell_type": "code",
   "execution_count": 104,
   "metadata": {
    "collapsed": false,
    "nbpresent": {
     "id": "4812d547-edc9-45cf-a3a5-dfc127085316"
    }
   },
   "outputs": [],
   "source": [
    "df_p[\"VENDOR_NEW\"]=~df_p.VENDOR_ID.isin(df.VENDOR_ID)*1"
   ]
  },
  {
   "cell_type": "code",
   "execution_count": 109,
   "metadata": {
    "collapsed": false,
    "nbpresent": {
     "id": "86a8d3eb-e442-402a-b81e-281af5867605"
    }
   },
   "outputs": [
    {
     "data": {
      "text/html": [
       "<div>\n",
       "<table border=\"1\" class=\"dataframe\">\n",
       "  <thead>\n",
       "    <tr style=\"text-align: right;\">\n",
       "      <th></th>\n",
       "      <th>BUSINESS_UNIT</th>\n",
       "      <th>VENDOR_SETID</th>\n",
       "      <th>VENDOR_ID</th>\n",
       "      <th>MONETARY_AMOUNT</th>\n",
       "      <th>VAT_INV_AMT_GL</th>\n",
       "      <th>CURRENCY_CD</th>\n",
       "      <th>ASSET_FLG</th>\n",
       "      <th>Column1</th>\n",
       "      <th>VOUCHER_ID</th>\n",
       "      <th>VOUCHER_LINE_NUM</th>\n",
       "      <th>...</th>\n",
       "      <th>Predicted_993</th>\n",
       "      <th>Predicted_996</th>\n",
       "      <th>Predicted_33</th>\n",
       "      <th>ACCOUNT_y</th>\n",
       "      <th>ACCOUNT_993</th>\n",
       "      <th>ACCOUNT_996</th>\n",
       "      <th>ALL</th>\n",
       "      <th>DIFF</th>\n",
       "      <th>NEW_ACCOUNT</th>\n",
       "      <th>VENDOR_NEW</th>\n",
       "    </tr>\n",
       "  </thead>\n",
       "  <tbody>\n",
       "  </tbody>\n",
       "</table>\n",
       "<p>0 rows × 48 columns</p>\n",
       "</div>"
      ],
      "text/plain": [
       "Empty DataFrame\n",
       "Columns: [BUSINESS_UNIT, VENDOR_SETID, VENDOR_ID, MONETARY_AMOUNT, VAT_INV_AMT_GL, CURRENCY_CD, ASSET_FLG, Column1, VOUCHER_ID, VOUCHER_LINE_NUM, DISTRIB_LINE_NUM, OPRID, PHYSICAL_NATURE, VAT_TREATMENT_GRP, COUNTRY_LOC_BUYER, COUNTRY_LOC_SELLER, VAT_USE_ID, VAT_APPLICABILITY, VAT_TREATMENT, VAT_SERVICE_TYPE, ACCOUNT_x, ALTACCT, TAX_CD_VAT, DESCR, VNDR_FIELD_C30_J, Predicted_1, NEW_VENDOR, Predicted_3, VENDOR_ONE, Predicted_account, Colonne1, réel, flag, resultat, flag.1, resultat.1, Predicted_A, ACTIVE_FLG, Predicted_993, Predicted_996, Predicted_33, ACCOUNT_y, ACCOUNT_993, ACCOUNT_996, ALL, DIFF, NEW_ACCOUNT, VENDOR_NEW]\n",
       "Index: []\n",
       "\n",
       "[0 rows x 48 columns]"
      ]
     },
     "execution_count": 109,
     "metadata": {},
     "output_type": "execute_result"
    }
   ],
   "source": [
    "df_p[df_p.NEW_VENDOR!=df_p.VENDOR_NEW]"
   ]
  },
  {
   "cell_type": "code",
   "execution_count": 19,
   "metadata": {
    "collapsed": false,
    "nbpresent": {
     "id": "a9528c52-12de-416a-9b26-c4e4ab6847e1"
    }
   },
   "outputs": [],
   "source": [
    "# df_p[df_p.VENDOR_ID==5288][~df_p.flag.isnull()].NEW_ACCOUNT"
   ]
  },
  {
   "cell_type": "code",
   "execution_count": 101,
   "metadata": {
    "collapsed": true,
    "nbpresent": {
     "id": "072dfcd3-a09f-4a3f-a95d-15c81bca583b"
    }
   },
   "outputs": [],
   "source": [
    "df_p.to_excel(\"facture_pred_v10.xlsx\")"
   ]
  },
  {
   "cell_type": "markdown",
   "metadata": {
    "nbpresent": {
     "id": "616ed17f-faed-4617-8e2f-01ce5e2ed64f"
    }
   },
   "source": [
    "### 2. Generate new variables"
   ]
  },
  {
   "cell_type": "markdown",
   "metadata": {
    "nbpresent": {
     "id": "91e7d77e-bfdb-4a20-bccd-75894103b86a"
    }
   },
   "source": [
    "#### 2.1 Probality per Vendor"
   ]
  },
  {
   "cell_type": "code",
   "execution_count": 151,
   "metadata": {
    "collapsed": true,
    "nbpresent": {
     "id": "dcd2c0bd-8a44-41f6-b177-afbdddf4f807"
    }
   },
   "outputs": [],
   "source": [
    "ga=df[[\"VENDOR_ID\",\"ACTIVE_FLG\",\"count\"]].groupby([\"VENDOR_ID\",\"ACTIVE_FLG\"])[\"count\"].sum().groupby(level = 0).transform(lambda x: x/x.sum())\n",
    "gga=df[[\"VENDOR_ID\"]].drop_duplicates()\n",
    "for name,group in ga.groupby(level=1):\n",
    "    gi=pd.DataFrame(group.reset_index())[[\"VENDOR_ID\",\"count\"]]\n",
    "    gi = gi.rename(columns={'count': \"AC_\"+str(name)})\n",
    "    gga=gga.merge(gi,on='VENDOR_ID',how='left')\n",
    "gga=gga.fillna(0.0)"
   ]
  },
  {
   "cell_type": "code",
   "execution_count": 26,
   "metadata": {
    "collapsed": false,
    "nbpresent": {
     "id": "14f3535b-5db8-4c88-960f-2cd49e0f6a88"
    }
   },
   "outputs": [],
   "source": [
    "g=df[[\"VENDOR_ID\",\"c1\",\"count\"]].groupby([\"VENDOR_ID\",\"c1\"])[\"count\"].sum().groupby(level = 0).transform(lambda x: x/x.sum())\n",
    "gg=df[[\"VENDOR_ID\"]].drop_duplicates()\n",
    "for name,group in g.groupby(level=1):\n",
    "    gi=pd.DataFrame(group.reset_index())[[\"VENDOR_ID\",\"count\"]]\n",
    "    gi = gi.rename(columns={'count': \"c1_\"+str(name)})\n",
    "    gg=gg.merge(gi,on='VENDOR_ID',how='left')\n",
    "gg=gg.fillna(0.0)"
   ]
  },
  {
   "cell_type": "code",
   "execution_count": 27,
   "metadata": {
    "collapsed": true,
    "nbpresent": {
     "id": "1c045857-2d36-48c3-8904-7b6550b5033e"
    }
   },
   "outputs": [],
   "source": [
    "g3=df[[\"VENDOR_ID\",\"c3\",\"count\"]][df.c1=='9'].groupby([\"VENDOR_ID\",\"c3\"])[\"count\"].sum().groupby(level = 0).transform(lambda x: x/x.sum())"
   ]
  },
  {
   "cell_type": "code",
   "execution_count": 32,
   "metadata": {
    "collapsed": false,
    "nbpresent": {
     "id": "7679c07a-89b8-455f-b986-57084960d133"
    }
   },
   "outputs": [],
   "source": [
    "g3=df[[\"VENDOR_ID\",\"c3\",\"count\"]][df.c1=='9'].groupby([\"VENDOR_ID\",\"c3\"])[\"count\"].sum().groupby(level = 0).transform(lambda x: x/x.sum())\n",
    "gg3=df[[\"VENDOR_ID\"]][df.c1=='9'].drop_duplicates()\n",
    "for name,group in g3.groupby(level=1):\n",
    "#   print(name)\n",
    "    gi=pd.DataFrame(group.reset_index())[[\"VENDOR_ID\",\"count\"]]\n",
    "    gi = gi.rename(columns={'count': \"c3_\"+str(name)})\n",
    "    gg3=gg3.merge(gi,on='VENDOR_ID',how='left')\n",
    "gg3=gg3.fillna(0.0)"
   ]
  },
  {
   "cell_type": "code",
   "execution_count": 69,
   "metadata": {
    "collapsed": false,
    "nbpresent": {
     "id": "138eee64-4290-48b0-8b14-bb816336d66e"
    }
   },
   "outputs": [
    {
     "data": {
      "text/plain": [
       "(8784,)"
      ]
     },
     "execution_count": 69,
     "metadata": {},
     "output_type": "execute_result"
    }
   ],
   "source": [
    "df.VENDOR_ID.unique().shape"
   ]
  },
  {
   "cell_type": "code",
   "execution_count": 702,
   "metadata": {
    "collapsed": false,
    "nbpresent": {
     "id": "0ca41315-8390-499f-a449-d64ff76c8876"
    }
   },
   "outputs": [
    {
     "data": {
      "text/plain": [
       "(8379,)"
      ]
     },
     "execution_count": 702,
     "metadata": {},
     "output_type": "execute_result"
    }
   ],
   "source": [
    "df[df.c1=='9'].VENDOR_ID.unique().shape"
   ]
  },
  {
   "cell_type": "code",
   "execution_count": 30,
   "metadata": {
    "collapsed": false,
    "nbpresent": {
     "id": "aff3022a-d109-43e0-8e11-1e61c87bc1bc"
    }
   },
   "outputs": [],
   "source": [
    "g3_c=df[['VNDR_FIELD_C30_J',\"c3\",\"count\"]][df.c1=='9'].groupby(['VNDR_FIELD_C30_J',\"c3\"])[\"count\"].sum().groupby(level = 0).transform(lambda x: x/x.sum())\n",
    "gg3_c=df[['VNDR_FIELD_C30_J']].drop_duplicates()\n",
    "for name,group in g3_c.groupby(level=1):\n",
    "#   print(name)\n",
    "    gi=pd.DataFrame(group.reset_index())[['VNDR_FIELD_C30_J',\"count\"]]\n",
    "    gi = gi.rename(columns={'count': \"c3_\"+str(name)})\n",
    "    gg3_c=gg3_c.merge(gi,on='VNDR_FIELD_C30_J',how='left')\n",
    "gg3_c=gg3_c.fillna(0.0)"
   ]
  },
  {
   "cell_type": "code",
   "execution_count": 34,
   "metadata": {
    "collapsed": true,
    "nbpresent": {
     "id": "428b006e-a195-4229-be12-db978c2141fe"
    }
   },
   "outputs": [],
   "source": [
    "g_994=df[[\"VENDOR_ID\",\"ACCOUNT\",\"count\"]][df.c3=='994'].groupby([\"VENDOR_ID\",\"ACCOUNT\"])[\"count\"].sum().groupby(level = 0).transform(lambda x: x/x.sum())\n",
    "gg_994=df[[\"VENDOR_ID\"]][df.c3=='994'].drop_duplicates()\n",
    "for name,group in g_994.groupby(level=1):\n",
    "    gi=pd.DataFrame(group.reset_index())[[\"VENDOR_ID\",\"count\"]]\n",
    "    gi = gi.rename(columns={'count': \"c994_\"+str(name)})\n",
    "    gg_994=gg_994.merge(gi,on='VENDOR_ID',how='left')\n",
    "    gg_994=gg_994.fillna(0.0)\n",
    "gg_994=gg_994.drop_duplicates()"
   ]
  },
  {
   "cell_type": "code",
   "execution_count": 17,
   "metadata": {
    "collapsed": true,
    "nbpresent": {
     "id": "ef9e5b17-8cb2-4e8e-9d81-e981463621ee"
    }
   },
   "outputs": [],
   "source": [
    "g_997=df[[\"VENDOR_ID\",\"ACCOUNT\",\"count\"]][df.c3=='997'].groupby([\"VENDOR_ID\",\"ACCOUNT\"])[\"count\"].sum().groupby(level = 0).transform(lambda x: x/x.sum())\n",
    "gg_997=df[[\"VENDOR_ID\"]][df.c3=='997'].drop_duplicates()\n",
    "for name,group in g_997.groupby(level=1):\n",
    "    gi=pd.DataFrame(group.reset_index())[[\"VENDOR_ID\",\"count\"]]\n",
    "    gi = gi.rename(columns={'count': \"c997_\"+str(name)})\n",
    "    gg_997=gg_997.merge(gi,on='VENDOR_ID',how='left')\n",
    "    gg_997=gg_997.fillna(0.0)\n",
    "gg_997=gg_997.drop_duplicates()"
   ]
  },
  {
   "cell_type": "code",
   "execution_count": 35,
   "metadata": {
    "collapsed": false,
    "nbpresent": {
     "id": "2427e271-8d2e-4e53-942e-976bc24fd86f"
    }
   },
   "outputs": [],
   "source": [
    "g_993=df[[\"VENDOR_ID\",\"ACCOUNT\",\"count\"]][df.c3=='993'].groupby([\"VENDOR_ID\",\"ACCOUNT\"])[\"count\"].sum().groupby(level = 0).transform(lambda x: x/x.sum())\n",
    "gg_993=df[[\"VENDOR_ID\"]][df.c3=='993'].drop_duplicates()\n",
    "for name,group in g_993.groupby(level=1):\n",
    "    gi=pd.DataFrame(group.reset_index())[[\"VENDOR_ID\",\"count\"]]\n",
    "    gi = gi.rename(columns={'count': \"c993_\"+str(name)})\n",
    "    gg_993=gg_993.merge(gi,on='VENDOR_ID',how='left')\n",
    "    gg_993=gg_993.fillna(0.0)\n"
   ]
  },
  {
   "cell_type": "code",
   "execution_count": 105,
   "metadata": {
    "collapsed": true
   },
   "outputs": [],
   "source": [
    "df_996['count']=1"
   ]
  },
  {
   "cell_type": "code",
   "execution_count": 111,
   "metadata": {
    "collapsed": false
   },
   "outputs": [
    {
     "data": {
      "text/plain": [
       "array([1000000001, 1000000666, 1000000017, ..., 1000007752,      17719,\n",
       "            17777], dtype=int64)"
      ]
     },
     "execution_count": 111,
     "metadata": {},
     "output_type": "execute_result"
    }
   ],
   "source": [
    "df_996.VENDOR_ID.unique()"
   ]
  },
  {
   "cell_type": "code",
   "execution_count": 157,
   "metadata": {
    "collapsed": true
   },
   "outputs": [],
   "source": [
    "dic_996_y={}"
   ]
  },
  {
   "cell_type": "code",
   "execution_count": 162,
   "metadata": {
    "collapsed": false
   },
   "outputs": [],
   "source": [
    "# df_966"
   ]
  },
  {
   "cell_type": "code",
   "execution_count": 164,
   "metadata": {
    "collapsed": false
   },
   "outputs": [],
   "source": [
    "# df_996[df_996.VENDOR_ID==4].ACCOUNT  "
   ]
  },
  {
   "cell_type": "code",
   "execution_count": 129,
   "metadata": {
    "collapsed": false
   },
   "outputs": [
    {
     "data": {
      "text/plain": [
       "array(['996'], dtype=object)"
      ]
     },
     "execution_count": 129,
     "metadata": {},
     "output_type": "execute_result"
    }
   ],
   "source": [
    "df_996.c3.unique()"
   ]
  },
  {
   "cell_type": "code",
   "execution_count": 171,
   "metadata": {
    "collapsed": false
   },
   "outputs": [],
   "source": [
    "for v_id in df_996.VENDOR_ID.unique():\n",
    "    dic_996_y[str(v_id)]=np.sort(df_996[df_996.VENDOR_ID==v_id].ACCOUNT.unique())"
   ]
  },
  {
   "cell_type": "code",
   "execution_count": 172,
   "metadata": {
    "collapsed": false
   },
   "outputs": [
    {
     "data": {
      "text/plain": [
       "array([ 99640012.,  99645276.,  99646159.,  99652371.,  99655101.])"
      ]
     },
     "execution_count": 172,
     "metadata": {},
     "output_type": "execute_result"
    }
   ],
   "source": [
    "dic_996_y[\"4\"]"
   ]
  },
  {
   "cell_type": "code",
   "execution_count": 110,
   "metadata": {
    "collapsed": false
   },
   "outputs": [
    {
     "name": "stdout",
     "output_type": "stream",
     "text": [
      "105200.0\n",
      "group: VENDOR_ID  ACCOUNT \n",
      "4884       105200.0    0.003846\n",
      "Name: count, dtype: float64\n",
      "   VENDOR_ID  c993_105200.0\n",
      "0       4884       0.003846\n",
      "106200.0\n",
      "group: VENDOR_ID  ACCOUNT \n",
      "4884       106200.0    0.003846\n",
      "Name: count, dtype: float64\n",
      "   VENDOR_ID  c993_106200.0\n",
      "0       4884       0.003846\n",
      "231000.0\n",
      "group: VENDOR_ID  ACCOUNT \n",
      "328        231000.0    0.5\n",
      "Name: count, dtype: float64\n",
      "   VENDOR_ID  c993_231000.0\n",
      "0        328            0.5\n",
      "231800.0\n",
      "group: VENDOR_ID  ACCOUNT \n",
      "7492       231800.0    0.125\n",
      "Name: count, dtype: float64\n",
      "   VENDOR_ID  c993_231800.0\n",
      "0       7492          0.125\n",
      "231801.0\n",
      "group: VENDOR_ID  ACCOUNT \n",
      "16718      231801.0    0.5\n",
      "Name: count, dtype: float64\n",
      "   VENDOR_ID  c993_231801.0\n",
      "0      16718            0.5\n",
      "238800.0\n",
      "group: VENDOR_ID  ACCOUNT \n",
      "16326      238800.0    0.333333\n",
      "Name: count, dtype: float64\n",
      "   VENDOR_ID  c993_238800.0\n",
      "0      16326       0.333333\n",
      "276800.0\n",
      "group: VENDOR_ID  ACCOUNT \n",
      "5526       276800.0    0.008333\n",
      "Name: count, dtype: float64\n",
      "   VENDOR_ID  c993_276800.0\n",
      "0       5526       0.008333\n",
      "335000.0\n",
      "group: VENDOR_ID  ACCOUNT \n",
      "940        335000.0    0.001845\n",
      "Name: count, dtype: float64\n",
      "   VENDOR_ID  c993_335000.0\n",
      "0        940       0.001845\n",
      "401100.0\n",
      "group: VENDOR_ID  ACCOUNT \n",
      "16         401100.0    0.357143\n",
      "118        401100.0    0.075472\n",
      "275        401100.0    0.222222\n",
      "302        401100.0    0.500000\n",
      "487        401100.0    0.227273\n",
      "579        401100.0    0.031250\n",
      "596        401100.0    0.964286\n",
      "655        401100.0    0.500000\n",
      "695        401100.0    0.062500\n",
      "941        401100.0    0.028986\n",
      "1027       401100.0    0.142857\n",
      "1283       401100.0    0.333333\n",
      "1808       401100.0    0.750000\n",
      "1883       401100.0    0.300000\n",
      "2535       401100.0    0.400000\n",
      "3490       401100.0    0.375000\n",
      "4689       401100.0    0.444444\n",
      "4779       401100.0    0.500000\n",
      "4884       401100.0    0.015385\n",
      "5288       401100.0    0.003731\n",
      "5383       401100.0    0.100000\n",
      "5526       401100.0    0.041667\n",
      "6460       401100.0    0.333333\n",
      "6548       401100.0    0.200000\n",
      "7492       401100.0    0.625000\n",
      "8407       401100.0    0.666667\n",
      "8760       401100.0    0.370370\n",
      "8887       401100.0    0.714286\n",
      "9707       401100.0    0.200000\n",
      "9870       401100.0    0.888889\n",
      "9917       401100.0    0.625000\n",
      "9920       401100.0    0.025000\n",
      "10115      401100.0    0.200000\n",
      "11562      401100.0    0.052632\n",
      "12277      401100.0    0.333333\n",
      "12452      401100.0    0.227273\n",
      "13085      401100.0    0.363636\n",
      "13754      401100.0    0.428571\n",
      "14239      401100.0    0.500000\n",
      "14444      401100.0    0.666667\n",
      "14524      401100.0    0.040000\n",
      "15679      401100.0    0.666667\n",
      "16056      401100.0    0.500000\n",
      "16326      401100.0    0.666667\n",
      "16542      401100.0    0.333333\n",
      "16718      401100.0    0.500000\n",
      "17650      401100.0    0.571429\n",
      "Name: count, dtype: float64\n",
      "    VENDOR_ID  c993_401100.0\n",
      "0          16       0.357143\n",
      "1         118       0.075472\n",
      "2         275       0.222222\n",
      "3         302       0.500000\n",
      "4         487       0.227273\n",
      "5         579       0.031250\n",
      "6         596       0.964286\n",
      "7         655       0.500000\n",
      "8         695       0.062500\n",
      "9         941       0.028986\n",
      "10       1027       0.142857\n",
      "11       1283       0.333333\n",
      "12       1808       0.750000\n",
      "13       1883       0.300000\n",
      "14       2535       0.400000\n",
      "15       3490       0.375000\n",
      "16       4689       0.444444\n",
      "17       4779       0.500000\n",
      "18       4884       0.015385\n",
      "19       5288       0.003731\n",
      "20       5383       0.100000\n",
      "21       5526       0.041667\n",
      "22       6460       0.333333\n",
      "23       6548       0.200000\n",
      "24       7492       0.625000\n",
      "25       8407       0.666667\n",
      "26       8760       0.370370\n",
      "27       8887       0.714286\n",
      "28       9707       0.200000\n",
      "29       9870       0.888889\n",
      "30       9917       0.625000\n",
      "31       9920       0.025000\n",
      "32      10115       0.200000\n",
      "33      11562       0.052632\n",
      "34      12277       0.333333\n",
      "35      12452       0.227273\n",
      "36      13085       0.363636\n",
      "37      13754       0.428571\n",
      "38      14239       0.500000\n",
      "39      14444       0.666667\n",
      "40      14524       0.040000\n",
      "41      15679       0.666667\n",
      "42      16056       0.500000\n",
      "43      16326       0.666667\n",
      "44      16542       0.333333\n",
      "45      16718       0.500000\n",
      "46      17650       0.571429\n",
      "606100.0\n",
      "group: VENDOR_ID  ACCOUNT \n",
      "579        606100.0    0.312500\n",
      "5526       606100.0    0.008333\n",
      "Name: count, dtype: float64\n",
      "   VENDOR_ID  c993_606100.0\n",
      "0        579       0.312500\n",
      "1       5526       0.008333\n",
      "606400.0\n",
      "group: VENDOR_ID  ACCOUNT \n",
      "2278       606400.0    0.15625\n",
      "8429       606400.0    0.55000\n",
      "Name: count, dtype: float64\n",
      "   VENDOR_ID  c993_606400.0\n",
      "0       2278        0.15625\n",
      "1       8429        0.55000\n",
      "613200.0\n",
      "group: VENDOR_ID  ACCOUNT \n",
      "695        613200.0    0.812500\n",
      "4884       613200.0    0.007692\n",
      "9920       613200.0    0.250000\n",
      "Name: count, dtype: float64\n",
      "   VENDOR_ID  c993_613200.0\n",
      "0        695       0.812500\n",
      "1       4884       0.007692\n",
      "2       9920       0.250000\n",
      "614000.0\n",
      "group: VENDOR_ID  ACCOUNT \n",
      "9920       614000.0    0.3\n",
      "Name: count, dtype: float64\n",
      "   VENDOR_ID  c993_614000.0\n",
      "0       9920            0.3\n",
      "615600.0\n",
      "group: VENDOR_ID  ACCOUNT \n",
      "13804      615600.0    0.090909\n",
      "Name: count, dtype: float64\n",
      "   VENDOR_ID  c993_615600.0\n",
      "0      13804       0.090909\n",
      "616100.0\n",
      "group: VENDOR_ID  ACCOUNT \n",
      "99         616100.0    0.571429\n",
      "5446       616100.0    0.250000\n",
      "Name: count, dtype: float64\n",
      "   VENDOR_ID  c993_616100.0\n",
      "0         99       0.571429\n",
      "1       5446       0.250000\n",
      "621400.0\n",
      "group: VENDOR_ID  ACCOUNT \n",
      "4884       621400.0    0.092308\n",
      "Name: count, dtype: float64\n",
      "   VENDOR_ID  c993_621400.0\n",
      "0       4884       0.092308\n",
      "622600.0\n",
      "group: VENDOR_ID  ACCOUNT \n",
      "102        622600.0    0.250000\n",
      "227        622600.0    0.266667\n",
      "275        622600.0    0.222222\n",
      "478        622600.0    0.666667\n",
      "1065       622600.0    0.014706\n",
      "1492       622600.0    0.818182\n",
      "1524       622600.0    0.490909\n",
      "5188       622600.0    0.500000\n",
      "Name: count, dtype: float64\n",
      "   VENDOR_ID  c993_622600.0\n",
      "0        102       0.250000\n",
      "1        227       0.266667\n",
      "2        275       0.222222\n",
      "3        478       0.666667\n",
      "4       1065       0.014706\n",
      "5       1492       0.818182\n",
      "6       1524       0.490909\n",
      "7       5188       0.500000\n",
      "622601.0\n",
      "group: VENDOR_ID  ACCOUNT \n",
      "478        622601.0    0.333333\n",
      "1524       622601.0    0.127273\n",
      "Name: count, dtype: float64\n",
      "   VENDOR_ID  c993_622601.0\n",
      "0        478       0.333333\n",
      "1       1524       0.127273\n",
      "622700.0\n",
      "group: VENDOR_ID  ACCOUNT \n",
      "102        622700.0    0.250000\n",
      "227        622700.0    0.600000\n",
      "1084       622700.0    0.666667\n",
      "1492       622700.0    0.181818\n",
      "5188       622700.0    0.500000\n",
      "Name: count, dtype: float64\n",
      "   VENDOR_ID  c993_622700.0\n",
      "0        102       0.250000\n",
      "1        227       0.600000\n",
      "2       1084       0.666667\n",
      "3       1492       0.181818\n",
      "4       5188       0.500000\n",
      "622800.0\n",
      "group: VENDOR_ID  ACCOUNT \n",
      "4884       622800.0    0.046154\n",
      "Name: count, dtype: float64\n",
      "   VENDOR_ID  c993_622800.0\n",
      "0       4884       0.046154\n",
      "622801.0\n",
      "group: VENDOR_ID  ACCOUNT \n",
      "4884       622801.0    0.538462\n",
      "10202      622801.0    0.100000\n",
      "Name: count, dtype: float64\n",
      "   VENDOR_ID  c993_622801.0\n",
      "0       4884       0.538462\n",
      "1      10202       0.100000\n",
      "623100.0\n",
      "group: VENDOR_ID  ACCOUNT \n",
      "1084       623100.0    0.166667\n",
      "Name: count, dtype: float64\n",
      "   VENDOR_ID  c993_623100.0\n",
      "0       1084       0.166667\n",
      "623800.0\n",
      "group: VENDOR_ID  ACCOUNT \n",
      "57         623800.0    0.111111\n",
      "Name: count, dtype: float64\n",
      "   VENDOR_ID  c993_623800.0\n",
      "0         57       0.111111\n",
      "625600.0\n",
      "group: VENDOR_ID  ACCOUNT \n",
      "1524       625600.0    0.018182\n",
      "Name: count, dtype: float64\n",
      "   VENDOR_ID  c993_625600.0\n",
      "0       1524       0.018182\n",
      "626000.0\n",
      "group: VENDOR_ID  ACCOUNT \n",
      "4884       626000.0    0.007692\n",
      "8429       626000.0    0.450000\n",
      "Name: count, dtype: float64\n",
      "   VENDOR_ID  c993_626000.0\n",
      "0       4884       0.007692\n",
      "1       8429       0.450000\n",
      "628100.0\n",
      "group: VENDOR_ID  ACCOUNT \n",
      "57         628100.0    0.777778\n",
      "Name: count, dtype: float64\n",
      "   VENDOR_ID  c993_628100.0\n",
      "0         57       0.777778\n",
      "628200.0\n",
      "group: VENDOR_ID  ACCOUNT \n",
      "695        628200.0    0.062500\n",
      "13804      628200.0    0.909091\n",
      "Name: count, dtype: float64\n",
      "   VENDOR_ID  c993_628200.0\n",
      "0        695       0.062500\n",
      "1      13804       0.909091\n",
      "635120.0\n",
      "group: VENDOR_ID  ACCOUNT \n",
      "9920       635120.0    0.275\n",
      "Name: count, dtype: float64\n",
      "   VENDOR_ID  c993_635120.0\n",
      "0       9920          0.275\n",
      "671200.0\n",
      "group: VENDOR_ID  ACCOUNT \n",
      "5526       671200.0    0.008333\n",
      "10115      671200.0    0.400000\n",
      "Name: count, dtype: float64\n",
      "   VENDOR_ID  c993_671200.0\n",
      "0       5526       0.008333\n",
      "1      10115       0.400000\n",
      "758000.0\n",
      "group: VENDOR_ID  ACCOUNT \n",
      "2278       758000.0    0.046875\n",
      "Name: count, dtype: float64\n",
      "   VENDOR_ID  c993_758000.0\n",
      "0       2278       0.046875\n",
      "778800.0\n",
      "group: VENDOR_ID  ACCOUNT \n",
      "9920       778800.0    0.15\n",
      "Name: count, dtype: float64\n",
      "   VENDOR_ID  c993_778800.0\n",
      "0       9920           0.15\n",
      "10100000.0\n",
      "group: VENDOR_ID   ACCOUNT   \n",
      "1000000315  10100000.0    0.006098\n",
      "1000000733  10100000.0    0.067568\n",
      "1000003979  10100000.0    0.090909\n",
      "1000005925  10100000.0    0.142857\n",
      "1000006486  10100000.0    0.002137\n",
      "1000020390  10100000.0    0.076923\n",
      "1000020532  10100000.0    0.030303\n",
      "1000020640  10100000.0    0.086957\n",
      "1000020858  10100000.0    0.028571\n",
      "Name: count, dtype: float64\n",
      "    VENDOR_ID  c993_10100000.0\n",
      "0  1000000315         0.006098\n",
      "1  1000000733         0.067568\n",
      "2  1000003979         0.090909\n",
      "3  1000005925         0.142857\n",
      "4  1000006486         0.002137\n",
      "5  1000020390         0.076923\n",
      "6  1000020532         0.030303\n",
      "7  1000020640         0.086957\n",
      "8  1000020858         0.028571\n",
      "10101000.0\n",
      "group: VENDOR_ID   ACCOUNT   \n",
      "1000000254  10101000.0    0.004386\n",
      "1000000733  10101000.0    0.040541\n",
      "1000001053  10101000.0    0.007937\n",
      "1000001935  10101000.0    0.083333\n",
      "1000006486  10101000.0    0.008547\n",
      "1000007997  10101000.0    0.011765\n",
      "1000015151  10101000.0    0.025641\n",
      "1000018011  10101000.0    0.166667\n",
      "1000020560  10101000.0    0.166667\n",
      "1000020858  10101000.0    0.142857\n",
      "Name: count, dtype: float64\n",
      "    VENDOR_ID  c993_10101000.0\n",
      "0  1000000254         0.004386\n",
      "1  1000000733         0.040541\n",
      "2  1000001053         0.007937\n",
      "3  1000001935         0.083333\n",
      "4  1000006486         0.008547\n",
      "5  1000007997         0.011765\n",
      "6  1000015151         0.025641\n",
      "7  1000018011         0.166667\n",
      "8  1000020560         0.166667\n",
      "9  1000020858         0.142857\n",
      "10900000.0\n",
      "group: VENDOR_ID   ACCOUNT   \n",
      "1000000315  10900000.0    0.003049\n",
      "1000000733  10900000.0    0.040541\n",
      "1000002023  10900000.0    0.019608\n",
      "1000002562  10900000.0    0.001821\n",
      "1000006486  10900000.0    0.002137\n",
      "1000015840  10900000.0    0.130435\n",
      "1000020560  10900000.0    0.166667\n",
      "1000020858  10900000.0    0.200000\n",
      "1000020864  10900000.0    0.166667\n",
      "Name: count, dtype: float64\n",
      "    VENDOR_ID  c993_10900000.0\n",
      "0  1000000315         0.003049\n",
      "1  1000000733         0.040541\n",
      "2  1000002023         0.019608\n",
      "3  1000002562         0.001821\n",
      "4  1000006486         0.002137\n",
      "5  1000015840         0.130435\n",
      "6  1000020560         0.166667\n",
      "7  1000020858         0.200000\n",
      "8  1000020864         0.166667\n",
      "11101000.0\n",
      "group: VENDOR_ID   ACCOUNT   \n",
      "1000000733  11101000.0    0.027027\n",
      "1000003123  11101000.0    0.100000\n",
      "1000006460  11101000.0    0.166667\n",
      "1000006486  11101000.0    0.008547\n",
      "1000007997  11101000.0    0.023529\n",
      "1000010995  11101000.0    0.125000\n",
      "1000015840  11101000.0    0.043478\n",
      "1000020440  11101000.0    0.142857\n",
      "1000020548  11101000.0    0.200000\n",
      "1000020560  11101000.0    0.200000\n",
      "1000020567  11101000.0    0.071429\n",
      "1000020858  11101000.0    0.171429\n",
      "Name: count, dtype: float64\n",
      "     VENDOR_ID  c993_11101000.0\n",
      "0   1000000733         0.027027\n",
      "1   1000003123         0.100000\n",
      "2   1000006460         0.166667\n",
      "3   1000006486         0.008547\n",
      "4   1000007997         0.023529\n",
      "5   1000010995         0.125000\n",
      "6   1000015840         0.043478\n",
      "7   1000020440         0.142857\n",
      "8   1000020548         0.200000\n",
      "9   1000020560         0.200000\n",
      "10  1000020567         0.071429\n",
      "11  1000020858         0.171429\n",
      "11201000.0\n",
      "group: VENDOR_ID   ACCOUNT   \n",
      "1000000754  11201000.0    0.028571\n",
      "1000000954  11201000.0    0.005181\n",
      "1000006486  11201000.0    0.002137\n",
      "1000015840  11201000.0    0.043478\n",
      "1000020443  11201000.0    0.100000\n",
      "1000020640  11201000.0    0.043478\n",
      "1000020735  11201000.0    0.500000\n",
      "1000020858  11201000.0    0.057143\n",
      "Name: count, dtype: float64\n",
      "    VENDOR_ID  c993_11201000.0\n",
      "0  1000000754         0.028571\n",
      "1  1000000954         0.005181\n",
      "2  1000006486         0.002137\n",
      "3  1000015840         0.043478\n",
      "4  1000020443         0.100000\n",
      "5  1000020640         0.043478\n",
      "6  1000020735         0.500000\n",
      "7  1000020858         0.057143\n",
      "12000000.0\n",
      "group: VENDOR_ID   ACCOUNT   \n",
      "1000007997  12000000.0    0.023529\n",
      "1000020482  12000000.0    0.333333\n",
      "1000020521  12000000.0    0.142857\n",
      "1000020560  12000000.0    0.033333\n",
      "1000020640  12000000.0    0.043478\n",
      "1000020858  12000000.0    0.028571\n",
      "Name: count, dtype: float64\n",
      "    VENDOR_ID  c993_12000000.0\n",
      "0  1000007997         0.023529\n",
      "1  1000020482         0.333333\n",
      "2  1000020521         0.142857\n",
      "3  1000020560         0.033333\n",
      "4  1000020640         0.043478\n",
      "5  1000020858         0.028571\n",
      "12000100.0\n",
      "group: VENDOR_ID   ACCOUNT   \n",
      "1000000017  12000100.0    0.003236\n",
      "1000000315  12000100.0    0.003049\n",
      "1000000733  12000100.0    0.108108\n",
      "1000001532  12000100.0    0.006711\n",
      "1000001713  12000100.0    0.166667\n",
      "1000002562  12000100.0    0.001821\n",
      "1000003123  12000100.0    0.100000\n",
      "1000003633  12000100.0    0.033333\n",
      "1000006273  12000100.0    0.166667\n",
      "1000006486  12000100.0    0.002137\n",
      "1000007997  12000100.0    0.023529\n",
      "1000015840  12000100.0    0.391304\n",
      "1000020411  12000100.0    0.045455\n",
      "1000020532  12000100.0    0.030303\n",
      "1000020560  12000100.0    0.133333\n",
      "1000020858  12000100.0    0.028571\n",
      "1000020868  12000100.0    0.142857\n",
      "Name: count, dtype: float64\n",
      "     VENDOR_ID  c993_12000100.0\n",
      "0   1000000017         0.003236\n",
      "1   1000000315         0.003049\n",
      "2   1000000733         0.108108\n",
      "3   1000001532         0.006711\n",
      "4   1000001713         0.166667\n",
      "5   1000002562         0.001821\n",
      "6   1000003123         0.100000\n",
      "7   1000003633         0.033333\n",
      "8   1000006273         0.166667\n",
      "9   1000006486         0.002137\n",
      "10  1000007997         0.023529\n",
      "11  1000015840         0.391304\n",
      "12  1000020411         0.045455\n",
      "13  1000020532         0.030303\n",
      "14  1000020560         0.133333\n",
      "15  1000020858         0.028571\n",
      "16  1000020868         0.142857\n",
      "12000200.0\n",
      "group: VENDOR_ID   ACCOUNT   \n",
      "1000000017  12000200.0    0.003236\n",
      "1000000132  12000200.0    0.022222\n",
      "1000000315  12000200.0    0.003049\n",
      "1000000733  12000200.0    0.108108\n",
      "1000003123  12000200.0    0.100000\n",
      "1000003979  12000200.0    0.045455\n",
      "1000005861  12000200.0    0.000832\n",
      "1000006486  12000200.0    0.025641\n",
      "1000007997  12000200.0    0.011765\n",
      "1000015151  12000200.0    0.025641\n",
      "1000015840  12000200.0    0.086957\n",
      "1000020532  12000200.0    0.030303\n",
      "1000020560  12000200.0    0.133333\n",
      "1000020640  12000200.0    0.043478\n",
      "1000021433  12000200.0    0.250000\n",
      "Name: count, dtype: float64\n",
      "     VENDOR_ID  c993_12000200.0\n",
      "0   1000000017         0.003236\n",
      "1   1000000132         0.022222\n",
      "2   1000000315         0.003049\n",
      "3   1000000733         0.108108\n",
      "4   1000003123         0.100000\n",
      "5   1000003979         0.045455\n",
      "6   1000005861         0.000832\n",
      "7   1000006486         0.025641\n",
      "8   1000007997         0.011765\n",
      "9   1000015151         0.025641\n",
      "10  1000015840         0.086957\n",
      "11  1000020532         0.030303\n",
      "12  1000020560         0.133333\n",
      "13  1000020640         0.043478\n",
      "14  1000021433         0.250000\n",
      "12000300.0\n",
      "group: VENDOR_ID   ACCOUNT   \n",
      "1000000017  12000300.0    0.001618\n",
      "1000000315  12000300.0    0.006098\n",
      "1000000733  12000300.0    0.040541\n",
      "1000003979  12000300.0    0.045455\n",
      "1000015840  12000300.0    0.043478\n",
      "1000020560  12000300.0    0.033333\n",
      "1000020640  12000300.0    0.043478\n",
      "1000020858  12000300.0    0.028571\n",
      "Name: count, dtype: float64\n",
      "    VENDOR_ID  c993_12000300.0\n",
      "0  1000000017         0.001618\n",
      "1  1000000315         0.006098\n",
      "2  1000000733         0.040541\n",
      "3  1000003979         0.045455\n",
      "4  1000015840         0.043478\n",
      "5  1000020560         0.033333\n",
      "6  1000020640         0.043478\n",
      "7  1000020858         0.028571\n",
      "12000400.0\n",
      "group: VENDOR_ID   ACCOUNT   \n",
      "1000000550  12000400.0    0.250000\n",
      "1000000733  12000400.0    0.013514\n",
      "1000007058  12000400.0    0.090909\n",
      "1000020560  12000400.0    0.066667\n",
      "Name: count, dtype: float64\n",
      "    VENDOR_ID  c993_12000400.0\n",
      "0  1000000550         0.250000\n",
      "1  1000000733         0.013514\n",
      "2  1000007058         0.090909\n",
      "3  1000020560         0.066667\n",
      "12000600.0\n",
      "group: VENDOR_ID   ACCOUNT   \n",
      "1000000315  12000600.0    0.003049\n",
      "1000004286  12000600.0    0.083333\n",
      "1000005861  12000600.0    0.000832\n",
      "1000020482  12000600.0    0.333333\n",
      "1000020567  12000600.0    0.071429\n",
      "Name: count, dtype: float64\n",
      "    VENDOR_ID  c993_12000600.0\n",
      "0  1000000315         0.003049\n",
      "1  1000004286         0.083333\n",
      "2  1000005861         0.000832\n",
      "3  1000020482         0.333333\n",
      "4  1000020567         0.071429\n",
      "12000700.0\n",
      "group: VENDOR_ID   ACCOUNT   \n",
      "1000006486  12000700.0    0.002137\n",
      "1000015840  12000700.0    0.043478\n",
      "1000020640  12000700.0    0.043478\n",
      "Name: count, dtype: float64\n",
      "    VENDOR_ID  c993_12000700.0\n",
      "0  1000006486         0.002137\n",
      "1  1000015840         0.043478\n",
      "2  1000020640         0.043478\n",
      "12000900.0\n",
      "group: VENDOR_ID   ACCOUNT   \n",
      "1000020858  12000900.0    0.028571\n",
      "Name: count, dtype: float64\n",
      "    VENDOR_ID  c993_12000900.0\n",
      "0  1000020858         0.028571\n",
      "12101000.0\n",
      "group: VENDOR_ID   ACCOUNT   \n",
      "1000007396  12101000.0    0.034483\n",
      "Name: count, dtype: float64\n",
      "    VENDOR_ID  c993_12101000.0\n",
      "0  1000007396         0.034483\n",
      "12103000.0\n",
      "group: VENDOR_ID   ACCOUNT   \n",
      "1000000070  12103000.0    0.001531\n",
      "Name: count, dtype: float64\n",
      "    VENDOR_ID  c993_12103000.0\n",
      "0  1000000070         0.001531\n",
      "12103601.0\n",
      "group: VENDOR_ID   ACCOUNT   \n",
      "1000015840  12103601.0    0.043478\n",
      "Name: count, dtype: float64\n",
      "    VENDOR_ID  c993_12103601.0\n",
      "0  1000015840         0.043478\n",
      "12108455.0\n",
      "group: VENDOR_ID   ACCOUNT   \n",
      "1000015840  12108455.0    0.043478\n",
      "Name: count, dtype: float64\n",
      "    VENDOR_ID  c993_12108455.0\n",
      "0  1000015840         0.043478\n",
      "12108930.0\n",
      "group: VENDOR_ID   ACCOUNT   \n",
      "1000015840  12108930.0    0.043478\n",
      "Name: count, dtype: float64\n",
      "    VENDOR_ID  c993_12108930.0\n",
      "0  1000015840         0.043478\n",
      "36111000.0\n",
      "group: VENDOR_ID   ACCOUNT   \n",
      "1000008710  36111000.0    0.058824\n",
      "Name: count, dtype: float64\n",
      "    VENDOR_ID  c993_36111000.0\n",
      "0  1000008710         0.058824\n",
      "36561011.0\n",
      "group: VENDOR_ID   ACCOUNT   \n",
      "1000000070  36561011.0    0.007657\n",
      "Name: count, dtype: float64\n",
      "    VENDOR_ID  c993_36561011.0\n",
      "0  1000000070         0.007657\n",
      "36563502.0\n",
      "group: VENDOR_ID   ACCOUNT   \n",
      "1000019512  36563502.0    0.05\n",
      "Name: count, dtype: float64\n",
      "    VENDOR_ID  c993_36563502.0\n",
      "0  1000019512             0.05\n",
      "44202000.0\n",
      "group: VENDOR_ID   ACCOUNT   \n",
      "1000002038  44202000.0    0.250\n",
      "1000012315  44202000.0    0.375\n",
      "1000013530  44202000.0    0.250\n",
      "Name: count, dtype: float64\n",
      "    VENDOR_ID  c993_44202000.0\n",
      "0  1000002038            0.250\n",
      "1  1000012315            0.375\n",
      "2  1000013530            0.250\n",
      "44203000.0\n",
      "group: VENDOR_ID   ACCOUNT   \n",
      "1000001098  44203000.0    0.090909\n",
      "1000011983  44203000.0    0.250000\n",
      "Name: count, dtype: float64\n",
      "    VENDOR_ID  c993_44203000.0\n",
      "0  1000001098         0.090909\n",
      "1  1000011983         0.250000\n",
      "60722001.0\n",
      "group: VENDOR_ID   ACCOUNT   \n",
      "1000020563  60722001.0    0.010101\n",
      "Name: count, dtype: float64\n",
      "    VENDOR_ID  c993_60722001.0\n",
      "0  1000020563         0.010101\n",
      "60722002.0\n",
      "group: VENDOR_ID   ACCOUNT   \n",
      "1000020563  60722002.0    0.025253\n",
      "Name: count, dtype: float64\n",
      "    VENDOR_ID  c993_60722002.0\n",
      "0  1000020563         0.025253\n",
      "60722003.0\n",
      "group: VENDOR_ID   ACCOUNT   \n",
      "1000020563  60722003.0    0.025253\n",
      "Name: count, dtype: float64\n",
      "    VENDOR_ID  c993_60722003.0\n",
      "0  1000020563         0.025253\n",
      "60722004.0\n",
      "group: VENDOR_ID   ACCOUNT   \n",
      "1000020563  60722004.0    0.055556\n",
      "Name: count, dtype: float64\n",
      "    VENDOR_ID  c993_60722004.0\n",
      "0  1000020563         0.055556\n",
      "60722005.0\n",
      "group: VENDOR_ID   ACCOUNT   \n",
      "1000020559  60722005.0    0.25\n",
      "Name: count, dtype: float64\n",
      "    VENDOR_ID  c993_60722005.0\n",
      "0  1000020559             0.25\n",
      "60722006.0\n",
      "group: VENDOR_ID   ACCOUNT   \n",
      "1000020559  60722006.0    0.625\n",
      "Name: count, dtype: float64\n",
      "    VENDOR_ID  c993_60722006.0\n",
      "0  1000020559            0.625\n",
      "60722007.0\n",
      "group: VENDOR_ID   ACCOUNT   \n",
      "1000020563  60722007.0    0.237374\n",
      "Name: count, dtype: float64\n",
      "    VENDOR_ID  c993_60722007.0\n",
      "0  1000020563         0.237374\n",
      "60722008.0\n",
      "group: VENDOR_ID   ACCOUNT   \n",
      "1000020563  60722008.0    0.020202\n",
      "Name: count, dtype: float64\n",
      "    VENDOR_ID  c993_60722008.0\n",
      "0  1000020563         0.020202\n",
      "60722009.0\n",
      "group: VENDOR_ID   ACCOUNT   \n",
      "1000015436  60722009.0    0.333333\n",
      "Name: count, dtype: float64\n",
      "    VENDOR_ID  c993_60722009.0\n",
      "0  1000015436         0.333333\n",
      "60722010.0\n",
      "group: VENDOR_ID   ACCOUNT   \n",
      "1000020563  60722010.0    0.015152\n",
      "Name: count, dtype: float64\n",
      "    VENDOR_ID  c993_60722010.0\n",
      "0  1000020563         0.015152\n",
      "60722011.0\n",
      "group: VENDOR_ID   ACCOUNT   \n",
      "1000020560  60722011.0    0.066667\n",
      "Name: count, dtype: float64\n",
      "    VENDOR_ID  c993_60722011.0\n",
      "0  1000020560         0.066667\n",
      "60722012.0\n",
      "group: VENDOR_ID   ACCOUNT   \n",
      "1000020559  60722012.0    0.125\n",
      "Name: count, dtype: float64\n",
      "    VENDOR_ID  c993_60722012.0\n",
      "0  1000020559            0.125\n",
      "60930008.0\n",
      "group: VENDOR_ID   ACCOUNT   \n",
      "1000003072  60930008.0    0.411765\n",
      "1000006273  60930008.0    0.833333\n",
      "1000020414  60930008.0    0.857143\n",
      "1000020440  60930008.0    0.857143\n",
      "1000020443  60930008.0    0.800000\n",
      "1000020546  60930008.0    0.875000\n",
      "1000020864  60930008.0    0.833333\n",
      "1000020867  60930008.0    0.833333\n",
      "1000020868  60930008.0    0.857143\n",
      "1000021433  60930008.0    0.750000\n",
      "1000021531  60930008.0    0.200000\n",
      "Name: count, dtype: float64\n",
      "     VENDOR_ID  c993_60930008.0\n",
      "0   1000003072         0.411765\n",
      "1   1000006273         0.833333\n",
      "2   1000020414         0.857143\n",
      "3   1000020440         0.857143\n",
      "4   1000020443         0.800000\n",
      "5   1000020546         0.875000\n",
      "6   1000020864         0.833333\n",
      "7   1000020867         0.833333\n",
      "8   1000020868         0.857143\n",
      "9   1000021433         0.750000\n",
      "10  1000021531         0.200000\n",
      "60930013.0\n",
      "group: VENDOR_ID   ACCOUNT   \n",
      "1000020653  60930013.0    0.833333\n",
      "1000021531  60930013.0    0.800000\n",
      "Name: count, dtype: float64\n",
      "    VENDOR_ID  c993_60930013.0\n",
      "0  1000020653         0.833333\n",
      "1  1000021531         0.800000\n",
      "61105000.0\n",
      "group: VENDOR_ID   ACCOUNT   \n",
      "1000007997  61105000.0    0.070588\n",
      "1000020390  61105000.0    0.153846\n",
      "Name: count, dtype: float64\n",
      "    VENDOR_ID  c993_61105000.0\n",
      "0  1000007997         0.070588\n",
      "1  1000020390         0.153846\n",
      "61291001.0\n",
      "group: VENDOR_ID   ACCOUNT   \n",
      "1000000070  61291001.0    0.007657\n",
      "Name: count, dtype: float64\n",
      "    VENDOR_ID  c993_61291001.0\n",
      "0  1000000070         0.007657\n",
      "61291003.0\n",
      "group: VENDOR_ID   ACCOUNT   \n",
      "1000000068  61291003.0    0.00495\n",
      "1000000765  61291003.0    0.25000\n",
      "Name: count, dtype: float64\n",
      "    VENDOR_ID  c993_61291003.0\n",
      "0  1000000068          0.00495\n",
      "1  1000000765          0.25000\n",
      "61401000.0\n",
      "group: VENDOR_ID   ACCOUNT   \n",
      "1000000041  61401000.0    0.500000\n",
      "1000000132  61401000.0    0.133333\n",
      "1000000369  61401000.0    0.222222\n",
      "1000000418  61401000.0    0.333333\n",
      "1000000523  61401000.0    0.100000\n",
      "1000000562  61401000.0    0.166667\n",
      "1000001713  61401000.0    0.166667\n",
      "1000002000  61401000.0    0.857143\n",
      "1000004610  61401000.0    0.857143\n",
      "1000005807  61401000.0    0.074074\n",
      "1000007997  61401000.0    0.011765\n",
      "1000008697  61401000.0    0.086957\n",
      "1000011887  61401000.0    0.072727\n",
      "1000014747  61401000.0    0.333333\n",
      "1000015478  61401000.0    0.125000\n",
      "1000015932  61401000.0    0.047619\n",
      "1000020413  61401000.0    0.333333\n",
      "Name: count, dtype: float64\n",
      "     VENDOR_ID  c993_61401000.0\n",
      "0   1000000041         0.500000\n",
      "1   1000000132         0.133333\n",
      "2   1000000369         0.222222\n",
      "3   1000000418         0.333333\n",
      "4   1000000523         0.100000\n",
      "5   1000000562         0.166667\n",
      "6   1000001713         0.166667\n",
      "7   1000002000         0.857143\n",
      "8   1000004610         0.857143\n",
      "9   1000005807         0.074074\n",
      "10  1000007997         0.011765\n",
      "11  1000008697         0.086957\n",
      "12  1000011887         0.072727\n",
      "13  1000014747         0.333333\n",
      "14  1000015478         0.125000\n",
      "15  1000015932         0.047619\n",
      "16  1000020413         0.333333\n",
      "62300000.0\n",
      "group: VENDOR_ID   ACCOUNT   \n",
      "1000008710  62300000.0    0.058824\n",
      "Name: count, dtype: float64\n",
      "    VENDOR_ID  c993_62300000.0\n",
      "0  1000008710         0.058824\n",
      "62300010.0\n",
      "group: VENDOR_ID   ACCOUNT   \n",
      "1000008710  62300010.0    0.058824\n",
      "1000015151  62300010.0    0.025641\n",
      "Name: count, dtype: float64\n",
      "    VENDOR_ID  c993_62300010.0\n",
      "0  1000008710         0.058824\n",
      "1  1000015151         0.025641\n",
      "62300020.0\n",
      "group: VENDOR_ID   ACCOUNT   \n",
      "1000008710  62300020.0    0.058824\n",
      "Name: count, dtype: float64\n",
      "    VENDOR_ID  c993_62300020.0\n",
      "0  1000008710         0.058824\n",
      "62300100.0\n",
      "group: VENDOR_ID   ACCOUNT   \n",
      "1000008710  62300100.0    0.058824\n",
      "1000015151  62300100.0    0.025641\n",
      "Name: count, dtype: float64\n",
      "    VENDOR_ID  c993_62300100.0\n",
      "0  1000008710         0.058824\n",
      "1  1000015151         0.025641\n",
      "63100100.0\n",
      "group: VENDOR_ID   ACCOUNT   \n",
      "1000000641  63100100.0    0.333333\n",
      "1000001053  63100100.0    0.007937\n",
      "Name: count, dtype: float64\n",
      "    VENDOR_ID  c993_63100100.0\n",
      "0  1000000641         0.333333\n",
      "1  1000001053         0.007937\n",
      "63210000.0\n",
      "group: VENDOR_ID   ACCOUNT   \n",
      "1000008710  63210000.0    0.235294\n",
      "1000015151  63210000.0    0.076923\n",
      "Name: count, dtype: float64\n",
      "    VENDOR_ID  c993_63210000.0\n",
      "0  1000008710         0.235294\n",
      "1  1000015151         0.076923\n",
      "63210001.0\n",
      "group: VENDOR_ID   ACCOUNT   \n",
      "1000000120  63210001.0    0.133333\n",
      "1000000282  63210001.0    0.019608\n",
      "1000008710  63210001.0    0.235294\n",
      "1000015151  63210001.0    0.051282\n",
      "Name: count, dtype: float64\n",
      "    VENDOR_ID  c993_63210001.0\n",
      "0  1000000120         0.133333\n",
      "1  1000000282         0.019608\n",
      "2  1000008710         0.235294\n",
      "3  1000015151         0.051282\n",
      "63212001.0\n",
      "group: VENDOR_ID   ACCOUNT   \n",
      "1000000282  63212001.0    0.019608\n",
      "1000020482  63212001.0    0.333333\n",
      "1000020498  63212001.0    0.244444\n",
      "Name: count, dtype: float64\n",
      "    VENDOR_ID  c993_63212001.0\n",
      "0  1000000282         0.019608\n",
      "1  1000020482         0.333333\n",
      "2  1000020498         0.244444\n",
      "63220200.0\n",
      "group: VENDOR_ID   ACCOUNT   \n",
      "1000000236  63220200.0    0.222222\n",
      "Name: count, dtype: float64\n",
      "    VENDOR_ID  c993_63220200.0\n",
      "0  1000000236         0.222222\n",
      "63220300.0\n",
      "group: VENDOR_ID   ACCOUNT   \n",
      "1000020646  63220300.0    0.2\n",
      "Name: count, dtype: float64\n",
      "    VENDOR_ID  c993_63220300.0\n",
      "0  1000020646              0.2\n",
      "63220500.0\n",
      "group: VENDOR_ID   ACCOUNT   \n",
      "1000020646  63220500.0    0.8\n",
      "Name: count, dtype: float64\n",
      "    VENDOR_ID  c993_63220500.0\n",
      "0  1000020646              0.8\n",
      "63300000.0\n",
      "group: VENDOR_ID   ACCOUNT   \n",
      "1000007997  63300000.0    0.094118\n",
      "Name: count, dtype: float64\n",
      "    VENDOR_ID  c993_63300000.0\n",
      "0  1000007997         0.094118\n",
      "63300002.0\n",
      "group: VENDOR_ID   ACCOUNT   \n",
      "1000007997  63300002.0    0.011765\n",
      "1000021674  63300002.0    0.250000\n",
      "Name: count, dtype: float64\n",
      "    VENDOR_ID  c993_63300002.0\n",
      "0  1000007997         0.011765\n",
      "1  1000021674         0.250000\n",
      "63300004.0\n",
      "group: VENDOR_ID   ACCOUNT   \n",
      "1000007997  63300004.0    0.094118\n",
      "Name: count, dtype: float64\n",
      "    VENDOR_ID  c993_63300004.0\n",
      "0  1000007997         0.094118\n",
      "63300006.0\n",
      "group: VENDOR_ID   ACCOUNT   \n",
      "1000007997  63300006.0    0.094118\n",
      "Name: count, dtype: float64\n",
      "    VENDOR_ID  c993_63300006.0\n",
      "0  1000007997         0.094118\n",
      "63300008.0\n",
      "group: VENDOR_ID   ACCOUNT   \n",
      "1000020411  63300008.0    0.454545\n",
      "Name: count, dtype: float64\n",
      "    VENDOR_ID  c993_63300008.0\n",
      "0  1000020411         0.454545\n",
      "63310000.0\n",
      "group: VENDOR_ID   ACCOUNT   \n",
      "1000007997  63310000.0    0.094118\n",
      "Name: count, dtype: float64\n",
      "    VENDOR_ID  c993_63310000.0\n",
      "0  1000007997         0.094118\n",
      "63310007.0\n",
      "group: VENDOR_ID   ACCOUNT   \n",
      "1000007997  63310007.0    0.070588\n",
      "Name: count, dtype: float64\n",
      "    VENDOR_ID  c993_63310007.0\n",
      "0  1000007997         0.070588\n",
      "63313000.0\n",
      "group: VENDOR_ID   ACCOUNT   \n",
      "1000020411  63313000.0    0.5\n",
      "Name: count, dtype: float64\n",
      "    VENDOR_ID  c993_63313000.0\n",
      "0  1000020411              0.5\n",
      "63410000.0\n",
      "group: VENDOR_ID   ACCOUNT   \n",
      "1000020499  63410000.0    0.166667\n",
      "Name: count, dtype: float64\n"
     ]
    },
    {
     "ename": "KeyboardInterrupt",
     "evalue": "",
     "output_type": "error",
     "traceback": [
      "\u001b[1;31m---------------------------------------------------------------------------\u001b[0m",
      "\u001b[1;31mKeyboardInterrupt\u001b[0m                         Traceback (most recent call last)",
      "\u001b[1;32m<ipython-input-110-b670ead3cb92>\u001b[0m in \u001b[0;36m<module>\u001b[1;34m()\u001b[0m\n\u001b[0;32m      5\u001b[0m     \u001b[0mprint\u001b[0m\u001b[1;33m(\u001b[0m\u001b[1;34m\"group:\"\u001b[0m\u001b[1;33m,\u001b[0m\u001b[0mgroup\u001b[0m\u001b[1;33m)\u001b[0m\u001b[1;33m\u001b[0m\u001b[0m\n\u001b[0;32m      6\u001b[0m     \u001b[0mgi\u001b[0m\u001b[1;33m=\u001b[0m\u001b[0mpd\u001b[0m\u001b[1;33m.\u001b[0m\u001b[0mDataFrame\u001b[0m\u001b[1;33m(\u001b[0m\u001b[0mgroup\u001b[0m\u001b[1;33m.\u001b[0m\u001b[0mreset_index\u001b[0m\u001b[1;33m(\u001b[0m\u001b[1;33m)\u001b[0m\u001b[1;33m)\u001b[0m\u001b[1;33m[\u001b[0m\u001b[1;33m[\u001b[0m\u001b[1;34m\"VENDOR_ID\"\u001b[0m\u001b[1;33m,\u001b[0m\u001b[1;34m\"count\"\u001b[0m\u001b[1;33m]\u001b[0m\u001b[1;33m]\u001b[0m\u001b[1;33m\u001b[0m\u001b[0m\n\u001b[1;32m----> 7\u001b[1;33m     \u001b[0mgi\u001b[0m \u001b[1;33m=\u001b[0m \u001b[0mgi\u001b[0m\u001b[1;33m.\u001b[0m\u001b[0mrename\u001b[0m\u001b[1;33m(\u001b[0m\u001b[0mcolumns\u001b[0m\u001b[1;33m=\u001b[0m\u001b[1;33m{\u001b[0m\u001b[1;34m'count'\u001b[0m\u001b[1;33m:\u001b[0m \u001b[1;34m\"c993_\"\u001b[0m\u001b[1;33m+\u001b[0m\u001b[0mstr\u001b[0m\u001b[1;33m(\u001b[0m\u001b[0mname\u001b[0m\u001b[1;33m)\u001b[0m\u001b[1;33m}\u001b[0m\u001b[1;33m)\u001b[0m\u001b[1;33m\u001b[0m\u001b[0m\n\u001b[0m\u001b[0;32m      8\u001b[0m     \u001b[0mprint\u001b[0m\u001b[1;33m(\u001b[0m\u001b[0mgi\u001b[0m\u001b[1;33m)\u001b[0m\u001b[1;33m\u001b[0m\u001b[0m\n\u001b[0;32m      9\u001b[0m     \u001b[0mgg_996\u001b[0m\u001b[1;33m=\u001b[0m\u001b[0mgg_996\u001b[0m\u001b[1;33m.\u001b[0m\u001b[0mmerge\u001b[0m\u001b[1;33m(\u001b[0m\u001b[0mgi\u001b[0m\u001b[1;33m,\u001b[0m\u001b[0mon\u001b[0m\u001b[1;33m=\u001b[0m\u001b[1;34m'VENDOR_ID'\u001b[0m\u001b[1;33m,\u001b[0m\u001b[0mhow\u001b[0m\u001b[1;33m=\u001b[0m\u001b[1;34m'left'\u001b[0m\u001b[1;33m)\u001b[0m\u001b[1;33m\u001b[0m\u001b[0m\n",
      "\u001b[1;32mc:\\homeware\\anaconda3\\lib\\site-packages\\pandas\\core\\frame.py\u001b[0m in \u001b[0;36mrename\u001b[1;34m(self, index, columns, **kwargs)\u001b[0m\n\u001b[0;32m   2752\u001b[0m     \u001b[1;32mdef\u001b[0m \u001b[0mrename\u001b[0m\u001b[1;33m(\u001b[0m\u001b[0mself\u001b[0m\u001b[1;33m,\u001b[0m \u001b[0mindex\u001b[0m\u001b[1;33m=\u001b[0m\u001b[1;32mNone\u001b[0m\u001b[1;33m,\u001b[0m \u001b[0mcolumns\u001b[0m\u001b[1;33m=\u001b[0m\u001b[1;32mNone\u001b[0m\u001b[1;33m,\u001b[0m \u001b[1;33m**\u001b[0m\u001b[0mkwargs\u001b[0m\u001b[1;33m)\u001b[0m\u001b[1;33m:\u001b[0m\u001b[1;33m\u001b[0m\u001b[0m\n\u001b[0;32m   2753\u001b[0m         return super(DataFrame, self).rename(index=index, columns=columns,\n\u001b[1;32m-> 2754\u001b[1;33m                                              **kwargs)\n\u001b[0m\u001b[0;32m   2755\u001b[0m \u001b[1;33m\u001b[0m\u001b[0m\n\u001b[0;32m   2756\u001b[0m     \u001b[1;33m@\u001b[0m\u001b[0mAppender\u001b[0m\u001b[1;33m(\u001b[0m\u001b[0m_shared_docs\u001b[0m\u001b[1;33m[\u001b[0m\u001b[1;34m'fillna'\u001b[0m\u001b[1;33m]\u001b[0m \u001b[1;33m%\u001b[0m \u001b[0m_shared_doc_kwargs\u001b[0m\u001b[1;33m)\u001b[0m\u001b[1;33m\u001b[0m\u001b[0m\n",
      "\u001b[1;32mc:\\homeware\\anaconda3\\lib\\site-packages\\pandas\\core\\generic.py\u001b[0m in \u001b[0;36mrename\u001b[1;34m(self, *args, **kwargs)\u001b[0m\n\u001b[0;32m    643\u001b[0m \u001b[1;33m\u001b[0m\u001b[0m\n\u001b[0;32m    644\u001b[0m         \u001b[0mself\u001b[0m\u001b[1;33m.\u001b[0m\u001b[0m_consolidate_inplace\u001b[0m\u001b[1;33m(\u001b[0m\u001b[1;33m)\u001b[0m\u001b[1;33m\u001b[0m\u001b[0m\n\u001b[1;32m--> 645\u001b[1;33m         \u001b[0mresult\u001b[0m \u001b[1;33m=\u001b[0m \u001b[0mself\u001b[0m \u001b[1;32mif\u001b[0m \u001b[0minplace\u001b[0m \u001b[1;32melse\u001b[0m \u001b[0mself\u001b[0m\u001b[1;33m.\u001b[0m\u001b[0mcopy\u001b[0m\u001b[1;33m(\u001b[0m\u001b[0mdeep\u001b[0m\u001b[1;33m=\u001b[0m\u001b[0mcopy\u001b[0m\u001b[1;33m)\u001b[0m\u001b[1;33m\u001b[0m\u001b[0m\n\u001b[0m\u001b[0;32m    646\u001b[0m \u001b[1;33m\u001b[0m\u001b[0m\n\u001b[0;32m    647\u001b[0m         \u001b[1;31m# start in the axis order to eliminate too many copies\u001b[0m\u001b[1;33m\u001b[0m\u001b[1;33m\u001b[0m\u001b[0m\n",
      "\u001b[1;32mc:\\homeware\\anaconda3\\lib\\site-packages\\pandas\\core\\generic.py\u001b[0m in \u001b[0;36mcopy\u001b[1;34m(self, deep)\u001b[0m\n\u001b[0;32m   2971\u001b[0m         \"\"\"\n\u001b[0;32m   2972\u001b[0m         \u001b[0mdata\u001b[0m \u001b[1;33m=\u001b[0m \u001b[0mself\u001b[0m\u001b[1;33m.\u001b[0m\u001b[0m_data\u001b[0m\u001b[1;33m.\u001b[0m\u001b[0mcopy\u001b[0m\u001b[1;33m(\u001b[0m\u001b[0mdeep\u001b[0m\u001b[1;33m=\u001b[0m\u001b[0mdeep\u001b[0m\u001b[1;33m)\u001b[0m\u001b[1;33m\u001b[0m\u001b[0m\n\u001b[1;32m-> 2973\u001b[1;33m         \u001b[1;32mreturn\u001b[0m \u001b[0mself\u001b[0m\u001b[1;33m.\u001b[0m\u001b[0m_constructor\u001b[0m\u001b[1;33m(\u001b[0m\u001b[0mdata\u001b[0m\u001b[1;33m)\u001b[0m\u001b[1;33m.\u001b[0m\u001b[0m__finalize__\u001b[0m\u001b[1;33m(\u001b[0m\u001b[0mself\u001b[0m\u001b[1;33m)\u001b[0m\u001b[1;33m\u001b[0m\u001b[0m\n\u001b[0m\u001b[0;32m   2974\u001b[0m \u001b[1;33m\u001b[0m\u001b[0m\n\u001b[0;32m   2975\u001b[0m     def _convert(self, datetime=False, numeric=False, timedelta=False,\n",
      "\u001b[1;32mc:\\homeware\\anaconda3\\lib\\site-packages\\pandas\\core\\frame.py\u001b[0m in \u001b[0;36m__init__\u001b[1;34m(self, data, index, columns, dtype, copy)\u001b[0m\n\u001b[0;32m    220\u001b[0m         \u001b[1;32mif\u001b[0m \u001b[0misinstance\u001b[0m\u001b[1;33m(\u001b[0m\u001b[0mdata\u001b[0m\u001b[1;33m,\u001b[0m \u001b[0mBlockManager\u001b[0m\u001b[1;33m)\u001b[0m\u001b[1;33m:\u001b[0m\u001b[1;33m\u001b[0m\u001b[0m\n\u001b[0;32m    221\u001b[0m             mgr = self._init_mgr(data, axes=dict(index=index, columns=columns),\n\u001b[1;32m--> 222\u001b[1;33m                                  dtype=dtype, copy=copy)\n\u001b[0m\u001b[0;32m    223\u001b[0m         \u001b[1;32melif\u001b[0m \u001b[0misinstance\u001b[0m\u001b[1;33m(\u001b[0m\u001b[0mdata\u001b[0m\u001b[1;33m,\u001b[0m \u001b[0mdict\u001b[0m\u001b[1;33m)\u001b[0m\u001b[1;33m:\u001b[0m\u001b[1;33m\u001b[0m\u001b[0m\n\u001b[0;32m    224\u001b[0m             \u001b[0mmgr\u001b[0m \u001b[1;33m=\u001b[0m \u001b[0mself\u001b[0m\u001b[1;33m.\u001b[0m\u001b[0m_init_dict\u001b[0m\u001b[1;33m(\u001b[0m\u001b[0mdata\u001b[0m\u001b[1;33m,\u001b[0m \u001b[0mindex\u001b[0m\u001b[1;33m,\u001b[0m \u001b[0mcolumns\u001b[0m\u001b[1;33m,\u001b[0m \u001b[0mdtype\u001b[0m\u001b[1;33m=\u001b[0m\u001b[0mdtype\u001b[0m\u001b[1;33m)\u001b[0m\u001b[1;33m\u001b[0m\u001b[0m\n",
      "\u001b[1;32mc:\\homeware\\anaconda3\\lib\\site-packages\\pandas\\core\\generic.py\u001b[0m in \u001b[0;36m_init_mgr\u001b[1;34m(self, mgr, axes, dtype, copy)\u001b[0m\n\u001b[0;32m    124\u001b[0m     \u001b[1;32mdef\u001b[0m \u001b[0m_init_mgr\u001b[0m\u001b[1;33m(\u001b[0m\u001b[0mself\u001b[0m\u001b[1;33m,\u001b[0m \u001b[0mmgr\u001b[0m\u001b[1;33m,\u001b[0m \u001b[0maxes\u001b[0m\u001b[1;33m=\u001b[0m\u001b[1;32mNone\u001b[0m\u001b[1;33m,\u001b[0m \u001b[0mdtype\u001b[0m\u001b[1;33m=\u001b[0m\u001b[1;32mNone\u001b[0m\u001b[1;33m,\u001b[0m \u001b[0mcopy\u001b[0m\u001b[1;33m=\u001b[0m\u001b[1;32mFalse\u001b[0m\u001b[1;33m)\u001b[0m\u001b[1;33m:\u001b[0m\u001b[1;33m\u001b[0m\u001b[0m\n\u001b[0;32m    125\u001b[0m         \u001b[1;34m\"\"\" passed a manager and a axes dict \"\"\"\u001b[0m\u001b[1;33m\u001b[0m\u001b[0m\n\u001b[1;32m--> 126\u001b[1;33m         \u001b[1;32mfor\u001b[0m \u001b[0ma\u001b[0m\u001b[1;33m,\u001b[0m \u001b[0maxe\u001b[0m \u001b[1;32min\u001b[0m \u001b[0maxes\u001b[0m\u001b[1;33m.\u001b[0m\u001b[0mitems\u001b[0m\u001b[1;33m(\u001b[0m\u001b[1;33m)\u001b[0m\u001b[1;33m:\u001b[0m\u001b[1;33m\u001b[0m\u001b[0m\n\u001b[0m\u001b[0;32m    127\u001b[0m             \u001b[1;32mif\u001b[0m \u001b[0maxe\u001b[0m \u001b[1;32mis\u001b[0m \u001b[1;32mnot\u001b[0m \u001b[1;32mNone\u001b[0m\u001b[1;33m:\u001b[0m\u001b[1;33m\u001b[0m\u001b[0m\n\u001b[0;32m    128\u001b[0m                 mgr = mgr.reindex_axis(axe,\n",
      "\u001b[1;31mKeyboardInterrupt\u001b[0m: "
     ]
    }
   ],
   "source": [
    "g_996=df_996[[\"VENDOR_ID\",\"ACCOUNT\",\"count\"]].groupby([\"VENDOR_ID\",\"ACCOUNT\"])[\"count\"].sum().groupby(level = 0).transform(lambda x: x/x.sum())\n",
    "gg_996=df_996[[\"VENDOR_ID\"]].drop_duplicates()\n",
    "for name,group in g_996.groupby(level=1):\n",
    "    print(name)\n",
    "    print(\"group:\",group)\n",
    "    gi=pd.DataFrame(group.reset_index())[[\"VENDOR_ID\",\"count\"]]\n",
    "    gi = gi.rename(columns={'count': \"c993_\"+str(name)})\n",
    "    print(gi)\n",
    "    gg_996=gg_996.merge(gi,on='VENDOR_ID',how='left')\n",
    "    gg_996=gg_996.fillna(0.0)\n"
   ]
  },
  {
   "cell_type": "markdown",
   "metadata": {
    "nbpresent": {
     "id": "4dd17b68-ba63-4f38-aaf4-cdab3434a94c"
    }
   },
   "source": [
    "#### 2.2 VENDOR_ID only one Account"
   ]
  },
  {
   "cell_type": "code",
   "execution_count": 147,
   "metadata": {
    "collapsed": true,
    "nbpresent": {
     "id": "813e7aa1-f242-4d0d-b76d-f8b6761e9db2"
    }
   },
   "outputs": [],
   "source": [
    "v=df[[\"VENDOR_ID\",\"ACCOUNT\"]]\n",
    "v_1=v.groupby('VENDOR_ID').ACCOUNT.nunique().reset_index()\n",
    "v_11=v_1[v_1.ACCOUNT==1]\n",
    "v_11=v_11[[\"VENDOR_ID\"]].merge(df[[\"VENDOR_ID\",\"ACCOUNT\"]].drop_duplicates(),on=\"VENDOR_ID\",how='left')"
   ]
  },
  {
   "cell_type": "code",
   "execution_count": 148,
   "metadata": {
    "collapsed": false,
    "nbpresent": {
     "id": "70936c93-f92f-404b-adf8-4e2dc8d066e4"
    }
   },
   "outputs": [],
   "source": [
    "v=df[[\"VENDOR_ID\",\"ACCOUNT\"]][df.c3=='996']\n",
    "v_1=v.groupby('VENDOR_ID').ACCOUNT.nunique().reset_index()\n",
    "v_1_996=v_1[v_1.ACCOUNT==1]\n",
    "v_1_996=v_1_996[[\"VENDOR_ID\"]].merge(df[[\"VENDOR_ID\",\"ACCOUNT\"]][df.c3=='996'].drop_duplicates(),on=\"VENDOR_ID\",how='left')"
   ]
  },
  {
   "cell_type": "code",
   "execution_count": 41,
   "metadata": {
    "collapsed": true,
    "nbpresent": {
     "id": "a4578423-24ac-48d3-b114-7bb86879cc52"
    }
   },
   "outputs": [],
   "source": [
    "v=df[[\"VENDOR_ID\",\"ACCOUNT\"]][df.c3=='993']\n",
    "v_1=v.groupby('VENDOR_ID').ACCOUNT.nunique().reset_index()\n",
    "v_1_993=v_1[v_1.ACCOUNT==1]\n",
    "v_1_993=v_1_993[[\"VENDOR_ID\"]].merge(df[[\"VENDOR_ID\",\"ACCOUNT\"]][df.c3=='993'].drop_duplicates(),on=\"VENDOR_ID\",how='left')"
   ]
  },
  {
   "cell_type": "code",
   "execution_count": 43,
   "metadata": {
    "collapsed": true,
    "nbpresent": {
     "id": "49a5d901-d3d2-4138-8603-bf23fc6476e1"
    }
   },
   "outputs": [],
   "source": [
    "v=df[[\"VENDOR_ID\",\"ACCOUNT\"]][df.c3=='997']\n",
    "v_1=v.groupby('VENDOR_ID').ACCOUNT.nunique().reset_index()\n",
    "v_1_997=v_1[v_1.ACCOUNT==1]"
   ]
  },
  {
   "cell_type": "code",
   "execution_count": 44,
   "metadata": {
    "collapsed": false,
    "nbpresent": {
     "id": "35a81c13-54a4-49dd-b6c8-0fa94682405a"
    }
   },
   "outputs": [],
   "source": [
    "v=df[[\"VENDOR_ID\",\"ACCOUNT\"]][df.c3=='994']\n",
    "v_1=v.groupby('VENDOR_ID').ACCOUNT.nunique().reset_index()\n",
    "v_1_994=v_1[v_1.ACCOUNT==1]"
   ]
  },
  {
   "cell_type": "code",
   "execution_count": 6,
   "metadata": {
    "collapsed": false,
    "nbpresent": {
     "id": "ea6d82ca-9421-4de6-8d68-cff47ab66c0b"
    }
   },
   "outputs": [],
   "source": [
    "# tt=v_1_996[~v_1_996.VENDOR_ID.isin(v_11.VENDOR_ID)]"
   ]
  },
  {
   "cell_type": "code",
   "execution_count": 7,
   "metadata": {
    "collapsed": false,
    "nbpresent": {
     "id": "cf04fb61-5d37-4634-9085-15e183ff533e"
    }
   },
   "outputs": [],
   "source": [
    "# df.DESCR.unique()"
   ]
  },
  {
   "cell_type": "markdown",
   "metadata": {
    "nbpresent": {
     "id": "b3ebfe61-387a-49ec-b545-b4609968749d"
    }
   },
   "source": [
    "### 3.Train Prediction Model "
   ]
  },
  {
   "cell_type": "markdown",
   "metadata": {
    "nbpresent": {
     "id": "82d181e5-cab1-41a5-9888-6781c8ccf9c1"
    }
   },
   "source": [
    "#### 3.1 Function Draw feature importance "
   ]
  },
  {
   "cell_type": "markdown",
   "metadata": {
    "nbpresent": {
     "id": "6ca4d879-4734-4705-b872-dcd3986b1ffa"
    }
   },
   "source": [
    "#### 3.2 Prepare train & test data"
   ]
  },
  {
   "cell_type": "code",
   "execution_count": 44,
   "metadata": {
    "collapsed": true,
    "nbpresent": {
     "id": "a8f1a065-0312-41b5-8041-7fe7494b08eb"
    }
   },
   "outputs": [],
   "source": [
    "import pickle\n",
    "import os\n",
    "os.chdir(r'C:\\Users\\A458497\\desktop')\n",
    "dic=pickle.load(open(\"dic_996.p\",\"rb\"))\n",
    "dic_cols=pickle.load(open(\"dic_cols.p\",\"rb\"))\n",
    "# v_1=pd.ExcelFile(\"v_1.xlsx\").parse(\"Sheet1\")\n",
    "# v_1.rename(columns={\"ACCOUNT\":\"ACCOUNT_u\"},inplace=True)\n",
    "col_1=dic_cols[\"col_1\"]\n",
    "col_3=dic_cols[\"col_3\"]\n",
    "cols=dic_cols[\"cols\"]\n",
    "col_996=dic_cols[\"col_996\"]\n",
    "col_all_1=dic_cols[\"col_all_1\"]\n",
    "col_all_3=dic_cols[\"col_all_3\"]\n",
    "col_all_993=dic_cols[\"col_all_997\"]\n",
    "col_all_994=dic_cols[\"col_all_997\"]\n",
    "col_all_994=dic_cols[\"col_all_997\"]"
   ]
  },
  {
   "cell_type": "markdown",
   "metadata": {
    "nbpresent": {
     "id": "ee94f784-ab10-4ea3-ae74-3ddf536decf9"
    }
   },
   "source": [
    "#### 3.3 Lissage model"
   ]
  },
  {
   "cell_type": "code",
   "execution_count": null,
   "metadata": {
    "collapsed": true,
    "nbpresent": {
     "id": "ceb78cc4-4577-4316-9045-aa7359d1b869"
    }
   },
   "outputs": [],
   "source": [
    "pos=df[df.ACTIVE_FLG=='N']\n",
    "a=shuffle(pos)\n",
    "t,l=train_test_split(a,test_size=0.984)\n",
    "n=df[df.ACTIVE_FLG=='Y']\n",
    "frames = [t,n]\n",
    "result = pd.concat(frames)\n",
    "dt=shuffle(result)\n",
    "col=['MONETARY_AMOUNT',\n",
    "     'OPRID',\n",
    "     'VAT_INV_AMT_GL',\n",
    "     'CURRENCY_CD',\n",
    "     'ASSET_FLG',\n",
    "     'PHYSICAL_NATURE',\n",
    "     'VAT_TREATMENT_GRP',\n",
    "     'VAT_APPLICABILITY',\n",
    "     'VAT_TREATMENT',\n",
    "     'TAX_CD_VAT',\n",
    "     'VENDOR_ID',\n",
    "     'BUSINESS_UNIT']\n",
    "x=dt[col]\n",
    "x=x.merge(gga,on=\"VENDOR_ID\",how=\"left\")\n",
    "x=x.drop(\"VENDOR_ID\",1)\n",
    "x=pd.get_dummies(x)\n",
    "y=dt.ACTIVE_FLG\n",
    "clfa=RandomForestClassifier( n_estimators=100,max_features=x.shape[1])\n",
    "# scores=cross_val_score(clfa,x,y,cv=10)\n",
    "clfa.fit(x,y)"
   ]
  },
  {
   "cell_type": "code",
   "execution_count": null,
   "metadata": {
    "collapsed": true
   },
   "outputs": [],
   "source": []
  },
  {
   "cell_type": "markdown",
   "metadata": {
    "nbpresent": {
     "id": "70216398-4ca9-4fac-a46b-33feda4880d3"
    }
   },
   "source": [
    "#### 3.4 Firt Number Prediction Model"
   ]
  },
  {
   "cell_type": "markdown",
   "metadata": {
    "nbpresent": {
     "id": "afd54896-5c92-4e3a-a53a-5468691a5b11"
    }
   },
   "source": [
    "Merge the test dataframe with prepared business_unit-fil table on BUSINESS_UNIT \n",
    "\n",
    "If Business_unit is not filial then the account will start with '9'."
   ]
  },
  {
   "cell_type": "code",
   "execution_count": 133,
   "metadata": {
    "collapsed": false,
    "nbpresent": {
     "id": "3005579f-76e1-4da3-a902-f510e57593dc"
    }
   },
   "outputs": [],
   "source": [
    "df_x=df_p[[\"BUSINESS_UNIT\"]]"
   ]
  },
  {
   "cell_type": "code",
   "execution_count": 134,
   "metadata": {
    "collapsed": false,
    "nbpresent": {
     "id": "4e4c07bf-c114-4ffc-96cc-64e962b73c41"
    }
   },
   "outputs": [],
   "source": [
    "# df_x=df_x.merge(gg,how='left',on=\"VENDOR_ID\")\n",
    "df_x=df_x.merge(bu_fil,how='left',on=\"BUSINESS_UNIT\")\n",
    "df_x=df_x.drop(\"BUSINESS_UNIT\",1)"
   ]
  },
  {
   "cell_type": "code",
   "execution_count": 142,
   "metadata": {
    "collapsed": false,
    "nbpresent": {
     "id": "e342ac19-6855-45dd-a35e-9b32717a93a2"
    }
   },
   "outputs": [],
   "source": [
    "df_p[\"Predicted_1\"]=~(df_x.fil==1)*9"
   ]
  },
  {
   "cell_type": "markdown",
   "metadata": {
    "nbpresent": {
     "id": "f45b5bef-0622-4d8e-8297-b162457ec45c"
    }
   },
   "source": [
    "#### 3.5 First Three Number Prediction Model\n",
    "Predict_3"
   ]
  },
  {
   "cell_type": "code",
   "execution_count": 490,
   "metadata": {
    "collapsed": false,
    "nbpresent": {
     "id": "8c1496db-23cb-4b86-a912-bed1c158f819"
    }
   },
   "outputs": [
    {
     "data": {
      "text/plain": [
       "Index(['BUSINESS_UNIT', 'VENDOR_SETID', 'VENDOR_ID', 'MONETARY_AMOUNT',\n",
       "       'VAT_INV_AMT_GL', 'CURRENCY_CD', 'ASSET_FLG', 'VOUCHER_ID',\n",
       "       'VOUCHER_LINE_NUM', 'DISTRIB_LINE_NUM', 'OPRID', 'PHYSICAL_NATURE',\n",
       "       'VAT_TREATMENT_GRP', 'COUNTRY_LOC_BUYER', 'COUNTRY_LOC_SELLER',\n",
       "       'VAT_USE_ID', 'VAT_APPLICABILITY', 'VAT_TREATMENT', 'VAT_SERVICE_TYPE',\n",
       "       'ACCOUNT', 'ALTACCT', 'TAX_CD_VAT', 'DESCR', 'VNDR_FIELD_C30_J',\n",
       "       'ACTIVE_FLG', 'c1', 'c3', 'count'],\n",
       "      dtype='object')"
      ]
     },
     "execution_count": 490,
     "metadata": {},
     "output_type": "execute_result"
    }
   ],
   "source": [
    "df.columns"
   ]
  },
  {
   "cell_type": "code",
   "execution_count": 48,
   "metadata": {
    "collapsed": true,
    "nbpresent": {
     "id": "05744015-63be-441f-bc1e-84dc64fac1b1"
    }
   },
   "outputs": [],
   "source": [
    "col_33=['MONETARY_AMOUNT', 'ASSET_FLG',\n",
    "        'VENDOR_ID','TAX_CD_VAT', \"ACTIVE_FLG\"]"
   ]
  },
  {
   "cell_type": "code",
   "execution_count": 49,
   "metadata": {
    "collapsed": true,
    "nbpresent": {
     "id": "2cdbb285-b5a1-4289-ba08-a33208014ee3"
    }
   },
   "outputs": [],
   "source": [
    "dt_3=df[df.c1=='9']"
   ]
  },
  {
   "cell_type": "code",
   "execution_count": 52,
   "metadata": {
    "collapsed": false,
    "nbpresent": {
     "id": "8b23f518-4c3f-42d7-a6b3-33055fdcf06b"
    }
   },
   "outputs": [],
   "source": [
    "### Downsampling class c3=996\n",
    "b=resample(dt_3[dt_3.c3=='996'], random_state=0,n_samples=16977)\n",
    "dt_3=dt_3[dt_3.c3!='996'].append(b)\n",
    "dt_3=shuffle(dt_3,random_state=0)"
   ]
  },
  {
   "cell_type": "code",
   "execution_count": 63,
   "metadata": {
    "collapsed": false,
    "nbpresent": {
     "id": "5d0f71ac-2641-4dab-ab7b-02c27ec0f1e4"
    }
   },
   "outputs": [],
   "source": [
    "x_3=dt_3[col_33]\n",
    "y_3=dt_3[[\"c3\"]]\n",
    "x_3=x_3.merge(gg3,how='left',on='VENDOR_ID')\n",
    "x_3=x_3.drop('VENDOR_ID',1)\n",
    "x_3=pd.get_dummies(x_3)\n",
    "x_3=x_3.fillna(0)"
   ]
  },
  {
   "cell_type": "code",
   "execution_count": 34,
   "metadata": {
    "collapsed": false,
    "nbpresent": {
     "id": "6008aa7c-d4bb-4233-a26f-d3f6f069b074"
    }
   },
   "outputs": [
    {
     "data": {
      "text/plain": [
       "Index(['MONETARY_AMOUNT', 'ASSET_FLG', 'TAX_CD_VAT', 'ACTIVE_FLG', 'c3_990',\n",
       "       'c3_991', 'c3_992', 'c3_993', 'c3_994', 'c3_996', 'c3_997'],\n",
       "      dtype='object')"
      ]
     },
     "execution_count": 34,
     "metadata": {},
     "output_type": "execute_result"
    }
   ],
   "source": [
    "x_3.columns"
   ]
  },
  {
   "cell_type": "code",
   "execution_count": 10,
   "metadata": {
    "collapsed": false,
    "nbpresent": {
     "id": "7530c8e5-108b-4b63-bbdb-5edf22b183b8"
    },
    "scrolled": true
   },
   "outputs": [],
   "source": [
    "y_3[~y_3.c3.isin(['993','996'])]='000'\n",
    "y_33=y_3.c3"
   ]
  },
  {
   "cell_type": "code",
   "execution_count": 64,
   "metadata": {
    "collapsed": true,
    "nbpresent": {
     "id": "f3bf04b6-0d7c-48d0-b41c-f4ff05eeee5d"
    }
   },
   "outputs": [],
   "source": [
    "clf3=RandomForestClassifier(n_estimators=100,max_features=x_3.shape[1])"
   ]
  },
  {
   "cell_type": "code",
   "execution_count": 3,
   "metadata": {
    "collapsed": false,
    "nbpresent": {
     "id": "b7b54534-1c4a-4848-a0c9-f0052e2b0cab"
    }
   },
   "outputs": [],
   "source": [
    "scores_3=cross_val_score(clf3,x_3,y_33,cv=10)"
   ]
  },
  {
   "cell_type": "code",
   "execution_count": 641,
   "metadata": {
    "collapsed": false,
    "nbpresent": {
     "id": "91d67658-4069-4338-9829-7af6582949b7"
    }
   },
   "outputs": [
    {
     "name": "stdout",
     "output_type": "stream",
     "text": [
      "New column AVTIVE_FLG\n",
      "0.988433086899 0.000780131590085\n"
     ]
    }
   ],
   "source": [
    "print(scores_3.mean(),scores_3.std() )"
   ]
  },
  {
   "cell_type": "code",
   "execution_count": 846,
   "metadata": {
    "collapsed": true,
    "nbpresent": {
     "id": "07fd6d86-5aa2-4b13-9ffd-267b3633d54e"
    }
   },
   "outputs": [],
   "source": [
    "X_train, X_test, y_train, y_test = train_test_split(x_3, y_33, random_state=0,test_size=0.1)"
   ]
  },
  {
   "cell_type": "code",
   "execution_count": 65,
   "metadata": {
    "collapsed": false,
    "nbpresent": {
     "id": "21b86867-3f7e-4d3b-a996-87dbf6c05d6c"
    }
   },
   "outputs": [
    {
     "data": {
      "text/plain": [
       "RandomForestClassifier(bootstrap=True, class_weight=None, criterion='gini',\n",
       "            max_depth=None, max_features=24, max_leaf_nodes=None,\n",
       "            min_samples_leaf=1, min_samples_split=2,\n",
       "            min_weight_fraction_leaf=0.0, n_estimators=100, n_jobs=1,\n",
       "            oob_score=False, random_state=None, verbose=0,\n",
       "            warm_start=False)"
      ]
     },
     "execution_count": 65,
     "metadata": {},
     "output_type": "execute_result"
    }
   ],
   "source": [
    "clf3.fit(x_3,y_33)"
   ]
  },
  {
   "cell_type": "code",
   "execution_count": 848,
   "metadata": {
    "collapsed": false,
    "nbpresent": {
     "id": "e43b7141-1b81-419b-893c-bae98debf7dd"
    }
   },
   "outputs": [],
   "source": [
    "y_p=clf3.predict(X_test)"
   ]
  },
  {
   "cell_type": "code",
   "execution_count": 580,
   "metadata": {
    "collapsed": false,
    "nbpresent": {
     "id": "d39f3867-8f36-4be0-97e8-79d707b0540b"
    }
   },
   "outputs": [
    {
     "data": {
      "text/plain": [
       "0.99021029731689625"
      ]
     },
     "execution_count": 580,
     "metadata": {},
     "output_type": "execute_result"
    }
   ],
   "source": [
    "clf3.score(X_test,y_test)"
   ]
  },
  {
   "cell_type": "code",
   "execution_count": null,
   "metadata": {
    "collapsed": true,
    "nbpresent": {
     "id": "f86e340e-bc0c-4442-8347-559083039eec"
    }
   },
   "outputs": [],
   "source": [
    "cnf_matrix=confusion_matrix(y_test, y_p)\n",
    "class_names=['000','993','996']"
   ]
  },
  {
   "cell_type": "code",
   "execution_count": 584,
   "metadata": {
    "collapsed": false,
    "nbpresent": {
     "id": "9a870d04-a9ff-4f10-b516-fcd47cb69a12"
    }
   },
   "outputs": [
    {
     "name": "stdout",
     "output_type": "stream",
     "text": [
      "Confusion matrix, without normalization\n",
      "[[   15     0    12]\n",
      " [    0  1660    62]\n",
      " [   10    51 11980]]\n"
     ]
    },
    {
     "data": {
      "image/png": "[encoded data removed]",
      "text/plain": [
       "<matplotlib.figure.Figure at 0x15513400>"
      ]
     },
     "metadata": {},
     "output_type": "display_data"
    }
   ],
   "source": [
    "plot_confusion_matrix(cnf_matrix, classes=class_names, normalize=False,\n",
    "                      title='Normalized confusion matrix')"
   ]
  },
  {
   "cell_type": "code",
   "execution_count": 11,
   "metadata": {
    "collapsed": false,
    "nbpresent": {
     "id": "3e4aae5f-1515-4ab4-87c8-d0eae427f729"
    }
   },
   "outputs": [],
   "source": [
    "# feature_draw_plotly(X_train,clf3)"
   ]
  },
  {
   "cell_type": "code",
   "execution_count": 861,
   "metadata": {
    "collapsed": false,
    "nbpresent": {
     "id": "29197e65-a1a7-4669-8a7c-2c42b7c9d0a4"
    },
    "scrolled": true
   },
   "outputs": [
    {
     "name": "stdout",
     "output_type": "stream",
     "text": [
      "Normalized confusion matrix\n",
      "[[  7.64705882e-01   5.88235294e-02   1.76470588e-01]\n",
      " [  6.09013398e-04   9.82947625e-01   1.64433618e-02]\n",
      " [  1.71330668e-03   9.13763564e-03   9.89149058e-01]]\n"
     ]
    },
    {
     "data": {
      "image/png": "[encoded data removed]",
      "text/plain": [
       "<matplotlib.figure.Figure at 0x1501d048>"
      ]
     },
     "metadata": {},
     "output_type": "display_data"
    }
   ],
   "source": [
    "plot_confusion_matrix(cnf_matrix, classes=class_names, normalize=True,\n",
    "                      title='Normalized confusion matrix')"
   ]
  },
  {
   "cell_type": "markdown",
   "metadata": {
    "nbpresent": {
     "id": "81289869-0183-4900-9f46-03fdc772e22e"
    }
   },
   "source": [
    "#### 3.6  993XXXXX Prediction Model"
   ]
  },
  {
   "cell_type": "code",
   "execution_count": 2,
   "metadata": {
    "collapsed": false,
    "nbpresent": {
     "id": "4f9d0b86-72ce-4ded-80c8-d6be0284ef41"
    }
   },
   "outputs": [],
   "source": [
    "# df[df.c3=='993'][~df.VENDOR_ID.isin(v_11.VENDOR_ID)][~df.VENDOR_ID.isin(v_1_993.VENDOR_ID)].groupby(['ACCOUNT']).count()"
   ]
  },
  {
   "cell_type": "code",
   "execution_count": 69,
   "metadata": {
    "collapsed": true,
    "nbpresent": {
     "id": "bafc727e-f1c8-4d5b-bf14-25a608db4b99"
    }
   },
   "outputs": [],
   "source": [
    "dt_993=df[df.c3=='993']"
   ]
  },
  {
   "cell_type": "code",
   "execution_count": 67,
   "metadata": {
    "collapsed": false,
    "nbpresent": {
     "id": "02ec7025-a354-487b-b2eb-c1be8b959e64"
    }
   },
   "outputs": [],
   "source": [
    "cols=[\n",
    " 'VENDOR_ID',\n",
    " 'MONETARY_AMOUNT','VAT_TREATMENT_GRP',\n",
    " 'VAT_APPLICABILITY',\n",
    " 'ASSET_FLG',\n",
    " 'PHYSICAL_NATURE',\n",
    " 'TAX_CD_VAT']"
   ]
  },
  {
   "cell_type": "code",
   "execution_count": 70,
   "metadata": {
    "collapsed": false,
    "nbpresent": {
     "id": "2140e00b-4c52-4213-843e-c8a351a53df3"
    }
   },
   "outputs": [],
   "source": [
    "x_993=dt_993[cols]\n",
    "y_993=dt_993.ACCOUNT\n",
    "x_993=x_993.merge(gg_993,how='left',on='VENDOR_ID')\n",
    "x_993=x_993.drop('VENDOR_ID',1)\n",
    "x_993=pd.get_dummies(x_993)\n",
    "x_993=x_993.fillna(0)"
   ]
  },
  {
   "cell_type": "code",
   "execution_count": 71,
   "metadata": {
    "collapsed": false,
    "nbpresent": {
     "id": "ac5cc52c-84cc-413e-9a0a-12672233c022"
    }
   },
   "outputs": [],
   "source": [
    "clf=RandomForestClassifier(n_estimators=100,max_features=x_993.shape[1])"
   ]
  },
  {
   "cell_type": "code",
   "execution_count": 72,
   "metadata": {
    "collapsed": false,
    "nbpresent": {
     "id": "cfe34eac-d5f3-409a-a57c-642b20d3a524"
    }
   },
   "outputs": [
    {
     "data": {
      "text/plain": [
       "RandomForestClassifier(bootstrap=True, class_weight=None, criterion='gini',\n",
       "            max_depth=None, max_features=42, max_leaf_nodes=None,\n",
       "            min_samples_leaf=1, min_samples_split=2,\n",
       "            min_weight_fraction_leaf=0.0, n_estimators=100, n_jobs=1,\n",
       "            oob_score=False, random_state=None, verbose=0,\n",
       "            warm_start=False)"
      ]
     },
     "execution_count": 72,
     "metadata": {},
     "output_type": "execute_result"
    }
   ],
   "source": [
    "clf.fit(x_993,y_993)"
   ]
  },
  {
   "cell_type": "code",
   "execution_count": 104,
   "metadata": {
    "collapsed": false,
    "nbpresent": {
     "id": "84b5739b-8fe9-4683-966d-be2d44873030"
    }
   },
   "outputs": [
    {
     "name": "stderr",
     "output_type": "stream",
     "text": [
      "c:\\homeware\\anaconda3\\lib\\site-packages\\sklearn\\cross_validation.py:516: Warning:\n",
      "\n",
      "The least populated class in y has only 1 members, which is too few. The minimum number of labels for any class cannot be less than n_folds=10.\n",
      "\n"
     ]
    }
   ],
   "source": [
    "scores=cross_val_score(clf,x_993,y_993,cv=10)"
   ]
  },
  {
   "cell_type": "code",
   "execution_count": 106,
   "metadata": {
    "collapsed": false,
    "nbpresent": {
     "id": "d73ffc04-8c5b-4495-b123-77419093cf6e"
    }
   },
   "outputs": [
    {
     "name": "stdout",
     "output_type": "stream",
     "text": [
      "0.992043864207 0.0030016065021\n"
     ]
    }
   ],
   "source": [
    "print(scores.mean(),scores.std())"
   ]
  },
  {
   "cell_type": "code",
   "execution_count": 97,
   "metadata": {
    "collapsed": true,
    "nbpresent": {
     "id": "ac1c0554-13f0-41a5-966f-1b024e21b9e2"
    }
   },
   "outputs": [],
   "source": [
    "X_train, X_test, y_train, y_test = train_test_split(x_993, y_993, random_state=0,test_size=0.2)"
   ]
  },
  {
   "cell_type": "code",
   "execution_count": 138,
   "metadata": {
    "collapsed": false,
    "nbpresent": {
     "id": "8a034967-bf80-4e5d-a710-3735cfb29030"
    }
   },
   "outputs": [],
   "source": [
    "clf.fit(X_train,y_train)\n",
    "y_p=clf.predict(X_test)\n",
    "print(clf.score(X_test,y_test))"
   ]
  },
  {
   "cell_type": "code",
   "execution_count": 99,
   "metadata": {
    "collapsed": false,
    "nbpresent": {
     "id": "0c07c05f-1b26-4b03-936e-78055e663816"
    }
   },
   "outputs": [
    {
     "data": {
      "text/plain": [
       "array([ 99380122.,  99311341.,  99311432.,  99380130.,  99316449.,\n",
       "        99310202.,  99307331.,  99326133.,  99326802.,  99365099.,\n",
       "        99380031.,  99315201.,  99311366.,  99380049.,  99318486.,\n",
       "        99327602.,  99327560.,  99311119.])"
      ]
     },
     "execution_count": 99,
     "metadata": {},
     "output_type": "execute_result"
    }
   ],
   "source": [
    "y_test.unique()"
   ]
  },
  {
   "cell_type": "code",
   "execution_count": 56,
   "metadata": {
    "collapsed": false,
    "nbpresent": {
     "id": "a125626c-a513-4374-b79f-dce73a0a2bf2"
    }
   },
   "outputs": [],
   "source": [
    "import collections"
   ]
  },
  {
   "cell_type": "code",
   "execution_count": 89,
   "metadata": {
    "collapsed": false,
    "nbpresent": {
     "id": "dc281b80-a842-4d20-96bd-d11a1200fd0f"
    }
   },
   "outputs": [],
   "source": [
    "cnf_matrix=confusion_matrix(y_test, y_p)"
   ]
  },
  {
   "cell_type": "code",
   "execution_count": 65,
   "metadata": {
    "collapsed": true,
    "nbpresent": {
     "id": "22d43d02-5fee-45b3-ac94-7dc669f0e177"
    }
   },
   "outputs": [],
   "source": [
    "import itertools"
   ]
  },
  {
   "cell_type": "code",
   "execution_count": 139,
   "metadata": {
    "collapsed": false,
    "nbpresent": {
     "id": "83650425-57de-4d6d-8b91-96d4ed4d55c0"
    }
   },
   "outputs": [],
   "source": [
    "# plot_confusion_matrix(cnf_matrix, classes=counter.keys(), normalize=False,\n",
    "#                       title='Normalized confusion matrix')\n",
    "# feature_draw_plotly(X_test,clf)"
   ]
  },
  {
   "cell_type": "markdown",
   "metadata": {
    "nbpresent": {
     "id": "3064eca0-9d83-4d57-8910-7d9d7fa943da"
    }
   },
   "source": [
    "#### 3.7  996XXXXX Prediction Model"
   ]
  },
  {
   "cell_type": "code",
   "execution_count": 16,
   "metadata": {
    "collapsed": true,
    "nbpresent": {
     "id": "3fc0fb1e-95e2-4966-baf0-8287a9d45201"
    }
   },
   "outputs": [],
   "source": [
    "df['DESC_1']=pd.DataFrame([str(i).lower().split(\" \",1)[0] for i in df.DESCR])\n",
    "df['DESC_2']=pd.DataFrame([str(i).lower().split(\" \")[1] for i in df[df.DESC_1=='generic'].DESCR],index=df[df.DESC_1=='generic'].DESCR.index)"
   ]
  },
  {
   "cell_type": "code",
   "execution_count": 277,
   "metadata": {
    "collapsed": false,
    "nbpresent": {
     "id": "1c423d9f-cf4f-4928-b27e-8fac62d626e3"
    }
   },
   "outputs": [],
   "source": [
    "df.DESC_2=df.DESC_2.fillna(\" \")"
   ]
  },
  {
   "cell_type": "code",
   "execution_count": 278,
   "metadata": {
    "collapsed": false,
    "nbpresent": {
     "id": "644a02a4-5ffa-45eb-a5a8-8d89d6adc1b1"
    }
   },
   "outputs": [],
   "source": [
    "df.DESC_1=df.DESC_1+df.DESC_2"
   ]
  },
  {
   "cell_type": "code",
   "execution_count": 74,
   "metadata": {
    "collapsed": false,
    "nbpresent": {
     "id": "60e1b7dd-5c48-4c53-8387-52a2c7e55b2e"
    }
   },
   "outputs": [
    {
     "name": "stderr",
     "output_type": "stream",
     "text": [
      "c:\\homeware\\anaconda3\\lib\\site-packages\\ipykernel\\__main__.py:1: UserWarning: Boolean Series key will be reindexed to match DataFrame index.\n",
      "  if __name__ == '__main__':\n"
     ]
    }
   ],
   "source": [
    "dt_996=df[df.c3==\"996\"][~df.VENDOR_ID.isin(v_11.VENDOR_ID)][~df.VENDOR_ID.isin(v_1_996.VENDOR_ID)]"
   ]
  },
  {
   "cell_type": "code",
   "execution_count": 73,
   "metadata": {
    "collapsed": false,
    "nbpresent": {
     "id": "e7155d7e-b301-430b-a437-eae3b5f853cb"
    }
   },
   "outputs": [],
   "source": [
    "col_996=['MONETARY_AMOUNT',\n",
    " 'ASSET_FLG',\n",
    " 'PHYSICAL_NATURE',\n",
    " 'VAT_TREATMENT_GRP',\n",
    " 'VAT_APPLICABILITY',\n",
    " 'VAT_TREATMENT',\n",
    " 'TAX_CD_VAT',\n",
    " 'BUSINESS_UNIT']"
   ]
  },
  {
   "cell_type": "code",
   "execution_count": 34,
   "metadata": {
    "collapsed": false,
    "nbpresent": {
     "id": "49ade83e-114c-4bc1-94fc-7866738312cd"
    }
   },
   "outputs": [
    {
     "name": "stdout",
     "output_type": "stream",
     "text": [
      "C:\\Users\\A458497\n"
     ]
    }
   ],
   "source": [
    "cd"
   ]
  },
  {
   "cell_type": "code",
   "execution_count": 35,
   "metadata": {
    "collapsed": false,
    "nbpresent": {
     "id": "eb222c7c-1076-46b0-87be-1eff6f4901d3"
    }
   },
   "outputs": [
    {
     "name": "stdout",
     "output_type": "stream",
     "text": [
      "C:\\Users\\A458497\\desktop\n"
     ]
    }
   ],
   "source": [
    "cd desktop"
   ]
  },
  {
   "cell_type": "code",
   "execution_count": 36,
   "metadata": {
    "collapsed": false,
    "nbpresent": {
     "id": "aef701a4-e792-4f03-bacb-8ad9f807f36a"
    }
   },
   "outputs": [
    {
     "name": "stdout",
     "output_type": "stream",
     "text": [
      "C:\\Users\\A458497\\desktop\\compte_pre\n"
     ]
    }
   ],
   "source": [
    "cd compte_pre"
   ]
  },
  {
   "cell_type": "code",
   "execution_count": 37,
   "metadata": {
    "collapsed": false,
    "nbpresent": {
     "id": "4e51d576-e2e5-46d6-85f3-2d10aa199a42"
    }
   },
   "outputs": [
    {
     "name": "stdout",
     "output_type": "stream",
     "text": [
      "C:\\Users\\A458497\\desktop\\compte_pre\\model_996_1\n"
     ]
    }
   ],
   "source": [
    "cd model_996_1"
   ]
  },
  {
   "cell_type": "code",
   "execution_count": 75,
   "metadata": {
    "collapsed": false,
    "nbpresent": {
     "id": "14ead064-381e-4d12-a4ec-38f1cce9eb33"
    }
   },
   "outputs": [],
   "source": [
    "f_996_notunique=dt_996[[\"VENDOR_ID\",\"count\"]].groupby(\"VENDOR_ID\").count().reset_index()"
   ]
  },
  {
   "cell_type": "code",
   "execution_count": 76,
   "metadata": {
    "collapsed": false,
    "nbpresent": {
     "id": "09504389-5e61-4c42-920e-d54d1b388fca"
    }
   },
   "outputs": [],
   "source": [
    "dic={}\n",
    "for index,row in f_996_notunique.iterrows(): \n",
    "    VENDOR_ID=int(row[\"VENDOR_ID\"])\n",
    "    dt_996_x=dt_996[col_996][dt_996.VENDOR_ID==VENDOR_ID]\n",
    "    dt_996_x=pd.get_dummies(dt_996_x)\n",
    "    dt_996_y=dt_996.ACCOUNT[dt_996.VENDOR_ID==VENDOR_ID]   \n",
    "    \n",
    "    dic[str(VENDOR_ID)]=dt_996_x.columns\n",
    "    \n",
    "    clf_996=RandomForestClassifier(n_estimators=50, max_features=dt_996_x.shape[1])\n",
    "    clf_996.fit(dt_996_x,dt_996_y)\n",
    "     \n",
    "    newpath = r'model'+str(VENDOR_ID)\n",
    "    if not os.path.exists(newpath):\n",
    "        os.makedirs(newpath)\n",
    "    os.chdir(newpath)\n",
    "    filename = 'model_'+str(VENDOR_ID)+\".sav\"\n",
    "    joblib.dump(clf_996, filename)\n",
    "    os.chdir(\"../\")"
   ]
  },
  {
   "cell_type": "code",
   "execution_count": 219,
   "metadata": {
    "collapsed": false,
    "nbpresent": {
     "id": "0c75067a-2328-4d82-9f55-45d8372cb3f9"
    }
   },
   "outputs": [
    {
     "data": {
      "text/plain": [
       "103893"
      ]
     },
     "execution_count": 219,
     "metadata": {},
     "output_type": "execute_result"
    }
   ],
   "source": [
    "np.sum(f_996_notunique[\"count\"])"
   ]
  },
  {
   "cell_type": "code",
   "execution_count": 78,
   "metadata": {
    "collapsed": false,
    "nbpresent": {
     "id": "858df84b-52e9-44df-b6bb-dd34f138ed8a"
    }
   },
   "outputs": [
    {
     "data": {
      "text/plain": [
       "Index(['MONETARY_AMOUNT', 'ASSET_FLG_N', 'PHYSICAL_NATURE_G',\n",
       "       'PHYSICAL_NATURE_S', 'VAT_TREATMENT_GRP_DOMP', 'VAT_TREATMENT_GRP_EUP',\n",
       "       'VAT_APPLICABILITY_T', 'VAT_TREATMENT_DGP', 'VAT_TREATMENT_DSP',\n",
       "       'VAT_TREATMENT_ESP', 'TAX_CD_VAT_FR0', 'TAX_CD_VAT_FR000',\n",
       "       'TAX_CD_VAT_FR1', 'TAX_CD_VAT_FR196', 'TAX_CD_VAT_FRNOR',\n",
       "       'BUSINESS_UNIT_DF001', 'BUSINESS_UNIT_GIMS1', 'BUSINESS_UNIT_IT001'],\n",
       "      dtype='object')"
      ]
     },
     "execution_count": 78,
     "metadata": {},
     "output_type": "execute_result"
    }
   ],
   "source": [
    "dic[\"121\"]"
   ]
  },
  {
   "cell_type": "markdown",
   "metadata": {
    "nbpresent": {
     "id": "ad40d4d0-e394-4cf1-bbe3-fef8e9cffb57"
    }
   },
   "source": [
    "<center><h3>Prediction Example</h3></center>"
   ]
  },
  {
   "cell_type": "code",
   "execution_count": 11,
   "metadata": {
    "collapsed": false,
    "nbpresent": {
     "id": "5627f62d-44e0-4c3e-af0a-84626fe58ba2"
    }
   },
   "outputs": [
    {
     "name": "stdout",
     "output_type": "stream",
     "text": [
      "C:\\Users\\A458497\\desktop\\compte_pre\n"
     ]
    }
   ],
   "source": [
    "cd desktop\\compte_pre"
   ]
  },
  {
   "cell_type": "code",
   "execution_count": 146,
   "metadata": {
    "collapsed": false,
    "nbpresent": {
     "id": "ef9bdd7e-5f61-4eb8-9752-511907435fd6"
    }
   },
   "outputs": [],
   "source": [
    "def predict_1(df,cols,gg,clf,col_all_1):\n",
    "    dt=pd.DataFrame(0,index=df.index,columns=col_all_1)\n",
    "    dtt=df[cols]\n",
    "    dtt=dtt.merge(gg,on=\"VENDOR_ID\",how=\"left\")\n",
    "    dtt=dtt.fillna(0.0)\n",
    "    dtt=dtt.drop('VENDOR_ID',1)\n",
    "    dtt=pd.get_dummies(dtt)\n",
    "    for col in dtt.columns.values.tolist():\n",
    "        dt[col]=dtt[col]\n",
    "    dt=dt[col_all_1]\n",
    "    y_p=clf.predict(dt)\n",
    "    df[\"Predicted_A\"]=y_p\n",
    "    df[\"NEW_VENDOR\"]=~df.VENDOR_ID.isin(gg.VENDOR_ID)*1"
   ]
  },
  {
   "cell_type": "code",
   "execution_count": 98,
   "metadata": {
    "collapsed": true,
    "nbpresent": {
     "id": "fed97641-d979-4bdc-9a5c-f0cb0aac71b3"
    }
   },
   "outputs": [],
   "source": [
    "def predict_3(df,cols,gg,clf):\n",
    "    \n",
    "    dtt=df[cols][df.Predicted_1==9][df.NEW_VENDOR==0]\n",
    "    dd=dtt[[]]\n",
    "    dt=pd.DataFrame(0,index=dtt.index,columns=col_all_3)\n",
    "    \n",
    "    dtt=dtt.merge(gg3,on=\"VENDOR_ID\",how=\"left\")\n",
    "    dtt=dtt.drop('VENDOR_ID',1)\n",
    "    dtt=pd.get_dummies(dtt)\n",
    "    for col in dtt.columns.values.tolist():\n",
    "        dt[col]=dtt[col]\n",
    "    dt=dt[col_all_3]\n",
    "    dt=dt.fillna(0.0)\n",
    "    y_p=clf.predict(dt)\n",
    "    \n",
    "    dd[\"Predicted_33\"]=y_p \n",
    " \n",
    "    df=pd.concat([df,dd],axis=1,join_axes=[df.index])\n",
    "    return df\n",
    "    "
   ]
  },
  {
   "cell_type": "code",
   "execution_count": null,
   "metadata": {
    "collapsed": true,
    "nbpresent": {
     "id": "476d7ccd-6e13-4246-8128-69ef8dd0fa46"
    }
   },
   "outputs": [],
   "source": [
    "def predict_99347(df,gg,cols,col_all,clf): \n",
    "    \n",
    "    dtt=df[cols]\n",
    "    dd=dtt[[]]\n",
    "    if dd.shape[0]==0:\n",
    "        return df\n",
    "    dt=pd.DataFrame(0,index=dtt.index,columns=col_all)\n",
    "    dtt=dtt.merge(gg,on=\"VENDOR_ID\",how=\"left\")\n",
    "    dtt=dtt.drop('VENDOR_ID',1)\n",
    "    dtt=pd.get_dummies(dtt)\n",
    "    \n",
    "    for col in dtt.columns.values.tolist():\n",
    "        dt[col]=dtt[col]\n",
    "    dt=dt.fillna(0)\n",
    "    dt=dt[col_all]\n",
    "    y_p=clf.predict(dt)\n",
    "    dd[\"Predicted_\"]=y_p \n",
    "    df[\"Zero\"]=0\n",
    "    df.Zero=df.Zero+dd[\"Predicted_\"]\n",
    "    df.Zero=df.Zero.fillna(0)\n",
    "\n",
    "\n",
    "    df.Predicted=df.Zero\n",
    "    df=df.drop(\"Zero\",1)\n",
    "    return df"
   ]
  },
  {
   "cell_type": "code",
   "execution_count": null,
   "metadata": {
    "collapsed": true
   },
   "outputs": [],
   "source": []
  },
  {
   "cell_type": "code",
   "execution_count": 377,
   "metadata": {
    "collapsed": false,
    "nbpresent": {
     "id": "a5f17d13-db2a-431f-9356-c559cd106b3b"
    }
   },
   "outputs": [],
   "source": [
    "def predict_996(df,cols):  \n",
    "   \n",
    "    df[\"Predicted\"]=0\n",
    "\n",
    "    df.ACCOUNT_u=0\n",
    "    df.Predicted=df.Predicted+df.ACCOUNT_u\n",
    "    \n",
    "   \n",
    "    dt=df[cols][df.VENDOR_ID.astype(str).isin(dic.keys())]\n",
    "    v_list=dt.VENDOR_ID.unique()\n",
    "    print(len(v_list))\n",
    "    os.chdir(r'model_996_1')\n",
    "    result=pd.DataFrame()\n",
    "    for v in v_list:\n",
    "        df[\"Zero\"]=0\n",
    "        dt_i=dt[dt.VENDOR_ID==v]\n",
    "        dd=dt_i[[]]\n",
    "        dd_n=dt_i\n",
    "        col_all=dic[str(v)]\n",
    "        dtt=pd.DataFrame(0,index=dt_i.index,columns=col_all)\n",
    "\n",
    "        dt_i=dt_i.drop('VENDOR_ID',1)\n",
    "        dt_i=pd.get_dummies(dt_i) \n",
    "\n",
    "        for col in dt_i.columns.values.tolist():\n",
    "            dtt[col]=dt_i[col]\n",
    "\n",
    "        os.chdir(r'model'+str(v))\n",
    "        clf=joblib.load(\"model_\"+str(v)+\".sav\")\n",
    "        os.chdir(\"../\")\n",
    "        dtt=dtt[col_all]\n",
    "        y_p=clf.predict(dtt) \n",
    "        \n",
    "        probs=clf.predict_proba(dtt)\n",
    "        accs=clf.classes_\n",
    "        index=np.argsort(-probs,axis=1)      \n",
    "        accs= np.array([accs.tolist()]*clf.n_outputs_)\n",
    "        probs=probs[np.arange(probs.shape[0])[:,np.newaxis],index]\n",
    "        accs=accs[np.arange(accs.shape[0])[:,np.newaxis],index]\n",
    "    \n",
    "        for i in range(probs.shape[1]):\n",
    "            dd_n[\"Option\"+str(i)]=accs[:,i]\n",
    "            dd_n[\"Prob\"+str(i)]=probs[:,i]\n",
    "        dd_n[\"Predicted_996\"]=y_p \n",
    "        result=result.append(dd_n)\n",
    "        print (result)\n",
    "        dd[\"Predicted_996\"+str(v)]=y_p  \n",
    "        df.Zero=df.Zero+dd[\"Predicted_996\"+str(v)]\n",
    "        df.Zero=df.Zero.fillna(0)\n",
    "        df.Predicted= df.Predicted+df.Zero\n",
    "    os.chdir(\"../\")\n",
    "#     df=df.drop(\"Zero\",1)\n",
    "#     df=df.drop(\"ACCOUNT_u\",1)\n",
    "    print(df.columns)\n",
    "    return df, result"
   ]
  },
  {
   "cell_type": "code",
   "execution_count": 340,
   "metadata": {
    "collapsed": true
   },
   "outputs": [],
   "source": [
    "c=[[1,2]]*8"
   ]
  },
  {
   "cell_type": "code",
   "execution_count": 354,
   "metadata": {
    "collapsed": false
   },
   "outputs": [],
   "source": [
    "c=np.array(c)"
   ]
  },
  {
   "cell_type": "code",
   "execution_count": 358,
   "metadata": {
    "collapsed": false
   },
   "outputs": [
    {
     "data": {
      "text/plain": [
       "array([2, 2, 2, 2, 2, 2, 2, 2])"
      ]
     },
     "execution_count": 358,
     "metadata": {},
     "output_type": "execute_result"
    }
   ],
   "source": [
    "c[:,1]"
   ]
  },
  {
   "cell_type": "code",
   "execution_count": 292,
   "metadata": {
    "collapsed": true
   },
   "outputs": [],
   "source": [
    "import os"
   ]
  },
  {
   "cell_type": "code",
   "execution_count": 325,
   "metadata": {
    "collapsed": false
   },
   "outputs": [
    {
     "name": "stdout",
     "output_type": "stream",
     "text": [
      "C:\\Users\\A458497\\desktop\\compte_pre\n"
     ]
    }
   ],
   "source": [
    "cd compte_pre"
   ]
  },
  {
   "cell_type": "code",
   "execution_count": 380,
   "metadata": {
    "collapsed": false
   },
   "outputs": [],
   "source": [
    "os.chdir(\"../\")"
   ]
  },
  {
   "cell_type": "code",
   "execution_count": 381,
   "metadata": {
    "collapsed": false
   },
   "outputs": [
    {
     "name": "stdout",
     "output_type": "stream",
     "text": [
      "566\n"
     ]
    },
    {
     "name": "stderr",
     "output_type": "stream",
     "text": [
      "c:\\homeware\\anaconda3\\lib\\site-packages\\ipykernel\\__main__.py:42: SettingWithCopyWarning: \n",
      "A value is trying to be set on a copy of a slice from a DataFrame.\n",
      "Try using .loc[row_indexer,col_indexer] = value instead\n",
      "\n",
      "See the caveats in the documentation: http://pandas.pydata.org/pandas-docs/stable/indexing.html#indexing-view-versus-copy\n",
      "c:\\homeware\\anaconda3\\lib\\site-packages\\ipykernel\\__main__.py:43: SettingWithCopyWarning: \n",
      "A value is trying to be set on a copy of a slice from a DataFrame.\n",
      "Try using .loc[row_indexer,col_indexer] = value instead\n",
      "\n",
      "See the caveats in the documentation: http://pandas.pydata.org/pandas-docs/stable/indexing.html#indexing-view-versus-copy\n",
      "c:\\homeware\\anaconda3\\lib\\site-packages\\ipykernel\\__main__.py:44: SettingWithCopyWarning: \n",
      "A value is trying to be set on a copy of a slice from a DataFrame.\n",
      "Try using .loc[row_indexer,col_indexer] = value instead\n",
      "\n",
      "See the caveats in the documentation: http://pandas.pydata.org/pandas-docs/stable/indexing.html#indexing-view-versus-copy\n",
      "c:\\homeware\\anaconda3\\lib\\site-packages\\ipykernel\\__main__.py:47: SettingWithCopyWarning: \n",
      "A value is trying to be set on a copy of a slice from a DataFrame.\n",
      "Try using .loc[row_indexer,col_indexer] = value instead\n",
      "\n",
      "See the caveats in the documentation: http://pandas.pydata.org/pandas-docs/stable/indexing.html#indexing-view-versus-copy\n"
     ]
    }
   ],
   "source": [
    "a,b=predict_996(df_p,col_996)"
   ]
  }
 ],
 "metadata": {
  "anaconda-cloud": {},
  "kernelspec": {
   "display_name": "Python [Root]",
   "language": "python",
   "name": "Python [Root]"
  },
  "language_info": {
   "codemirror_mode": {
    "name": "ipython",
    "version": 3
   },
   "file_extension": ".py",
   "mimetype": "text/x-python",
   "name": "python",
   "nbconvert_exporter": "python",
   "pygments_lexer": "ipython3",
   "version": "3.5.2"
  },
  "nbpresent": {
   "slides": {
    "016026ea-2374-49f5-99f3-01bcab4deafb": {
     "id": "016026ea-2374-49f5-99f3-01bcab4deafb",
     "prev": "e41ef8e1-21a5-4709-8ec1-b4cf867e3d21",
     "regions": {
      "0bc0eab4-321c-4cef-a9f5-ed67b58acf28": {
       "attrs": {
        "height": 0.8,
        "width": 0.8,
        "x": 0.1,
        "y": 0.1
       },
       "content": {
        "cell": "f45b5bef-0622-4d8e-8297-b162457ec45c",
        "part": "whole"
       },
       "id": "0bc0eab4-321c-4cef-a9f5-ed67b58acf28"
      }
     }
    },
    "03225c28-4afb-4b1b-bebe-aa1bf52f8696": {
     "id": "03225c28-4afb-4b1b-bebe-aa1bf52f8696",
     "prev": "7de8220e-babb-4510-96f5-f2be8beb3da1",
     "regions": {
      "55fc36a5-d1bc-4033-b6ae-47a1bffe328e": {
       "attrs": {
        "height": 0.8,
        "width": 0.8,
        "x": 0.1,
        "y": 0.1
       },
       "content": {
        "cell": "736d9a1c-4bd3-4ab2-afe6-0ad76221aa26",
        "part": "whole"
       },
       "id": "55fc36a5-d1bc-4033-b6ae-47a1bffe328e"
      }
     }
    },
    "046b3098-11f6-450c-83d4-b6318f95ed65": {
     "id": "046b3098-11f6-450c-83d4-b6318f95ed65",
     "prev": "7ede89ce-0e11-40b0-a3c7-55a0867916aa",
     "regions": {
      "c1f30022-7a51-4a92-b6dd-eb8ba947b510": {
       "attrs": {
        "height": 0.8,
        "width": 0.8,
        "x": 0.1,
        "y": 0.1
       },
       "content": {
        "cell": "ba5bcaf8-2bbe-4710-ba4d-e2715941530c",
        "part": "whole"
       },
       "id": "c1f30022-7a51-4a92-b6dd-eb8ba947b510"
      }
     }
    },
    "04ccac36-0bf2-4526-8683-ce6d7175eb0c": {
     "id": "04ccac36-0bf2-4526-8683-ce6d7175eb0c",
     "prev": "27f6fbf1-a8d1-40b5-8c53-3f2fe1d73248",
     "regions": {
      "b38957ed-7c17-4b1e-88e5-6e2640181702": {
       "attrs": {
        "height": 0.8,
        "width": 0.8,
        "x": 0.1,
        "y": 0.1
       },
       "content": {
        "cell": "086b663f-9e08-41c3-8857-57f6cc078318",
        "part": "whole"
       },
       "id": "b38957ed-7c17-4b1e-88e5-6e2640181702"
      }
     }
    },
    "04dd53e3-f8cc-47d7-8785-7dfc2f41615c": {
     "id": "04dd53e3-f8cc-47d7-8785-7dfc2f41615c",
     "prev": "640848e1-771d-43e7-90d3-ef9e608e992b",
     "regions": {
      "fcab712e-c609-4cdd-a203-d8e4d37880a1": {
       "attrs": {
        "height": 0.8,
        "width": 0.8,
        "x": 0.1,
        "y": 0.1
       },
       "content": {
        "cell": "14f3535b-5db8-4c88-960f-2cd49e0f6a88",
        "part": "whole"
       },
       "id": "fcab712e-c609-4cdd-a203-d8e4d37880a1"
      }
     }
    },
    "06e5e3b9-fac9-4e78-b408-3e14553a6cf4": {
     "id": "06e5e3b9-fac9-4e78-b408-3e14553a6cf4",
     "prev": "3557d1cb-0800-403a-ab3b-61bf44092476",
     "regions": {
      "6a1ab00a-fdbe-41ac-b5a5-750ada094a2e": {
       "attrs": {
        "height": 0.8,
        "width": 0.8,
        "x": 0.1,
        "y": 0.1
       },
       "content": {
        "cell": "0c07c05f-1b26-4b03-936e-78055e663816",
        "part": "whole"
       },
       "id": "6a1ab00a-fdbe-41ac-b5a5-750ada094a2e"
      }
     }
    },
    "09e3d654-9611-4320-881f-807393249308": {
     "id": "09e3d654-9611-4320-881f-807393249308",
     "prev": "a47b111d-4b61-4dc9-9195-f004c5b485ed",
     "regions": {
      "8f344419-75c3-4b95-950c-c1f3dd32b21e": {
       "attrs": {
        "height": 0.8,
        "width": 0.8,
        "x": 0.1,
        "y": 0.1
       },
       "content": {
        "cell": "83650425-57de-4d6d-8b91-96d4ed4d55c0",
        "part": "whole"
       },
       "id": "8f344419-75c3-4b95-950c-c1f3dd32b21e"
      }
     }
    },
    "0ee7b144-2c73-46f4-ba02-80e2aa67d02f": {
     "id": "0ee7b144-2c73-46f4-ba02-80e2aa67d02f",
     "prev": "286e0fa7-bd80-4810-9b6f-f5b8f6646162",
     "regions": {
      "78eb05e0-45f8-4dd6-8227-72a49fed2b26": {
       "attrs": {
        "height": 0.8,
        "width": 0.8,
        "x": 0.1,
        "y": 0.1
       },
       "content": {
        "cell": "b8f897f7-9242-437c-a1c5-ecb2ff4ced14",
        "part": "whole"
       },
       "id": "78eb05e0-45f8-4dd6-8227-72a49fed2b26"
      }
     }
    },
    "0fa6284d-f666-492a-86b0-622ed83b31dd": {
     "id": "0fa6284d-f666-492a-86b0-622ed83b31dd",
     "prev": "20013434-b777-4c04-bc5c-189dd29b550f",
     "regions": {
      "01f92e91-3960-45ed-ba02-2030e5d2d32d": {
       "attrs": {
        "height": 0.8,
        "width": 0.8,
        "x": 0.1,
        "y": 0.1
       },
       "content": {
        "cell": "d73ffc04-8c5b-4495-b123-77419093cf6e",
        "part": "whole"
       },
       "id": "01f92e91-3960-45ed-ba02-2030e5d2d32d"
      }
     }
    },
    "0fb7d2b7-ab15-4203-a4cb-babfbff612d6": {
     "id": "0fb7d2b7-ab15-4203-a4cb-babfbff612d6",
     "prev": "97e24baa-ac06-4f95-9952-7b1b5bc54c65",
     "regions": {
      "97a27e8f-8dd1-40a5-92eb-4433ab799034": {
       "attrs": {
        "height": 0.8,
        "width": 0.8,
        "x": 0.1,
        "y": 0.1
       },
       "content": {
        "cell": "81289869-0183-4900-9f46-03fdc772e22e",
        "part": "whole"
       },
       "id": "97a27e8f-8dd1-40a5-92eb-4433ab799034"
      }
     }
    },
    "103856ec-afc9-4d4c-9161-1f267b9b49d7": {
     "id": "103856ec-afc9-4d4c-9161-1f267b9b49d7",
     "prev": "e87a18b4-0c77-430d-af38-5ff67f0b02aa",
     "regions": {
      "d5f67df4-707f-441b-9e7e-6caafff25920": {
       "attrs": {
        "height": 0.8,
        "width": 0.8,
        "x": 0.1,
        "y": 0.1
       },
       "content": {
        "cell": "14ead064-381e-4d12-a4ec-38f1cce9eb33",
        "part": "whole"
       },
       "id": "d5f67df4-707f-441b-9e7e-6caafff25920"
      }
     }
    },
    "10e66935-64db-4f10-8292-7dcdc86a71aa": {
     "id": "10e66935-64db-4f10-8292-7dcdc86a71aa",
     "prev": "fc79a2d0-3c3b-43ec-93a0-3a9f68ef658b",
     "regions": {
      "40be6e12-ad03-4cea-b827-bfb76ace14d5": {
       "attrs": {
        "height": 0.8,
        "width": 0.8,
        "x": 0.1,
        "y": 0.1
       },
       "content": {
        "cell": "6c62b2f5-ef55-42a3-aeb5-4b57ab494465",
        "part": "whole"
       },
       "id": "40be6e12-ad03-4cea-b827-bfb76ace14d5"
      }
     }
    },
    "11c10903-fc35-4c92-b583-a5f7237afabb": {
     "id": "11c10903-fc35-4c92-b583-a5f7237afabb",
     "prev": "b8870dd7-5afa-4fb6-8182-f7cf9688176b",
     "regions": {
      "01385609-33ac-4b07-9011-670c3d05bec0": {
       "attrs": {
        "height": 0.8,
        "width": 0.8,
        "x": 0.1,
        "y": 0.1
       },
       "content": {
        "cell": "0a300d13-a19b-4aa4-be01-0590326a957d",
        "part": "whole"
       },
       "id": "01385609-33ac-4b07-9011-670c3d05bec0"
      }
     }
    },
    "128170b0-787f-4ee8-8e3a-02c16fa0c97f": {
     "id": "128170b0-787f-4ee8-8e3a-02c16fa0c97f",
     "prev": "6e5994e6-5ee4-49de-8322-57f16f2a190a",
     "regions": {
      "f6e9ebb2-9083-4adb-926b-941e2ce62d8b": {
       "attrs": {
        "height": 0.8,
        "width": 0.8,
        "x": 0.1,
        "y": 0.1
       },
       "content": {
        "cell": "3fc0fb1e-95e2-4966-baf0-8287a9d45201",
        "part": "whole"
       },
       "id": "f6e9ebb2-9083-4adb-926b-941e2ce62d8b"
      }
     }
    },
    "128e4337-feee-4aeb-808d-3f37b0cc8765": {
     "id": "128e4337-feee-4aeb-808d-3f37b0cc8765",
     "prev": "3fd469d4-ff8f-47b3-a591-9cec34b14f22",
     "regions": {
      "7f352fe2-3e3c-4aa4-85d7-d488f6e1c4e0": {
       "attrs": {
        "height": 0.8,
        "width": 0.8,
        "x": 0.1,
        "y": 0.1
       },
       "content": {
        "cell": "593acc33-1dd6-4458-aaa6-7869d2d37e31",
        "part": "whole"
       },
       "id": "7f352fe2-3e3c-4aa4-85d7-d488f6e1c4e0"
      }
     }
    },
    "12fa48b9-9b89-44ec-8dcc-f06f94fd7279": {
     "id": "12fa48b9-9b89-44ec-8dcc-f06f94fd7279",
     "prev": "3ef57ed8-4eb1-4d89-8b98-e60db16ec743",
     "regions": {
      "5eab50c0-6bd2-49bb-9de9-5e34188434c4": {
       "attrs": {
        "height": 0.8,
        "width": 0.8,
        "x": 0.1,
        "y": 0.1
       },
       "content": {
        "cell": "f86e340e-bc0c-4442-8347-559083039eec",
        "part": "whole"
       },
       "id": "5eab50c0-6bd2-49bb-9de9-5e34188434c4"
      }
     }
    },
    "13353cd7-e024-49d6-b15d-928ccfaad5c0": {
     "id": "13353cd7-e024-49d6-b15d-928ccfaad5c0",
     "prev": "72111744-7f04-4017-8f70-92785ec657e7",
     "regions": {
      "0bf7bbb3-ab98-4f14-a9dc-74c805bc8a11": {
       "attrs": {
        "height": 0.8,
        "width": 0.8,
        "x": 0.1,
        "y": 0.1
       },
       "content": {
        "cell": "ceb78cc4-4577-4316-9045-aa7359d1b869",
        "part": "whole"
       },
       "id": "0bf7bbb3-ab98-4f14-a9dc-74c805bc8a11"
      }
     }
    },
    "13feb6a5-ba8f-457f-9601-b512db80cb38": {
     "id": "13feb6a5-ba8f-457f-9601-b512db80cb38",
     "prev": "7bc6149b-5637-4041-95bc-bf65df46bba1",
     "regions": {
      "71060fe3-764f-4131-8986-50304f6803fc": {
       "attrs": {
        "height": 0.8,
        "width": 0.8,
        "x": 0.1,
        "y": 0.1
       },
       "content": {
        "cell": "2cdbb285-b5a1-4289-ba08-a33208014ee3",
        "part": "whole"
       },
       "id": "71060fe3-764f-4131-8986-50304f6803fc"
      }
     }
    },
    "16ad2754-bd0e-4f7f-b32a-339441f0fd34": {
     "id": "16ad2754-bd0e-4f7f-b32a-339441f0fd34",
     "prev": "ccfd9b2b-92fc-4e8f-9555-661aa441fde1",
     "regions": {
      "f5e4c6ad-ecd2-4215-affb-2a6e0edd3e83": {
       "attrs": {
        "height": 0.8,
        "width": 0.8,
        "x": 0.1,
        "y": 0.1
       },
       "content": {
        "cell": "4c642b41-2ee6-4158-8b7f-90437c1fe850",
        "part": "whole"
       },
       "id": "f5e4c6ad-ecd2-4215-affb-2a6e0edd3e83"
      }
     }
    },
    "19ddc0e5-bb08-4e96-8251-b9c2d7fb6aa2": {
     "id": "19ddc0e5-bb08-4e96-8251-b9c2d7fb6aa2",
     "prev": "79b79b37-f560-4f3f-9bce-ff70174adc4b",
     "regions": {
      "016989b7-a874-49f9-9190-89616aca2dee": {
       "attrs": {
        "height": 0.8,
        "width": 0.8,
        "x": 0.1,
        "y": 0.1
       },
       "content": {
        "cell": "a7153bff-6272-410e-9c93-8ec4c83abbea",
        "part": "whole"
       },
       "id": "016989b7-a874-49f9-9190-89616aca2dee"
      }
     }
    },
    "19fe83b7-ba1f-4da3-9d8f-59b4e1d9537e": {
     "id": "19fe83b7-ba1f-4da3-9d8f-59b4e1d9537e",
     "prev": "ec5d48d4-41fc-4b66-a319-121d4109d08b",
     "regions": {
      "fb17e69d-e42c-4a35-ab82-38563d2181f3": {
       "attrs": {
        "height": 0.8,
        "width": 0.8,
        "x": 0.1,
        "y": 0.1
       },
       "content": {
        "cell": "02ec7025-a354-487b-b2eb-c1be8b959e64",
        "part": "whole"
       },
       "id": "fb17e69d-e42c-4a35-ab82-38563d2181f3"
      }
     }
    },
    "19ffe766-a558-4224-8fda-59f50eb0b0ea": {
     "id": "19ffe766-a558-4224-8fda-59f50eb0b0ea",
     "prev": "e2ece26b-f484-4fb7-b5b3-7ec9e3482b17",
     "regions": {
      "aadcf874-4f4b-4217-8eea-056e434328b7": {
       "attrs": {
        "height": 0.8,
        "width": 0.8,
        "x": 0.1,
        "y": 0.1
       },
       "content": {
        "cell": "7dec3cde-e78c-4e7c-afcb-7620abcda10b",
        "part": "whole"
       },
       "id": "aadcf874-4f4b-4217-8eea-056e434328b7"
      }
     }
    },
    "1ca3b3ea-1d79-4c8b-a795-e89f8e38b0e0": {
     "id": "1ca3b3ea-1d79-4c8b-a795-e89f8e38b0e0",
     "prev": "64898be2-bf28-449b-9d30-7f8dfd4b82ee",
     "regions": {
      "3ffd98d4-d45e-4a12-851c-20c66f364136": {
       "attrs": {
        "height": 0.8,
        "width": 0.8,
        "x": 0.1,
        "y": 0.1
       },
       "content": {
        "cell": "26f7e322-389b-414e-8a63-6df96a855955",
        "part": "whole"
       },
       "id": "3ffd98d4-d45e-4a12-851c-20c66f364136"
      }
     }
    },
    "1d29f11c-2f5a-4af0-be94-b553149e0f3a": {
     "id": "1d29f11c-2f5a-4af0-be94-b553149e0f3a",
     "prev": "47c8a021-3f55-489d-be5f-3d29cc58e58d",
     "regions": {
      "705c659e-3539-42e0-8761-dbb2b622fe0b": {
       "attrs": {
        "height": 0.8,
        "width": 0.8,
        "x": 0.1,
        "y": 0.1
       },
       "content": {
        "cell": "a9528c52-12de-416a-9b26-c4e4ab6847e1",
        "part": "whole"
       },
       "id": "705c659e-3539-42e0-8761-dbb2b622fe0b"
      }
     }
    },
    "1d34b31e-db22-4641-8c02-d2ac2389ef4c": {
     "id": "1d34b31e-db22-4641-8c02-d2ac2389ef4c",
     "prev": "c6890ec3-4dfa-4e06-86ff-bdd4ec9070cf",
     "regions": {
      "ad09f563-6252-4f2a-9f26-5ebadcb9a991": {
       "attrs": {
        "height": 0.8,
        "width": 0.8,
        "x": 0.1,
        "y": 0.1
       },
       "content": {
        "cell": "740c5137-1252-4e24-be7f-8dfb64e7135d",
        "part": "whole"
       },
       "id": "ad09f563-6252-4f2a-9f26-5ebadcb9a991"
      }
     }
    },
    "1d70d4a1-0cbe-420c-b186-f9ab5ac732ce": {
     "id": "1d70d4a1-0cbe-420c-b186-f9ab5ac732ce",
     "prev": "afa2920a-8560-4f59-b12a-487b2d9771c2",
     "regions": {
      "7fbb700a-04ed-4ca6-9b35-5e195aba2fa7": {
       "attrs": {
        "height": 0.8,
        "width": 0.8,
        "x": 0.1,
        "y": 0.1
       },
       "content": {
        "cell": "ad40d4d0-e394-4cf1-bbe3-fef8e9cffb57",
        "part": "whole"
       },
       "id": "7fbb700a-04ed-4ca6-9b35-5e195aba2fa7"
      }
     }
    },
    "1fa4179c-463f-4e38-b84f-061e35afbb9b": {
     "id": "1fa4179c-463f-4e38-b84f-061e35afbb9b",
     "prev": "37ba41e2-07b2-4842-b565-c52c1c4a4703",
     "regions": {
      "852520ce-f345-4a1a-b84b-7f7adda769f7": {
       "attrs": {
        "height": 0.8,
        "width": 0.8,
        "x": 0.1,
        "y": 0.1
       },
       "content": {
        "cell": "70df5a5a-07e1-46da-aed2-2873da734150",
        "part": "whole"
       },
       "id": "852520ce-f345-4a1a-b84b-7f7adda769f7"
      }
     }
    },
    "20013434-b777-4c04-bc5c-189dd29b550f": {
     "id": "20013434-b777-4c04-bc5c-189dd29b550f",
     "prev": "49708086-6f17-44e7-bbfc-da96e92fb963",
     "regions": {
      "ee1bb9aa-eded-441e-921f-beff0a617add": {
       "attrs": {
        "height": 0.8,
        "width": 0.8,
        "x": 0.1,
        "y": 0.1
       },
       "content": {
        "cell": "84b5739b-8fe9-4683-966d-be2d44873030",
        "part": "whole"
       },
       "id": "ee1bb9aa-eded-441e-921f-beff0a617add"
      }
     }
    },
    "219e0f98-18a2-4049-ab3c-6b93505b243e": {
     "id": "219e0f98-18a2-4049-ab3c-6b93505b243e",
     "prev": "4535961d-6dcb-47b9-a855-795006ec2578",
     "regions": {
      "dc0fec5a-24a4-4c89-88df-a43ff1741050": {
       "attrs": {
        "height": 0.8,
        "width": 0.8,
        "x": 0.1,
        "y": 0.1
       },
       "content": {
        "cell": "fed97641-d979-4bdc-9a5c-f0cb0aac71b3",
        "part": "whole"
       },
       "id": "dc0fec5a-24a4-4c89-88df-a43ff1741050"
      }
     }
    },
    "21c36af5-ce47-45b3-9cae-abb0a6523d79": {
     "id": "21c36af5-ce47-45b3-9cae-abb0a6523d79",
     "prev": "04ccac36-0bf2-4526-8683-ce6d7175eb0c",
     "regions": {
      "aef69ce1-6b4c-464b-81b5-3944680b3211": {
       "attrs": {
        "height": 0.8,
        "width": 0.8,
        "x": 0.1,
        "y": 0.1
       },
       "content": {
        "cell": "cb030e92-83f1-4a05-9a3f-ff10353fc10b",
        "part": "whole"
       },
       "id": "aef69ce1-6b4c-464b-81b5-3944680b3211"
      }
     }
    },
    "23059aa6-a9b4-47ec-ac11-163c24cb557c": {
     "id": "23059aa6-a9b4-47ec-ac11-163c24cb557c",
     "prev": "f8009e0a-4df8-49a5-b646-cb33ecc4480e",
     "regions": {
      "d4df66cd-04c4-4696-b2ce-0fe956e76266": {
       "attrs": {
        "height": 0.8,
        "width": 0.8,
        "x": 0.1,
        "y": 0.1
       },
       "content": {
        "cell": "aff3022a-d109-43e0-8e11-1e61c87bc1bc",
        "part": "whole"
       },
       "id": "d4df66cd-04c4-4696-b2ce-0fe956e76266"
      }
     }
    },
    "23e80905-8bf4-4ff4-9324-af0bf6b8319a": {
     "id": "23e80905-8bf4-4ff4-9324-af0bf6b8319a",
     "prev": "247258fe-079b-438c-bd3c-a06d335bb964",
     "regions": {
      "32e5251f-6f6d-4da6-970d-fa80c591679e": {
       "attrs": {
        "height": 0.8,
        "width": 0.8,
        "x": 0.1,
        "y": 0.1
       },
       "content": {
        "cell": "5d0f71ac-2641-4dab-ab7b-02c27ec0f1e4",
        "part": "whole"
       },
       "id": "32e5251f-6f6d-4da6-970d-fa80c591679e"
      }
     }
    },
    "247258fe-079b-438c-bd3c-a06d335bb964": {
     "id": "247258fe-079b-438c-bd3c-a06d335bb964",
     "prev": "13feb6a5-ba8f-457f-9601-b512db80cb38",
     "regions": {
      "09591142-947e-4c40-be8e-1c10d50cbd36": {
       "attrs": {
        "height": 0.8,
        "width": 0.8,
        "x": 0.1,
        "y": 0.1
       },
       "content": {
        "cell": "8b23f518-4c3f-42d7-a6b3-33055fdcf06b",
        "part": "whole"
       },
       "id": "09591142-947e-4c40-be8e-1c10d50cbd36"
      }
     }
    },
    "262b5dd2-ab49-4c02-8ca3-28f14e283594": {
     "id": "262b5dd2-ab49-4c02-8ca3-28f14e283594",
     "prev": "c3d54498-773f-407f-b1d5-33949ed099e8",
     "regions": {
      "7e1906ef-df63-4a18-b414-1e0df07ecf7e": {
       "attrs": {
        "height": 0.8,
        "width": 0.8,
        "x": 0.1,
        "y": 0.1
       },
       "content": {
        "cell": "82d181e5-cab1-41a5-9888-6781c8ccf9c1",
        "part": "whole"
       },
       "id": "7e1906ef-df63-4a18-b414-1e0df07ecf7e"
      }
     }
    },
    "275f9bf6-cbaf-49c8-86d3-2d2825ffad21": {
     "id": "275f9bf6-cbaf-49c8-86d3-2d2825ffad21",
     "prev": "d45ae631-da34-4f82-b9da-c75048675dc8",
     "regions": {
      "ec0749ff-6412-4c4e-959a-e8425fe21a6e": {
       "attrs": {
        "height": 0.8,
        "width": 0.8,
        "x": 0.1,
        "y": 0.1
       },
       "content": {
        "cell": "7a32b70d-752a-400b-b7dc-4eafc832ed2f",
        "part": "whole"
       },
       "id": "ec0749ff-6412-4c4e-959a-e8425fe21a6e"
      }
     }
    },
    "27a0da24-f5a6-4512-ae47-ebbdfb5b20ba": {
     "id": "27a0da24-f5a6-4512-ae47-ebbdfb5b20ba",
     "prev": "13353cd7-e024-49d6-b15d-928ccfaad5c0",
     "regions": {
      "e7ac7a47-0528-496a-92e5-a4a9463c6dc9": {
       "attrs": {
        "height": 0.8,
        "width": 0.8,
        "x": 0.1,
        "y": 0.1
       },
       "content": {
        "cell": "70216398-4ca9-4fac-a46b-33feda4880d3",
        "part": "whole"
       },
       "id": "e7ac7a47-0528-496a-92e5-a4a9463c6dc9"
      }
     }
    },
    "27c18eea-b546-4057-b89d-2640b2e4f370": {
     "id": "27c18eea-b546-4057-b89d-2640b2e4f370",
     "prev": "12fa48b9-9b89-44ec-8dcc-f06f94fd7279",
     "regions": {
      "408e5c48-0ed8-4fbd-955d-a895d03605a3": {
       "attrs": {
        "height": 0.8,
        "width": 0.8,
        "x": 0.1,
        "y": 0.1
       },
       "content": {
        "cell": "9a870d04-a9ff-4f10-b516-fcd47cb69a12",
        "part": "whole"
       },
       "id": "408e5c48-0ed8-4fbd-955d-a895d03605a3"
      }
     }
    },
    "27c59d1d-b68a-489f-a5f8-c6fa324d0eb0": {
     "id": "27c59d1d-b68a-489f-a5f8-c6fa324d0eb0",
     "prev": "58c2276f-4c2e-4f13-bc73-27824fb98c8b",
     "regions": {
      "570a52e1-93bd-438c-a075-57be8f21283a": {
       "attrs": {
        "height": 0.8,
        "width": 0.8,
        "x": 0.1,
        "y": 0.1
       },
       "content": {
        "cell": "b7b54534-1c4a-4848-a0c9-f0052e2b0cab",
        "part": "whole"
       },
       "id": "570a52e1-93bd-438c-a075-57be8f21283a"
      }
     }
    },
    "27f6fbf1-a8d1-40b5-8c53-3f2fe1d73248": {
     "id": "27f6fbf1-a8d1-40b5-8c53-3f2fe1d73248",
     "prev": "8544d27d-c4ed-4e36-af75-572a4f1d45a6",
     "regions": {
      "aa5b297c-8b92-4970-b23f-34b5d2787f0a": {
       "attrs": {
        "height": 0.8,
        "width": 0.8,
        "x": 0.1,
        "y": 0.1
       },
       "content": {
        "cell": "f3485c57-6a66-4049-9c75-38d9948354ac",
        "part": "whole"
       },
       "id": "aa5b297c-8b92-4970-b23f-34b5d2787f0a"
      }
     }
    },
    "286e0fa7-bd80-4810-9b6f-f5b8f6646162": {
     "id": "286e0fa7-bd80-4810-9b6f-f5b8f6646162",
     "prev": "19ddc0e5-bb08-4e96-8251-b9c2d7fb6aa2",
     "regions": {
      "ab78bc9a-aee8-4e05-aa3d-f7fff84cf877": {
       "attrs": {
        "height": 0.8,
        "width": 0.8,
        "x": 0.1,
        "y": 0.1
       },
       "content": {
        "cell": "afd9b736-4059-4718-b274-4982d4f02225",
        "part": "whole"
       },
       "id": "ab78bc9a-aee8-4e05-aa3d-f7fff84cf877"
      }
     }
    },
    "29c9b529-8970-44bf-9d06-fe796fef0128": {
     "id": "29c9b529-8970-44bf-9d06-fe796fef0128",
     "prev": "52439905-2f64-470f-8bf3-5111f032d444",
     "regions": {
      "92875e99-7df9-4db1-a7c2-3f5f47b62f47": {
       "attrs": {
        "height": 0.8,
        "width": 0.8,
        "x": 0.1,
        "y": 0.1
       },
       "content": {
        "cell": "0a2d6107-945b-42ee-8cdf-d8686b046301",
        "part": "whole"
       },
       "id": "92875e99-7df9-4db1-a7c2-3f5f47b62f47"
      }
     }
    },
    "2b87c2b1-8426-47e0-8f05-f40b7691a45f": {
     "id": "2b87c2b1-8426-47e0-8f05-f40b7691a45f",
     "prev": "128170b0-787f-4ee8-8e3a-02c16fa0c97f",
     "regions": {
      "807b1e5e-bcfd-41b3-8147-f22f354999cd": {
       "attrs": {
        "height": 0.8,
        "width": 0.8,
        "x": 0.1,
        "y": 0.1
       },
       "content": {
        "cell": "1c423d9f-cf4f-4928-b27e-8fac62d626e3",
        "part": "whole"
       },
       "id": "807b1e5e-bcfd-41b3-8147-f22f354999cd"
      }
     }
    },
    "2cb57189-7dda-4ff2-85b0-f49ea209fed6": {
     "id": "2cb57189-7dda-4ff2-85b0-f49ea209fed6",
     "prev": "d1f1e2c4-22e9-4f7d-b7eb-b2c21ab36c7a",
     "regions": {
      "19fd93dd-f1d6-4d4a-a28e-9443ac4fce7f": {
       "attrs": {
        "height": 0.8,
        "width": 0.8,
        "x": 0.1,
        "y": 0.1
       },
       "content": {
        "cell": "d8a3840e-fa5d-4b74-9e50-1129de87817e",
        "part": "whole"
       },
       "id": "19fd93dd-f1d6-4d4a-a28e-9443ac4fce7f"
      }
     }
    },
    "2d41a298-25cf-40c8-93a2-9149335ae6e4": {
     "id": "2d41a298-25cf-40c8-93a2-9149335ae6e4",
     "prev": "b86eee0a-7869-432f-a799-037c3b2091cc",
     "regions": {
      "de97a055-0172-4e2b-b0e6-f22231cd7b5a": {
       "attrs": {
        "height": 0.8,
        "width": 0.8,
        "x": 0.1,
        "y": 0.1
       },
       "content": {
        "cell": "c1a7f806-e8e8-4e0d-becb-922d2ba5a64a",
        "part": "whole"
       },
       "id": "de97a055-0172-4e2b-b0e6-f22231cd7b5a"
      }
     }
    },
    "313a276e-f57a-44a3-a09e-9308806051a8": {
     "id": "313a276e-f57a-44a3-a09e-9308806051a8",
     "prev": "128e4337-feee-4aeb-808d-3f37b0cc8765",
     "regions": {
      "15474b3f-94a8-4dd0-8103-025ca476a434": {
       "attrs": {
        "height": 0.8,
        "width": 0.8,
        "x": 0.1,
        "y": 0.1
       },
       "content": {
        "cell": "46bc49a6-9f96-4690-812f-1b5334931dd3",
        "part": "whole"
       },
       "id": "15474b3f-94a8-4dd0-8103-025ca476a434"
      }
     }
    },
    "3164ea55-a288-495d-bb5c-d7699b1303a7": {
     "id": "3164ea55-a288-495d-bb5c-d7699b1303a7",
     "prev": "3664eb1b-68ea-40bd-aff4-b14762cde634",
     "regions": {
      "7ad437c5-b5ee-4845-a5b8-aa15e2dd7709": {
       "attrs": {
        "height": 0.8,
        "width": 0.8,
        "x": 0.1,
        "y": 0.1
       },
       "content": {
        "cell": "f5095f76-9929-49c9-ac1f-9e058fb317fa",
        "part": "whole"
       },
       "id": "7ad437c5-b5ee-4845-a5b8-aa15e2dd7709"
      }
     }
    },
    "325fae56-f1b7-4231-b1f5-567875a7e929": {
     "id": "325fae56-f1b7-4231-b1f5-567875a7e929",
     "prev": "0ee7b144-2c73-46f4-ba02-80e2aa67d02f",
     "regions": {
      "8b6403ea-f0ff-4d39-b4dd-5898287e1632": {
       "attrs": {
        "height": 0.8,
        "width": 0.8,
        "x": 0.1,
        "y": 0.1
       },
       "content": {
        "cell": "76426bf1-173e-40df-b5e2-f3a0a0c5a4da",
        "part": "whole"
       },
       "id": "8b6403ea-f0ff-4d39-b4dd-5898287e1632"
      }
     }
    },
    "33744bd1-f289-45aa-a66e-0311f509e708": {
     "id": "33744bd1-f289-45aa-a66e-0311f509e708",
     "prev": "2b87c2b1-8426-47e0-8f05-f40b7691a45f",
     "regions": {
      "94cb113e-945e-43ef-a386-191c5e337ef4": {
       "attrs": {
        "height": 0.8,
        "width": 0.8,
        "x": 0.1,
        "y": 0.1
       },
       "content": {
        "cell": "644a02a4-5ffa-45eb-a5a8-8d89d6adc1b1",
        "part": "whole"
       },
       "id": "94cb113e-945e-43ef-a386-191c5e337ef4"
      }
     }
    },
    "350f33ca-c283-4243-9928-5c67cef55b2a": {
     "id": "350f33ca-c283-4243-9928-5c67cef55b2a",
     "prev": "563bb247-5ea6-4968-b3ff-1890b3846ef1",
     "regions": {
      "b567ee1c-36f8-4716-90c6-566d9fcff65a": {
       "attrs": {
        "height": 0.8,
        "width": 0.8,
        "x": 0.1,
        "y": 0.1
       },
       "content": {
        "cell": "1ec16a6d-55db-46fe-9271-e0ef761f0b0c",
        "part": "whole"
       },
       "id": "b567ee1c-36f8-4716-90c6-566d9fcff65a"
      }
     }
    },
    "3557d1cb-0800-403a-ab3b-61bf44092476": {
     "id": "3557d1cb-0800-403a-ab3b-61bf44092476",
     "prev": "f6e6afc5-51e1-4b43-add9-79790fa0c17c",
     "regions": {
      "b8dfab81-4308-4281-904a-9e79ee8aad6d": {
       "attrs": {
        "height": 0.8,
        "width": 0.8,
        "x": 0.1,
        "y": 0.1
       },
       "content": {
        "cell": "8a034967-bf80-4e5d-a710-3735cfb29030",
        "part": "whole"
       },
       "id": "b8dfab81-4308-4281-904a-9e79ee8aad6d"
      }
     }
    },
    "3664eb1b-68ea-40bd-aff4-b14762cde634": {
     "id": "3664eb1b-68ea-40bd-aff4-b14762cde634",
     "prev": "98c135b4-4017-402e-876c-47dc65e205d3",
     "regions": {
      "5be46fc2-ea4f-42c4-b758-ccabfff96ecf": {
       "attrs": {
        "height": 0.8,
        "width": 0.8,
        "x": 0.1,
        "y": 0.1
       },
       "content": {
        "cell": "927a8612-88cc-4f12-b808-1735103ecb0f",
        "part": "whole"
       },
       "id": "5be46fc2-ea4f-42c4-b758-ccabfff96ecf"
      }
     }
    },
    "37095130-ceb7-4ad0-bcec-b957eee8cead": {
     "id": "37095130-ceb7-4ad0-bcec-b957eee8cead",
     "prev": "b91f797e-d085-465d-9ca9-52f161303d14",
     "regions": {
      "bd08b012-40be-489b-8031-99081f756720": {
       "attrs": {
        "height": 0.8,
        "width": 0.8,
        "x": 0.1,
        "y": 0.1
       },
       "content": {
        "cell": "ca817a5e-15c6-4ab6-ac50-bab242ffbbe0",
        "part": "whole"
       },
       "id": "bd08b012-40be-489b-8031-99081f756720"
      }
     }
    },
    "37ba41e2-07b2-4842-b565-c52c1c4a4703": {
     "id": "37ba41e2-07b2-4842-b565-c52c1c4a4703",
     "prev": "959b5d0f-eb8c-4a97-abec-d68003f7fdd2",
     "regions": {
      "d9e66d3b-fe52-4387-b35e-2ad0e4c93717": {
       "attrs": {
        "height": 0.8,
        "width": 0.8,
        "x": 0.1,
        "y": 0.1
       },
       "content": {
        "cell": "083222be-2a52-43b3-babd-b09791c6e100",
        "part": "whole"
       },
       "id": "d9e66d3b-fe52-4387-b35e-2ad0e4c93717"
      }
     }
    },
    "3a1be377-d0e7-4ae4-9c0b-b01f9ebcbd84": {
     "id": "3a1be377-d0e7-4ae4-9c0b-b01f9ebcbd84",
     "prev": "f451bb48-64ae-4fc1-9e04-9c609cd9e5b7",
     "regions": {
      "01699bc5-e71a-4fd9-91cc-6b1cdf48692a": {
       "attrs": {
        "height": 0.8,
        "width": 0.8,
        "x": 0.1,
        "y": 0.1
       },
       "content": {
        "cell": "aef701a4-e792-4f03-bacb-8ad9f807f36a",
        "part": "whole"
       },
       "id": "01699bc5-e71a-4fd9-91cc-6b1cdf48692a"
      }
     }
    },
    "3b2dd118-d533-43f1-9a48-f01c2794c680": {
     "id": "3b2dd118-d533-43f1-9a48-f01c2794c680",
     "prev": "1d29f11c-2f5a-4af0-be94-b553149e0f3a",
     "regions": {
      "7cc24a47-6664-4534-8f57-ba03583a8714": {
       "attrs": {
        "height": 0.8,
        "width": 0.8,
        "x": 0.1,
        "y": 0.1
       },
       "content": {
        "cell": "072dfcd3-a09f-4a3f-a95d-15c81bca583b",
        "part": "whole"
       },
       "id": "7cc24a47-6664-4534-8f57-ba03583a8714"
      }
     }
    },
    "3ef57ed8-4eb1-4d89-8b98-e60db16ec743": {
     "id": "3ef57ed8-4eb1-4d89-8b98-e60db16ec743",
     "prev": "9e51a14f-0dc1-42bc-b3b5-a5632a97c4c6",
     "regions": {
      "2abaf74c-468e-486a-9572-2f294abfb7ae": {
       "attrs": {
        "height": 0.8,
        "width": 0.8,
        "x": 0.1,
        "y": 0.1
       },
       "content": {
        "cell": "d39f3867-8f36-4be0-97e8-79d707b0540b",
        "part": "whole"
       },
       "id": "2abaf74c-468e-486a-9572-2f294abfb7ae"
      }
     }
    },
    "3fd469d4-ff8f-47b3-a591-9cec34b14f22": {
     "id": "3fd469d4-ff8f-47b3-a591-9cec34b14f22",
     "prev": "03225c28-4afb-4b1b-bebe-aa1bf52f8696",
     "regions": {
      "ab0e7297-eaaf-4b2a-88b6-c00e39dea247": {
       "attrs": {
        "height": 0.8,
        "width": 0.8,
        "x": 0.1,
        "y": 0.1
       },
       "content": {
        "cell": "332ef7ff-3707-4191-944c-dbe50fd6929f",
        "part": "whole"
       },
       "id": "ab0e7297-eaaf-4b2a-88b6-c00e39dea247"
      }
     }
    },
    "4535961d-6dcb-47b9-a855-795006ec2578": {
     "id": "4535961d-6dcb-47b9-a855-795006ec2578",
     "prev": "e1171c20-0c28-439a-ac74-4901a03442da",
     "regions": {
      "69966444-1a7b-49b2-8ed3-26635bd97f62": {
       "attrs": {
        "height": 0.8,
        "width": 0.8,
        "x": 0.1,
        "y": 0.1
       },
       "content": {
        "cell": "ef9bdd7e-5f61-4eb8-9752-511907435fd6",
        "part": "whole"
       },
       "id": "69966444-1a7b-49b2-8ed3-26635bd97f62"
      }
     }
    },
    "45d1c1cc-251a-4684-b4a1-9207bac54d8a": {
     "id": "45d1c1cc-251a-4684-b4a1-9207bac54d8a",
     "prev": "da2379cb-5e29-4a1c-b23b-fcdf9abd6bd6",
     "regions": {
      "4500b5bb-1627-44d0-b61d-4b3e6ae8ccc9": {
       "attrs": {
        "height": 0.8,
        "width": 0.8,
        "x": 0.1,
        "y": 0.1
       },
       "content": {
        "cell": "242c6a8b-932b-4a8d-9996-ea86eaed04b3",
        "part": "whole"
       },
       "id": "4500b5bb-1627-44d0-b61d-4b3e6ae8ccc9"
      }
     }
    },
    "470ca5b3-528b-4bd1-ad0b-ee7ac7ac8c89": {
     "id": "470ca5b3-528b-4bd1-ad0b-ee7ac7ac8c89",
     "prev": "bc41e450-4e34-421f-923c-1c0dcba30162",
     "regions": {
      "1ab75b35-673e-4952-8316-c8b4f7686642": {
       "attrs": {
        "height": 0.8,
        "width": 0.8,
        "x": 0.1,
        "y": 0.1
       },
       "content": {
        "cell": "8bfd62fa-c83d-4fda-85f7-fd56970784ac",
        "part": "whole"
       },
       "id": "1ab75b35-673e-4952-8316-c8b4f7686642"
      }
     }
    },
    "47226bd1-13cd-416c-8a12-7a2dee1307f4": {
     "id": "47226bd1-13cd-416c-8a12-7a2dee1307f4",
     "prev": "e1a61dad-c26f-4dbb-9d20-26d672741e75",
     "regions": {
      "1bb64864-86bf-4d54-a58c-9c187bb30e15": {
       "attrs": {
        "height": 0.8,
        "width": 0.8,
        "x": 0.1,
        "y": 0.1
       },
       "content": {
        "cell": "f015bf19-9b11-490c-8908-12e9bc7cc696",
        "part": "whole"
       },
       "id": "1bb64864-86bf-4d54-a58c-9c187bb30e15"
      }
     }
    },
    "47c8a021-3f55-489d-be5f-3d29cc58e58d": {
     "id": "47c8a021-3f55-489d-be5f-3d29cc58e58d",
     "prev": "d44577bf-b023-420e-bfb9-99ae87df6c4d",
     "regions": {
      "7ddbdb8c-e220-4ed5-8f7d-414ef6d33cd9": {
       "attrs": {
        "height": 0.8,
        "width": 0.8,
        "x": 0.1,
        "y": 0.1
       },
       "content": {
        "cell": "86a8d3eb-e442-402a-b81e-281af5867605",
        "part": "whole"
       },
       "id": "7ddbdb8c-e220-4ed5-8f7d-414ef6d33cd9"
      }
     }
    },
    "486f9226-ccc7-4d5c-839a-62abc75c8c1a": {
     "id": "486f9226-ccc7-4d5c-839a-62abc75c8c1a",
     "prev": "c3197fba-f568-4b54-b465-19379457feff",
     "regions": {
      "d7308acb-810a-4d23-90f0-e22a7c7b38e7": {
       "attrs": {
        "height": 0.8,
        "width": 0.8,
        "x": 0.1,
        "y": 0.1
       },
       "content": {
        "cell": "ef9e5b17-8cb2-4e8e-9d81-e981463621ee",
        "part": "whole"
       },
       "id": "d7308acb-810a-4d23-90f0-e22a7c7b38e7"
      }
     }
    },
    "48a3f7a0-1527-4238-b4ea-c8e618ce21ce": {
     "id": "48a3f7a0-1527-4238-b4ea-c8e618ce21ce",
     "prev": "350f33ca-c283-4243-9928-5c67cef55b2a",
     "regions": {
      "be6b7c90-63b1-46b5-b9ce-755de8a77aaa": {
       "attrs": {
        "height": 0.8,
        "width": 0.8,
        "x": 0.1,
        "y": 0.1
       },
       "content": {
        "cell": "cfdbfd9e-673f-4769-a6b1-a8ba2dcedaef",
        "part": "whole"
       },
       "id": "be6b7c90-63b1-46b5-b9ce-755de8a77aaa"
      }
     }
    },
    "49708086-6f17-44e7-bbfc-da96e92fb963": {
     "id": "49708086-6f17-44e7-bbfc-da96e92fb963",
     "prev": "bc26cdca-8397-4c41-b3da-833db74993ed",
     "regions": {
      "8a629952-ea79-480a-818c-a77f189a98b0": {
       "attrs": {
        "height": 0.8,
        "width": 0.8,
        "x": 0.1,
        "y": 0.1
       },
       "content": {
        "cell": "cfe34eac-d5f3-409a-a57c-642b20d3a524",
        "part": "whole"
       },
       "id": "8a629952-ea79-480a-818c-a77f189a98b0"
      }
     }
    },
    "4c5def02-f549-4270-b62e-7dabd1fe574c": {
     "id": "4c5def02-f549-4270-b62e-7dabd1fe574c",
     "prev": "6c03dc42-c7ad-4f43-bf79-56bc84411136",
     "regions": {
      "9da00594-803c-4d47-a27c-922a67866a58": {
       "attrs": {
        "height": 0.8,
        "width": 0.8,
        "x": 0.1,
        "y": 0.1
       },
       "content": {
        "cell": "06dbf11a-12cc-423e-9c4f-9784843d0b5a",
        "part": "whole"
       },
       "id": "9da00594-803c-4d47-a27c-922a67866a58"
      }
     }
    },
    "4f904e16-bac5-4f78-9b53-79c88142725a": {
     "id": "4f904e16-bac5-4f78-9b53-79c88142725a",
     "prev": "ad3fddc1-ae6e-46d1-97a2-c1a8c6883b43",
     "regions": {
      "bf314adb-321f-4f54-8f1b-3b7ed8bf78bb": {
       "attrs": {
        "height": 0.8,
        "width": 0.8,
        "x": 0.1,
        "y": 0.1
       },
       "content": {
        "cell": "62c58ff9-2e27-4ac6-8cea-c9b1d3cbbc68",
        "part": "whole"
       },
       "id": "bf314adb-321f-4f54-8f1b-3b7ed8bf78bb"
      }
     }
    },
    "5018bd6e-2586-44e1-989c-13ae6fbc1cba": {
     "id": "5018bd6e-2586-44e1-989c-13ae6fbc1cba",
     "prev": "c42b0010-3991-4793-a9ce-9182e1715f6b",
     "regions": {
      "c9222b87-80dd-4a55-a5b3-f7bea9404f76": {
       "attrs": {
        "height": 0.8,
        "width": 0.8,
        "x": 0.1,
        "y": 0.1
       },
       "content": {
        "cell": "4ca02af7-47c4-4c90-9424-5b63632ed871",
        "part": "whole"
       },
       "id": "c9222b87-80dd-4a55-a5b3-f7bea9404f76"
      }
     }
    },
    "506ee685-9f53-44f9-9ed3-f3518d9c6723": {
     "id": "506ee685-9f53-44f9-9ed3-f3518d9c6723",
     "prev": "313a276e-f57a-44a3-a09e-9308806051a8",
     "regions": {
      "b2ec4882-8361-4b13-8ef5-2d21ff42a63a": {
       "attrs": {
        "height": 0.8,
        "width": 0.8,
        "x": 0.1,
        "y": 0.1
       },
       "content": {
        "cell": "8e729688-cfa1-4bb8-bafa-02cb08a4386f",
        "part": "whole"
       },
       "id": "b2ec4882-8361-4b13-8ef5-2d21ff42a63a"
      }
     }
    },
    "52439905-2f64-470f-8bf3-5111f032d444": {
     "id": "52439905-2f64-470f-8bf3-5111f032d444",
     "prev": "7223eebd-c29d-44e2-a103-afaca2bcf6f1",
     "regions": {
      "c3606c58-678f-47cd-8f7b-9b7af3dca5c6": {
       "attrs": {
        "height": 0.8,
        "width": 0.8,
        "x": 0.1,
        "y": 0.1
       },
       "content": {
        "cell": "62ff0673-2dcd-4858-9937-b2b162a68555",
        "part": "whole"
       },
       "id": "c3606c58-678f-47cd-8f7b-9b7af3dca5c6"
      }
     }
    },
    "54499e56-7d85-428f-8c1e-d6c177f9ee4a": {
     "id": "54499e56-7d85-428f-8c1e-d6c177f9ee4a",
     "prev": "ceb61312-f846-4912-8d94-3161f4cd07dd",
     "regions": {
      "18ec3744-cdb3-4bd2-9679-6ce9cc42e726": {
       "attrs": {
        "height": 0.8,
        "width": 0.8,
        "x": 0.1,
        "y": 0.1
       },
       "content": {
        "cell": "70936c93-f92f-404b-adf8-4e2dc8d066e4",
        "part": "whole"
       },
       "id": "18ec3744-cdb3-4bd2-9679-6ce9cc42e726"
      }
     }
    },
    "5538351a-fb35-4414-8955-7ecd8d9de162": {
     "id": "5538351a-fb35-4414-8955-7ecd8d9de162",
     "prev": "dadbe868-bbe2-48d7-8508-68357117dc52",
     "regions": {
      "ffb9ed56-ff0f-4144-845c-b0a2c52fb7e3": {
       "attrs": {
        "height": 0.8,
        "width": 0.8,
        "x": 0.1,
        "y": 0.1
       },
       "content": {
        "cell": "b5da03c4-1bb1-4410-ad75-99d74e5a8ee9",
        "part": "whole"
       },
       "id": "ffb9ed56-ff0f-4144-845c-b0a2c52fb7e3"
      }
     }
    },
    "563bb247-5ea6-4968-b3ff-1890b3846ef1": {
     "id": "563bb247-5ea6-4968-b3ff-1890b3846ef1",
     "prev": "698e28df-b999-42d8-9e6a-4475d06199c1",
     "regions": {
      "b22fe942-581d-4734-a553-df933df0c8ca": {
       "attrs": {
        "height": 0.8,
        "width": 0.8,
        "x": 0.1,
        "y": 0.1
       },
       "content": {
        "cell": "e35d7795-9c1c-4873-8f20-2e91b8ebf83b",
        "part": "whole"
       },
       "id": "b22fe942-581d-4734-a553-df933df0c8ca"
      }
     }
    },
    "56514d12-082d-4b95-b29d-c14ea0e876ac": {
     "id": "56514d12-082d-4b95-b29d-c14ea0e876ac",
     "prev": "c23712b1-52aa-4d73-8e2e-3734016f9ab1",
     "regions": {
      "12da625e-269f-4788-9dd3-dbc6a481b3a4": {
       "attrs": {
        "height": 0.8,
        "width": 0.8,
        "x": 0.1,
        "y": 0.1
       },
       "content": {
        "cell": "cf7eed22-29fb-4284-bc23-ee090e934def",
        "part": "whole"
       },
       "id": "12da625e-269f-4788-9dd3-dbc6a481b3a4"
      }
     }
    },
    "567ef848-aed5-4c87-89a0-cccf2422e104": {
     "id": "567ef848-aed5-4c87-89a0-cccf2422e104",
     "prev": "9bd3f673-9aef-4e43-99b1-067a0e66da40",
     "regions": {
      "eff18b39-bf07-4df4-8cc1-a9d064204ba9": {
       "attrs": {
        "height": 0.8,
        "width": 0.8,
        "x": 0.1,
        "y": 0.1
       },
       "content": {
        "cell": "842d5720-7e00-437a-917e-b4a559a129f7",
        "part": "whole"
       },
       "id": "eff18b39-bf07-4df4-8cc1-a9d064204ba9"
      }
     }
    },
    "58c2276f-4c2e-4f13-bc73-27824fb98c8b": {
     "id": "58c2276f-4c2e-4f13-bc73-27824fb98c8b",
     "prev": "d2868c42-d7f1-46d4-afa4-e45dd161e7da",
     "regions": {
      "9fcd1bfc-0687-4df0-b9e4-455516d01eb5": {
       "attrs": {
        "height": 0.8,
        "width": 0.8,
        "x": 0.1,
        "y": 0.1
       },
       "content": {
        "cell": "f3bf04b6-0d7c-48d0-b41c-f4ff05eeee5d",
        "part": "whole"
       },
       "id": "9fcd1bfc-0687-4df0-b9e4-455516d01eb5"
      }
     }
    },
    "5bc9bd7f-6686-400f-a974-8e38efb69d16": {
     "id": "5bc9bd7f-6686-400f-a974-8e38efb69d16",
     "prev": "9f57eedd-c194-4f6f-8cb2-3c02a99805c1",
     "regions": {
      "5978875b-0de8-4d9a-b489-8b11a72dec91": {
       "attrs": {
        "height": 0.8,
        "width": 0.8,
        "x": 0.1,
        "y": 0.1
       },
       "content": {
        "cell": "425277b4-0c24-4e99-9b39-b77f602e3a8e",
        "part": "whole"
       },
       "id": "5978875b-0de8-4d9a-b489-8b11a72dec91"
      }
     }
    },
    "60783467-bb49-458f-8c37-1f73db59483c": {
     "id": "60783467-bb49-458f-8c37-1f73db59483c",
     "prev": "262b5dd2-ab49-4c02-8ca3-28f14e283594",
     "regions": {
      "d158c6a7-436f-46c6-b9cd-1f2c175c54b4": {
       "attrs": {
        "height": 0.8,
        "width": 0.8,
        "x": 0.1,
        "y": 0.1
       },
       "content": {
        "cell": "6ca4d879-4734-4705-b872-dcd3986b1ffa",
        "part": "whole"
       },
       "id": "d158c6a7-436f-46c6-b9cd-1f2c175c54b4"
      }
     }
    },
    "614d1b1c-7f4a-4a44-b737-2e41e9a8acb6": {
     "id": "614d1b1c-7f4a-4a44-b737-2e41e9a8acb6",
     "prev": "ff7b63e4-bb97-4c27-ba01-1e2f67e74d9e",
     "regions": {
      "f467cb0f-3833-4bfd-a9a8-5f991077be4d": {
       "attrs": {
        "height": 0.8,
        "width": 0.8,
        "x": 0.1,
        "y": 0.1
       },
       "content": {
        "cell": "e7155d7e-b301-430b-a437-eae3b5f853cb",
        "part": "whole"
       },
       "id": "f467cb0f-3833-4bfd-a9a8-5f991077be4d"
      }
     }
    },
    "640848e1-771d-43e7-90d3-ef9e608e992b": {
     "id": "640848e1-771d-43e7-90d3-ef9e608e992b",
     "prev": "a0fb4861-500b-476b-93f8-76ff43ac2765",
     "regions": {
      "36fa9085-71e0-4351-b64a-f2b88872c535": {
       "attrs": {
        "height": 0.8,
        "width": 0.8,
        "x": 0.1,
        "y": 0.1
       },
       "content": {
        "cell": "dcd2c0bd-8a44-41f6-b177-afbdddf4f807",
        "part": "whole"
       },
       "id": "36fa9085-71e0-4351-b64a-f2b88872c535"
      }
     }
    },
    "64898be2-bf28-449b-9d30-7f8dfd4b82ee": {
     "id": "64898be2-bf28-449b-9d30-7f8dfd4b82ee",
     "prev": "e63d3e0e-f33c-4382-ae34-f40c816c5ec3",
     "regions": {
      "25b41b5c-ebcf-461f-aac0-d1dce841371d": {
       "attrs": {
        "height": 0.8,
        "width": 0.8,
        "x": 0.1,
        "y": 0.1
       },
       "content": {
        "cell": "3b5227cf-504f-46ca-844e-777958855122",
        "part": "whole"
       },
       "id": "25b41b5c-ebcf-461f-aac0-d1dce841371d"
      }
     }
    },
    "64ad8b01-45a8-44c9-bee7-1ae504bd0246": {
     "id": "64ad8b01-45a8-44c9-bee7-1ae504bd0246",
     "prev": "8ccd778e-ad34-4627-be44-b904d8c41535",
     "regions": {
      "3d9ebfa3-4643-43b8-8841-a40ab6bf83e2": {
       "attrs": {
        "height": 0.8,
        "width": 0.8,
        "x": 0.1,
        "y": 0.1
       },
       "content": {
        "cell": "a70c844e-aa59-47f6-8633-2ef9a3a46466",
        "part": "whole"
       },
       "id": "3d9ebfa3-4643-43b8-8841-a40ab6bf83e2"
      }
     }
    },
    "64fbdb89-a282-4de2-a430-276348b4471b": {
     "id": "64fbdb89-a282-4de2-a430-276348b4471b",
     "prev": "7049111a-21b3-4422-8d46-f60d6ecd8904",
     "regions": {
      "aa92f42b-9ef3-4991-8190-9ad8e74fc543": {
       "attrs": {
        "height": 0.8,
        "width": 0.8,
        "x": 0.1,
        "y": 0.1
       },
       "content": {
        "cell": "49a5d901-d3d2-4138-8603-bf23fc6476e1",
        "part": "whole"
       },
       "id": "aa92f42b-9ef3-4991-8190-9ad8e74fc543"
      }
     }
    },
    "66d0ccde-6f3e-43aa-9fb2-257fab27ad04": {
     "id": "66d0ccde-6f3e-43aa-9fb2-257fab27ad04",
     "prev": "60783467-bb49-458f-8c37-1f73db59483c",
     "regions": {
      "cb5bdc4b-267d-4ebf-8be7-2c8999ac02a6": {
       "attrs": {
        "height": 0.8,
        "width": 0.8,
        "x": 0.1,
        "y": 0.1
       },
       "content": {
        "cell": "a8f1a065-0312-41b5-8041-7fe7494b08eb",
        "part": "whole"
       },
       "id": "cb5bdc4b-267d-4ebf-8be7-2c8999ac02a6"
      }
     }
    },
    "698e28df-b999-42d8-9e6a-4475d06199c1": {
     "id": "698e28df-b999-42d8-9e6a-4475d06199c1",
     "prev": "046b3098-11f6-450c-83d4-b6318f95ed65",
     "regions": {
      "cbeec9b2-2777-4c47-ac1c-fada4992cb35": {
       "attrs": {
        "height": 0.8,
        "width": 0.8,
        "x": 0.1,
        "y": 0.1
       },
       "content": {
        "cell": "12d1a0b7-5f97-48ce-a248-1b2d387b075a",
        "part": "whole"
       },
       "id": "cbeec9b2-2777-4c47-ac1c-fada4992cb35"
      }
     }
    },
    "6c03dc42-c7ad-4f43-bf79-56bc84411136": {
     "id": "6c03dc42-c7ad-4f43-bf79-56bc84411136",
     "prev": "d1ae8a74-1548-4150-9e57-31abbb6785d2",
     "regions": {
      "aea05d3d-b085-4462-80d5-3719421448ba": {
       "attrs": {
        "height": 0.8,
        "width": 0.8,
        "x": 0.1,
        "y": 0.1
       },
       "content": {
        "cell": "316a3416-129a-45f2-af1e-ecf31b09e42f",
        "part": "whole"
       },
       "id": "aea05d3d-b085-4462-80d5-3719421448ba"
      }
     }
    },
    "6d00dc82-efa4-418c-86bb-69dca27e049c": {
     "id": "6d00dc82-efa4-418c-86bb-69dca27e049c",
     "prev": "23e80905-8bf4-4ff4-9324-af0bf6b8319a",
     "regions": {
      "39f75c87-4ac9-4cf4-aecc-9bb6552a1633": {
       "attrs": {
        "height": 0.8,
        "width": 0.8,
        "x": 0.1,
        "y": 0.1
       },
       "content": {
        "cell": "6008aa7c-d4bb-4233-a26f-d3f6f069b074",
        "part": "whole"
       },
       "id": "39f75c87-4ac9-4cf4-aecc-9bb6552a1633"
      }
     }
    },
    "6e5994e6-5ee4-49de-8322-57f16f2a190a": {
     "id": "6e5994e6-5ee4-49de-8322-57f16f2a190a",
     "prev": "09e3d654-9611-4320-881f-807393249308",
     "regions": {
      "8e6214c3-ae9a-4c10-bb3f-09f148af3e6f": {
       "attrs": {
        "height": 0.8,
        "width": 0.8,
        "x": 0.1,
        "y": 0.1
       },
       "content": {
        "cell": "3064eca0-9d83-4d57-8910-7d9d7fa943da",
        "part": "whole"
       },
       "id": "8e6214c3-ae9a-4c10-bb3f-09f148af3e6f"
      }
     }
    },
    "6ee08281-2d39-4dca-96a0-2035d6308c7f": {
     "id": "6ee08281-2d39-4dca-96a0-2035d6308c7f",
     "prev": "9bdee64f-5d82-4945-8873-9640baf83ac0",
     "regions": {
      "f84de6d3-10fa-4e60-9286-fabc222263a3": {
       "attrs": {
        "height": 0.8,
        "width": 0.8,
        "x": 0.1,
        "y": 0.1
       },
       "content": {
        "cell": "cf04fb61-5d37-4634-9085-15e183ff533e",
        "part": "whole"
       },
       "id": "f84de6d3-10fa-4e60-9286-fabc222263a3"
      }
     }
    },
    "704279b3-8896-4078-9189-3be60b61df67": {
     "id": "704279b3-8896-4078-9189-3be60b61df67",
     "prev": "f5bc4ba6-8ee4-41f0-8e95-b3dffb26ac91",
     "regions": {
      "eed4ca80-8a54-4a26-bed0-80366c6970bb": {
       "attrs": {
        "height": 0.8,
        "width": 0.8,
        "x": 0.1,
        "y": 0.1
       },
       "content": {
        "cell": "07fd6d86-5aa2-4b13-9ffd-267b3633d54e",
        "part": "whole"
       },
       "id": "eed4ca80-8a54-4a26-bed0-80366c6970bb"
      }
     }
    },
    "7049111a-21b3-4422-8d46-f60d6ecd8904": {
     "id": "7049111a-21b3-4422-8d46-f60d6ecd8904",
     "prev": "54499e56-7d85-428f-8c1e-d6c177f9ee4a",
     "regions": {
      "cc9637e6-4b90-4bb0-ad0e-03d0c07b37df": {
       "attrs": {
        "height": 0.8,
        "width": 0.8,
        "x": 0.1,
        "y": 0.1
       },
       "content": {
        "cell": "a4578423-24ac-48d3-b114-7bb86879cc52",
        "part": "whole"
       },
       "id": "cc9637e6-4b90-4bb0-ad0e-03d0c07b37df"
      }
     }
    },
    "71474641-33fe-4571-b08b-7fd99b632c33": {
     "id": "71474641-33fe-4571-b08b-7fd99b632c33",
     "prev": "782e51c0-083e-46ac-85f6-ca49c106623a",
     "regions": {
      "321b4b33-37d5-4175-8863-d386cbed913b": {
       "attrs": {
        "height": 0.8,
        "width": 0.8,
        "x": 0.1,
        "y": 0.1
       },
       "content": {
        "cell": "138eee64-4290-48b0-8b14-bb816336d66e",
        "part": "whole"
       },
       "id": "321b4b33-37d5-4175-8863-d386cbed913b"
      }
     }
    },
    "72111744-7f04-4017-8f70-92785ec657e7": {
     "id": "72111744-7f04-4017-8f70-92785ec657e7",
     "prev": "66d0ccde-6f3e-43aa-9fb2-257fab27ad04",
     "regions": {
      "0ea45ad9-45c6-4caa-b1fb-0fa8472be4c3": {
       "attrs": {
        "height": 0.8,
        "width": 0.8,
        "x": 0.1,
        "y": 0.1
       },
       "content": {
        "cell": "ee94f784-ab10-4ea3-ae74-3ddf536decf9",
        "part": "whole"
       },
       "id": "0ea45ad9-45c6-4caa-b1fb-0fa8472be4c3"
      }
     }
    },
    "7223eebd-c29d-44e2-a103-afaca2bcf6f1": {
     "id": "7223eebd-c29d-44e2-a103-afaca2bcf6f1",
     "prev": "5538351a-fb35-4414-8955-7ecd8d9de162",
     "regions": {
      "ec2d4458-d022-48dc-abd8-9393994ce619": {
       "attrs": {
        "height": 0.8,
        "width": 0.8,
        "x": 0.1,
        "y": 0.1
       },
       "content": {
        "cell": "276c39c0-dc53-4984-b7b4-d9ec61dfa1a9",
        "part": "whole"
       },
       "id": "ec2d4458-d022-48dc-abd8-9393994ce619"
      }
     }
    },
    "7507d1ef-91cc-4872-a715-b8222091acc4": {
     "id": "7507d1ef-91cc-4872-a715-b8222091acc4",
     "prev": "99706912-a83c-4913-b02f-4202bbbf5fc6",
     "regions": {
      "b3768ce0-465e-45af-9a4e-183ccad31bb4": {
       "attrs": {
        "height": 0.8,
        "width": 0.8,
        "x": 0.1,
        "y": 0.1
       },
       "content": {
        "cell": "1e3a3d9a-34d7-40cd-a094-cb2094f13102",
        "part": "whole"
       },
       "id": "b3768ce0-465e-45af-9a4e-183ccad31bb4"
      }
     }
    },
    "76e222ea-69c2-495c-98ab-df0a5690444e": {
     "id": "76e222ea-69c2-495c-98ab-df0a5690444e",
     "prev": "0fb7d2b7-ab15-4203-a4cb-babfbff612d6",
     "regions": {
      "fc1cbb46-f166-4db9-8b6a-3b9ec70894ff": {
       "attrs": {
        "height": 0.8,
        "width": 0.8,
        "x": 0.1,
        "y": 0.1
       },
       "content": {
        "cell": "4f9d0b86-72ce-4ded-80c8-d6be0284ef41",
        "part": "whole"
       },
       "id": "fc1cbb46-f166-4db9-8b6a-3b9ec70894ff"
      }
     }
    },
    "7791a7ef-a693-4db5-bcba-ee3353fb8fd2": {
     "id": "7791a7ef-a693-4db5-bcba-ee3353fb8fd2",
     "prev": "016026ea-2374-49f5-99f3-01bcab4deafb",
     "regions": {
      "f39d743f-42d6-4e9f-8539-3a8f10b34e6e": {
       "attrs": {
        "height": 0.8,
        "width": 0.8,
        "x": 0.1,
        "y": 0.1
       },
       "content": {
        "cell": "8c1496db-23cb-4b86-a912-bed1c158f819",
        "part": "whole"
       },
       "id": "f39d743f-42d6-4e9f-8539-3a8f10b34e6e"
      }
     }
    },
    "77cc27f8-8d3c-46fc-89c8-c07de45e66f0": {
     "id": "77cc27f8-8d3c-46fc-89c8-c07de45e66f0",
     "prev": "10e66935-64db-4f10-8292-7dcdc86a71aa",
     "regions": {
      "e566d7a4-2d09-44ea-94eb-525be455b2f9": {
       "attrs": {
        "height": 0.8,
        "width": 0.8,
        "x": 0.1,
        "y": 0.1
       },
       "content": {
        "cell": "c64bff2f-fb2a-44d7-aa76-857bef1e469a",
        "part": "whole"
       },
       "id": "e566d7a4-2d09-44ea-94eb-525be455b2f9"
      }
     }
    },
    "77d9030b-7623-4127-bb93-4c37b458b285": {
     "id": "77d9030b-7623-4127-bb93-4c37b458b285",
     "prev": "325fae56-f1b7-4231-b1f5-567875a7e929",
     "regions": {
      "529ac5ca-d8c0-49a7-94f7-d28e454ac2ca": {
       "attrs": {
        "height": 0.8,
        "width": 0.8,
        "x": 0.1,
        "y": 0.1
       },
       "content": {
        "cell": "d0379315-25ac-4931-b2fc-90325717a0ec",
        "part": "whole"
       },
       "id": "529ac5ca-d8c0-49a7-94f7-d28e454ac2ca"
      }
     }
    },
    "782e51c0-083e-46ac-85f6-ca49c106623a": {
     "id": "782e51c0-083e-46ac-85f6-ca49c106623a",
     "prev": "fbd6760d-ef0c-4a3b-b8dd-4812f37f18a6",
     "regions": {
      "b82eb16c-492c-4201-800a-dac0b34e7f2b": {
       "attrs": {
        "height": 0.8,
        "width": 0.8,
        "x": 0.1,
        "y": 0.1
       },
       "content": {
        "cell": "7679c07a-89b8-455f-b986-57084960d133",
        "part": "whole"
       },
       "id": "b82eb16c-492c-4201-800a-dac0b34e7f2b"
      }
     }
    },
    "79b79b37-f560-4f3f-9bce-ff70174adc4b": {
     "id": "79b79b37-f560-4f3f-9bce-ff70174adc4b",
     "prev": "77cc27f8-8d3c-46fc-89c8-c07de45e66f0",
     "regions": {
      "b4dcca13-6bd5-4930-bc45-f77b293dfe34": {
       "attrs": {
        "height": 0.8,
        "width": 0.8,
        "x": 0.1,
        "y": 0.1
       },
       "content": {
        "cell": "72bf9848-42b3-4cca-8f51-7f16aca6d712",
        "part": "whole"
       },
       "id": "b4dcca13-6bd5-4930-bc45-f77b293dfe34"
      }
     }
    },
    "7a50145d-8dcb-4c35-a28e-6a50fa8b08f3": {
     "id": "7a50145d-8dcb-4c35-a28e-6a50fa8b08f3",
     "prev": "e403bdfe-ad8b-444d-8ce0-a42e01c1f39e",
     "regions": {
      "946d6ae3-dae6-4465-829e-d5b4a4857a33": {
       "attrs": {
        "height": 0.8,
        "width": 0.8,
        "x": 0.1,
        "y": 0.1
       },
       "content": {
        "cell": "c6437a14-4df7-4b57-a52f-1afe9c38daf8",
        "part": "whole"
       },
       "id": "946d6ae3-dae6-4465-829e-d5b4a4857a33"
      }
     }
    },
    "7b83ff2c-e0f3-43b6-9518-de9beb8be88a": {
     "id": "7b83ff2c-e0f3-43b6-9518-de9beb8be88a",
     "prev": "37095130-ceb7-4ad0-bcec-b957eee8cead",
     "regions": {
      "7198cf37-c624-4cd8-ac15-9967d16cc26c": {
       "attrs": {
        "height": 0.8,
        "width": 0.8,
        "x": 0.1,
        "y": 0.1
       },
       "content": {
        "cell": "0383b1ae-1d24-45f6-b5f7-1aab5e63504b",
        "part": "whole"
       },
       "id": "7198cf37-c624-4cd8-ac15-9967d16cc26c"
      }
     }
    },
    "7bc6149b-5637-4041-95bc-bf65df46bba1": {
     "id": "7bc6149b-5637-4041-95bc-bf65df46bba1",
     "prev": "7791a7ef-a693-4db5-bcba-ee3353fb8fd2",
     "regions": {
      "a3a476d7-3a08-4d0c-8023-009f8e5ab1ac": {
       "attrs": {
        "height": 0.8,
        "width": 0.8,
        "x": 0.1,
        "y": 0.1
       },
       "content": {
        "cell": "05744015-63be-441f-bc1e-84dc64fac1b1",
        "part": "whole"
       },
       "id": "a3a476d7-3a08-4d0c-8023-009f8e5ab1ac"
      }
     }
    },
    "7d751bef-153a-48bf-a42c-0d55b7c2ae40": {
     "id": "7d751bef-153a-48bf-a42c-0d55b7c2ae40",
     "prev": "103856ec-afc9-4d4c-9161-1f267b9b49d7",
     "regions": {
      "8135fba4-ad25-47cc-aacf-ca92bd571dac": {
       "attrs": {
        "height": 0.8,
        "width": 0.8,
        "x": 0.1,
        "y": 0.1
       },
       "content": {
        "cell": "09504389-5e61-4c42-920e-d54d1b388fca",
        "part": "whole"
       },
       "id": "8135fba4-ad25-47cc-aacf-ca92bd571dac"
      }
     }
    },
    "7de8220e-babb-4510-96f5-f2be8beb3da1": {
     "id": "7de8220e-babb-4510-96f5-f2be8beb3da1",
     "prev": "1ca3b3ea-1d79-4c8b-a795-e89f8e38b0e0",
     "regions": {
      "ddab9ff5-9470-4c00-af41-87999d3fd690": {
       "attrs": {
        "height": 0.8,
        "width": 0.8,
        "x": 0.1,
        "y": 0.1
       },
       "content": {
        "cell": "3ed1f252-460b-40b9-b80a-7408414246e3",
        "part": "whole"
       },
       "id": "ddab9ff5-9470-4c00-af41-87999d3fd690"
      }
     }
    },
    "7ede89ce-0e11-40b0-a3c7-55a0867916aa": {
     "id": "7ede89ce-0e11-40b0-a3c7-55a0867916aa",
     "prev": "56514d12-082d-4b95-b29d-c14ea0e876ac",
     "regions": {
      "95607604-a71c-4960-aa1b-531c69dbd73a": {
       "attrs": {
        "height": 0.8,
        "width": 0.8,
        "x": 0.1,
        "y": 0.1
       },
       "content": {
        "cell": "a182b0b7-1b36-444a-981d-230970f95f20",
        "part": "whole"
       },
       "id": "95607604-a71c-4960-aa1b-531c69dbd73a"
      }
     }
    },
    "7f5e47a7-6905-457b-8c07-9d643b1fb287": {
     "id": "7f5e47a7-6905-457b-8c07-9d643b1fb287",
     "prev": "47226bd1-13cd-416c-8a12-7a2dee1307f4",
     "regions": {
      "ab360a04-be6d-49ba-baa1-18f8da31d7b9": {
       "attrs": {
        "height": 0.8,
        "width": 0.8,
        "x": 0.1,
        "y": 0.1
       },
       "content": {
        "cell": "774a681e-abff-454f-861a-8a0c8d74edec",
        "part": "whole"
       },
       "id": "ab360a04-be6d-49ba-baa1-18f8da31d7b9"
      }
     }
    },
    "7fbb2720-0126-46a4-a9a6-1cdfb9d1d427": {
     "id": "7fbb2720-0126-46a4-a9a6-1cdfb9d1d427",
     "prev": "506ee685-9f53-44f9-9ed3-f3518d9c6723",
     "regions": {
      "06f36b06-d4c8-4044-8f80-26f017f648c0": {
       "attrs": {
        "height": 0.8,
        "width": 0.8,
        "x": 0.1,
        "y": 0.1
       },
       "content": {
        "cell": "de8d2a0e-d5fe-4e1e-ac45-7188e3916387",
        "part": "whole"
       },
       "id": "06f36b06-d4c8-4044-8f80-26f017f648c0"
      }
     }
    },
    "82d065c6-2c88-445b-a4d0-92528409fdd5": {
     "id": "82d065c6-2c88-445b-a4d0-92528409fdd5",
     "prev": "f69d95e4-41fc-4293-8355-083647ed5ebb",
     "regions": {
      "f026ea88-86be-41d2-a1f2-bb0e9dc22c6f": {
       "attrs": {
        "height": 0.8,
        "width": 0.8,
        "x": 0.1,
        "y": 0.1
       },
       "content": {
        "cell": "85dd7bfd-4656-45d4-a7ee-76aef40c88ad",
        "part": "whole"
       },
       "id": "f026ea88-86be-41d2-a1f2-bb0e9dc22c6f"
      }
     }
    },
    "82d76356-be3c-4347-b97d-b59fce745b5e": {
     "id": "82d76356-be3c-4347-b97d-b59fce745b5e",
     "prev": "8e7237a7-68de-4f2a-8629-f2a58241c40c",
     "regions": {
      "5363afa3-0ea5-4760-9b55-f5aaea3d33db": {
       "attrs": {
        "height": 0.8,
        "width": 0.8,
        "x": 0.1,
        "y": 0.1
       },
       "content": {
        "cell": "3005579f-76e1-4da3-a902-f510e57593dc",
        "part": "whole"
       },
       "id": "5363afa3-0ea5-4760-9b55-f5aaea3d33db"
      }
     }
    },
    "8544d27d-c4ed-4e36-af75-572a4f1d45a6": {
     "id": "8544d27d-c4ed-4e36-af75-572a4f1d45a6",
     "prev": "2cb57189-7dda-4ff2-85b0-f49ea209fed6",
     "regions": {
      "fdb3edce-d08f-4b29-bc44-382f44f13231": {
       "attrs": {
        "height": 0.8,
        "width": 0.8,
        "x": 0.1,
        "y": 0.1
       },
       "content": {
        "cell": "697d6f41-8d97-4904-b93f-41128eae6b7f",
        "part": "whole"
       },
       "id": "fdb3edce-d08f-4b29-bc44-382f44f13231"
      }
     }
    },
    "8cb841f3-bf16-4dcf-b201-5eb99005b294": {
     "id": "8cb841f3-bf16-4dcf-b201-5eb99005b294",
     "prev": "5bc9bd7f-6686-400f-a974-8e38efb69d16",
     "regions": {
      "d331b183-4b75-41f4-afa2-528d96c06db9": {
       "attrs": {
        "height": 0.8,
        "width": 0.8,
        "x": 0.1,
        "y": 0.1
       },
       "content": {
        "cell": "2bbb6efa-78ae-40ce-9019-86f8909e0e95",
        "part": "whole"
       },
       "id": "d331b183-4b75-41f4-afa2-528d96c06db9"
      }
     }
    },
    "8ccd778e-ad34-4627-be44-b904d8c41535": {
     "id": "8ccd778e-ad34-4627-be44-b904d8c41535",
     "prev": "82d065c6-2c88-445b-a4d0-92528409fdd5",
     "regions": {
      "8e7c4de1-ec7d-47d9-bc77-d1e14361e271": {
       "attrs": {
        "height": 0.8,
        "width": 0.8,
        "x": 0.1,
        "y": 0.1
       },
       "content": {
        "cell": "29a41605-dcb9-4ea9-9f13-e859e3b52872",
        "part": "whole"
       },
       "id": "8e7c4de1-ec7d-47d9-bc77-d1e14361e271"
      }
     }
    },
    "8e7237a7-68de-4f2a-8629-f2a58241c40c": {
     "id": "8e7237a7-68de-4f2a-8629-f2a58241c40c",
     "prev": "27a0da24-f5a6-4512-ae47-ebbdfb5b20ba",
     "regions": {
      "70011c02-c65c-4330-bc45-f7f5475218d1": {
       "attrs": {
        "height": 0.8,
        "width": 0.8,
        "x": 0.1,
        "y": 0.1
       },
       "content": {
        "cell": "afd54896-5c92-4e3a-a53a-5468691a5b11",
        "part": "whole"
       },
       "id": "70011c02-c65c-4330-bc45-f7f5475218d1"
      }
     }
    },
    "902a1b22-7202-4427-8a91-69545d464701": {
     "id": "902a1b22-7202-4427-8a91-69545d464701",
     "prev": "06e5e3b9-fac9-4e78-b408-3e14553a6cf4",
     "regions": {
      "d57a5f00-6616-48ec-a0e2-724220451cab": {
       "attrs": {
        "height": 0.8,
        "width": 0.8,
        "x": 0.1,
        "y": 0.1
       },
       "content": {
        "cell": "a125626c-a513-4374-b79f-dce73a0a2bf2",
        "part": "whole"
       },
       "id": "d57a5f00-6616-48ec-a0e2-724220451cab"
      }
     }
    },
    "959b5d0f-eb8c-4a97-abec-d68003f7fdd2": {
     "id": "959b5d0f-eb8c-4a97-abec-d68003f7fdd2",
     "prev": "5018bd6e-2586-44e1-989c-13ae6fbc1cba",
     "regions": {
      "65bcf9b7-16cd-48ce-8893-67c956e2229f": {
       "attrs": {
        "height": 0.8,
        "width": 0.8,
        "x": 0.1,
        "y": 0.1
       },
       "content": {
        "cell": "40ca2b4c-0f37-4367-ab4a-4b3efc88a32d",
        "part": "whole"
       },
       "id": "65bcf9b7-16cd-48ce-8893-67c956e2229f"
      }
     }
    },
    "95a9c929-1a49-4a63-8144-419d75f7c029": {
     "id": "95a9c929-1a49-4a63-8144-419d75f7c029",
     "prev": "704279b3-8896-4078-9189-3be60b61df67",
     "regions": {
      "c45e993f-2779-4d07-b70d-247db20b1c7a": {
       "attrs": {
        "height": 0.8,
        "width": 0.8,
        "x": 0.1,
        "y": 0.1
       },
       "content": {
        "cell": "21b86867-3f7e-4d3b-a996-87dbf6c05d6c",
        "part": "whole"
       },
       "id": "c45e993f-2779-4d07-b70d-247db20b1c7a"
      }
     }
    },
    "97e24baa-ac06-4f95-9952-7b1b5bc54c65": {
     "id": "97e24baa-ac06-4f95-9952-7b1b5bc54c65",
     "prev": "d0f6bd7d-3b43-4757-8b16-9a0807b6049c",
     "regions": {
      "3a2da1df-c298-4bbb-ad1a-5aaa16736539": {
       "attrs": {
        "height": 0.8,
        "width": 0.8,
        "x": 0.1,
        "y": 0.1
       },
       "content": {
        "cell": "29197e65-a1a7-4669-8a7c-2c42b7c9d0a4",
        "part": "whole"
       },
       "id": "3a2da1df-c298-4bbb-ad1a-5aaa16736539"
      }
     }
    },
    "98c135b4-4017-402e-876c-47dc65e205d3": {
     "id": "98c135b4-4017-402e-876c-47dc65e205d3",
     "prev": "29c9b529-8970-44bf-9d06-fe796fef0128",
     "regions": {
      "33da4da3-35da-4e78-b222-1928ec978274": {
       "attrs": {
        "height": 0.8,
        "width": 0.8,
        "x": 0.1,
        "y": 0.1
       },
       "content": {
        "cell": "0e7e6b7c-8630-4513-b505-1d8193de269a",
        "part": "whole"
       },
       "id": "33da4da3-35da-4e78-b222-1928ec978274"
      }
     }
    },
    "99706912-a83c-4913-b02f-4202bbbf5fc6": {
     "id": "99706912-a83c-4913-b02f-4202bbbf5fc6",
     "prev": "8cb841f3-bf16-4dcf-b201-5eb99005b294",
     "regions": {
      "8448b9e1-dce1-4ab4-a472-d17dae913739": {
       "attrs": {
        "height": 0.8,
        "width": 0.8,
        "x": 0.1,
        "y": 0.1
       },
       "content": {
        "cell": "acf841ca-55e8-4d19-9809-889540f7f88c",
        "part": "whole"
       },
       "id": "8448b9e1-dce1-4ab4-a472-d17dae913739"
      }
     }
    },
    "9bd3f673-9aef-4e43-99b1-067a0e66da40": {
     "id": "9bd3f673-9aef-4e43-99b1-067a0e66da40",
     "prev": "d541f049-1095-4485-bc95-7f8388d2e258",
     "regions": {
      "11a0447e-bd99-4462-a387-3a8f044f66b3": {
       "attrs": {
        "height": 0.8,
        "width": 0.8,
        "x": 0.1,
        "y": 0.1
       },
       "content": {
        "cell": "76b09d8f-f13e-4871-85aa-cdeb23c52b07",
        "part": "whole"
       },
       "id": "11a0447e-bd99-4462-a387-3a8f044f66b3"
      }
     }
    },
    "9bdee64f-5d82-4945-8873-9640baf83ac0": {
     "id": "9bdee64f-5d82-4945-8873-9640baf83ac0",
     "prev": "fe3e0bdd-77d3-4f3c-b40e-126e01d96ad0",
     "regions": {
      "453e71aa-7e44-497b-89c1-e29545ab6528": {
       "attrs": {
        "height": 0.8,
        "width": 0.8,
        "x": 0.1,
        "y": 0.1
       },
       "content": {
        "cell": "ea6d82ca-9421-4de6-8d68-cff47ab66c0b",
        "part": "whole"
       },
       "id": "453e71aa-7e44-497b-89c1-e29545ab6528"
      }
     }
    },
    "9cf33e89-06db-473d-a6bd-78f90e9e294e": {
     "id": "9cf33e89-06db-473d-a6bd-78f90e9e294e",
     "prev": "7b83ff2c-e0f3-43b6-9518-de9beb8be88a",
     "regions": {
      "ba2f3472-f8c4-460f-b5d6-2601b63ba972": {
       "attrs": {
        "height": 0.8,
        "width": 0.8,
        "x": 0.1,
        "y": 0.1
       },
       "content": {
        "cell": "e55c4650-941e-46a2-ad8b-0339cc2b102c",
        "part": "whole"
       },
       "id": "ba2f3472-f8c4-460f-b5d6-2601b63ba972"
      }
     }
    },
    "9e1108f5-20d1-4fbd-9ac1-d1f401aa892b": {
     "id": "9e1108f5-20d1-4fbd-9ac1-d1f401aa892b",
     "prev": "a40971a3-ab6b-4a8c-b22b-4c54b4954095",
     "regions": {
      "d987cbd4-edb2-4cdc-b6d7-48e256fbef37": {
       "attrs": {
        "height": 0.8,
        "width": 0.8,
        "x": 0.1,
        "y": 0.1
       },
       "content": {
        "cell": "fd37f834-e895-4dc3-899d-fdcb6bcaa33b",
        "part": "whole"
       },
       "id": "d987cbd4-edb2-4cdc-b6d7-48e256fbef37"
      }
     }
    },
    "9e51a14f-0dc1-42bc-b3b5-a5632a97c4c6": {
     "id": "9e51a14f-0dc1-42bc-b3b5-a5632a97c4c6",
     "prev": "95a9c929-1a49-4a63-8144-419d75f7c029",
     "regions": {
      "801edbb5-095a-473f-b657-bc1042e9f3f8": {
       "attrs": {
        "height": 0.8,
        "width": 0.8,
        "x": 0.1,
        "y": 0.1
       },
       "content": {
        "cell": "e43b7141-1b81-419b-893c-bae98debf7dd",
        "part": "whole"
       },
       "id": "801edbb5-095a-473f-b657-bc1042e9f3f8"
      }
     }
    },
    "9f57eedd-c194-4f6f-8cb2-3c02a99805c1": {
     "id": "9f57eedd-c194-4f6f-8cb2-3c02a99805c1",
     "prev": "df93bb2e-1f58-4812-9ad4-dd2678110a7b",
     "regions": {
      "b15512bf-474e-4bb8-a2bb-a265bdff6de7": {
       "attrs": {
        "height": 0.8,
        "width": 0.8,
        "x": 0.1,
        "y": 0.1
       },
       "content": {
        "cell": "76ad4ff2-ad49-48aa-bff1-8bc8eb389289",
        "part": "whole"
       },
       "id": "b15512bf-474e-4bb8-a2bb-a265bdff6de7"
      }
     }
    },
    "a0fb4861-500b-476b-93f8-76ff43ac2765": {
     "id": "a0fb4861-500b-476b-93f8-76ff43ac2765",
     "prev": "f9e4a84e-4d40-44d8-8129-bcd112118c91",
     "regions": {
      "92d04914-4f75-4168-91e3-5d509edfdb7d": {
       "attrs": {
        "height": 0.8,
        "width": 0.8,
        "x": 0.1,
        "y": 0.1
       },
       "content": {
        "cell": "91e7d77e-bfdb-4a20-bccd-75894103b86a",
        "part": "whole"
       },
       "id": "92d04914-4f75-4168-91e3-5d509edfdb7d"
      }
     }
    },
    "a30039ad-f1df-4002-a85d-3eee0429b257": {
     "id": "a30039ad-f1df-4002-a85d-3eee0429b257",
     "prev": "7d751bef-153a-48bf-a42c-0d55b7c2ae40",
     "regions": {
      "49aab59d-703d-4cb4-abc6-cfe88a869ca4": {
       "attrs": {
        "height": 0.8,
        "width": 0.8,
        "x": 0.1,
        "y": 0.1
       },
       "content": {
        "cell": "0c75067a-2328-4d82-9f55-45d8372cb3f9",
        "part": "whole"
       },
       "id": "49aab59d-703d-4cb4-abc6-cfe88a869ca4"
      }
     }
    },
    "a40971a3-ab6b-4a8c-b22b-4c54b4954095": {
     "id": "a40971a3-ab6b-4a8c-b22b-4c54b4954095",
     "prev": "9cf33e89-06db-473d-a6bd-78f90e9e294e",
     "regions": {
      "7b62e9ed-8f39-4f3e-8940-45ec9f1e26f6": {
       "attrs": {
        "height": 0.8,
        "width": 0.8,
        "x": 0.1,
        "y": 0.1
       },
       "content": {
        "cell": "566028a2-64c5-41f4-9f34-524a42266fb7",
        "part": "whole"
       },
       "id": "7b62e9ed-8f39-4f3e-8940-45ec9f1e26f6"
      }
     }
    },
    "a47b111d-4b61-4dc9-9195-f004c5b485ed": {
     "id": "a47b111d-4b61-4dc9-9195-f004c5b485ed",
     "prev": "acbc0818-c8fa-4761-8395-b7c27062f22e",
     "regions": {
      "5862268e-1283-43d4-b8bc-9ab456185a1f": {
       "attrs": {
        "height": 0.8,
        "width": 0.8,
        "x": 0.1,
        "y": 0.1
       },
       "content": {
        "cell": "22d43d02-5fee-45b3-ac94-7dc669f0e177",
        "part": "whole"
       },
       "id": "5862268e-1283-43d4-b8bc-9ab456185a1f"
      }
     }
    },
    "a59ab2d3-229b-46db-b0b6-50856a0bc1f4": {
     "id": "a59ab2d3-229b-46db-b0b6-50856a0bc1f4",
     "prev": "45d1c1cc-251a-4684-b4a1-9207bac54d8a",
     "regions": {
      "738e438d-4d42-4ccb-aef5-662aa3c705de": {
       "attrs": {
        "height": 0.8,
        "width": 0.8,
        "x": 0.1,
        "y": 0.1
       },
       "content": {
        "cell": "c6dd0df7-22da-4fa6-8ffd-7429b1ddf6d0",
        "part": "whole"
       },
       "id": "738e438d-4d42-4ccb-aef5-662aa3c705de"
      }
     }
    },
    "a8f8741d-600d-4c14-b517-8d3f5fd344a1": {
     "id": "a8f8741d-600d-4c14-b517-8d3f5fd344a1",
     "prev": null,
     "regions": {
      "a0bdf776-a0cd-4dec-ac0a-a4cf264ef661": {
       "attrs": {
        "height": 0.8,
        "width": 0.8,
        "x": 0.1,
        "y": 0.1
       },
       "content": {
        "cell": "f0dab568-017c-4bd1-98ec-aa4e51946731",
        "part": "whole"
       },
       "id": "a0bdf776-a0cd-4dec-ac0a-a4cf264ef661"
      }
     }
    },
    "ac02770c-6335-460a-ad90-d03715050541": {
     "id": "ac02770c-6335-460a-ad90-d03715050541",
     "prev": "c6b268ac-e5b3-4112-80aa-b279aadec1aa",
     "regions": {
      "e85e6cf4-0287-4b0e-bdf9-be777ce84754": {
       "attrs": {
        "height": 0.8,
        "width": 0.8,
        "x": 0.1,
        "y": 0.1
       },
       "content": {
        "cell": "60225a53-0b2b-4e8c-b9a5-ebd5ff10c1e0",
        "part": "whole"
       },
       "id": "e85e6cf4-0287-4b0e-bdf9-be777ce84754"
      }
     }
    },
    "acbc0818-c8fa-4761-8395-b7c27062f22e": {
     "id": "acbc0818-c8fa-4761-8395-b7c27062f22e",
     "prev": "902a1b22-7202-4427-8a91-69545d464701",
     "regions": {
      "6851c5f8-1394-4f7f-b395-9fda5c50cea8": {
       "attrs": {
        "height": 0.8,
        "width": 0.8,
        "x": 0.1,
        "y": 0.1
       },
       "content": {
        "cell": "dc281b80-a842-4d20-96bd-d11a1200fd0f",
        "part": "whole"
       },
       "id": "6851c5f8-1394-4f7f-b395-9fda5c50cea8"
      }
     }
    },
    "ad3fddc1-ae6e-46d1-97a2-c1a8c6883b43": {
     "id": "ad3fddc1-ae6e-46d1-97a2-c1a8c6883b43",
     "prev": "3164ea55-a288-495d-bb5c-d7699b1303a7",
     "regions": {
      "93cc0500-eb8e-4311-ad7d-06f39e9e87c7": {
       "attrs": {
        "height": 0.8,
        "width": 0.8,
        "x": 0.1,
        "y": 0.1
       },
       "content": {
        "cell": "8f214d78-66b7-4162-a984-32b43f8ab643",
        "part": "whole"
       },
       "id": "93cc0500-eb8e-4311-ad7d-06f39e9e87c7"
      }
     }
    },
    "afa2920a-8560-4f59-b12a-487b2d9771c2": {
     "id": "afa2920a-8560-4f59-b12a-487b2d9771c2",
     "prev": "a30039ad-f1df-4002-a85d-3eee0429b257",
     "regions": {
      "96599de1-3520-442a-b6ed-806f34a7603e": {
       "attrs": {
        "height": 0.8,
        "width": 0.8,
        "x": 0.1,
        "y": 0.1
       },
       "content": {
        "cell": "858df84b-52e9-44df-b6bb-dd34f138ed8a",
        "part": "whole"
       },
       "id": "96599de1-3520-442a-b6ed-806f34a7603e"
      }
     }
    },
    "afc238d3-75c6-455d-8922-0f4cb24b21a4": {
     "id": "afc238d3-75c6-455d-8922-0f4cb24b21a4",
     "prev": "19fe83b7-ba1f-4da3-9d8f-59b4e1d9537e",
     "regions": {
      "03ec7e38-0d05-4a6e-85dd-46ff89f1ee80": {
       "attrs": {
        "height": 0.8,
        "width": 0.8,
        "x": 0.1,
        "y": 0.1
       },
       "content": {
        "cell": "2140e00b-4c52-4213-843e-c8a351a53df3",
        "part": "whole"
       },
       "id": "03ec7e38-0d05-4a6e-85dd-46ff89f1ee80"
      }
     }
    },
    "b268d893-3348-4da6-8259-0d19ffc28af9": {
     "id": "b268d893-3348-4da6-8259-0d19ffc28af9",
     "prev": "275f9bf6-cbaf-49c8-86d3-2d2825ffad21",
     "regions": {
      "ba63cb32-f20b-461c-b346-69b9ec09997a": {
       "attrs": {
        "height": 0.8,
        "width": 0.8,
        "x": 0.1,
        "y": 0.1
       },
       "content": {
        "cell": "0aa4abc7-74ec-46f9-96bf-5b9dd8a27e34",
        "part": "whole"
       },
       "id": "ba63cb32-f20b-461c-b346-69b9ec09997a"
      }
     }
    },
    "b86eee0a-7869-432f-a799-037c3b2091cc": {
     "id": "b86eee0a-7869-432f-a799-037c3b2091cc",
     "prev": "470ca5b3-528b-4bd1-ad0b-ee7ac7ac8c89",
     "regions": {
      "9b0f8ccf-59eb-4b11-ba2a-c8bac26367b6": {
       "attrs": {
        "height": 0.8,
        "width": 0.8,
        "x": 0.1,
        "y": 0.1
       },
       "content": {
        "cell": "59de8073-3838-4e6e-91ec-a7b05ce369b4",
        "part": "whole"
       },
       "id": "9b0f8ccf-59eb-4b11-ba2a-c8bac26367b6"
      }
     }
    },
    "b8870dd7-5afa-4fb6-8182-f7cf9688176b": {
     "id": "b8870dd7-5afa-4fb6-8182-f7cf9688176b",
     "prev": "2d41a298-25cf-40c8-93a2-9149335ae6e4",
     "regions": {
      "04275747-321d-4839-bc13-2ed418099a64": {
       "attrs": {
        "height": 0.8,
        "width": 0.8,
        "x": 0.1,
        "y": 0.1
       },
       "content": {
        "cell": "082f3b74-3dcb-4e89-944a-e7f50f3de0ba",
        "part": "whole"
       },
       "id": "04275747-321d-4839-bc13-2ed418099a64"
      }
     }
    },
    "b91f797e-d085-465d-9ca9-52f161303d14": {
     "id": "b91f797e-d085-465d-9ca9-52f161303d14",
     "prev": "4c5def02-f549-4270-b62e-7dabd1fe574c",
     "regions": {
      "ee5f57dd-bfbb-4ac6-9ac3-4d49e5f0910c": {
       "attrs": {
        "height": 0.8,
        "width": 0.8,
        "x": 0.1,
        "y": 0.1
       },
       "content": {
        "cell": "e2e2ce06-2716-41c5-9cff-eef6275985b3",
        "part": "whole"
       },
       "id": "ee5f57dd-bfbb-4ac6-9ac3-4d49e5f0910c"
      }
     }
    },
    "bb5800cd-9c46-4b76-9a31-ad5569ef49e8": {
     "id": "bb5800cd-9c46-4b76-9a31-ad5569ef49e8",
     "prev": "7f5e47a7-6905-457b-8c07-9d643b1fb287",
     "regions": {
      "8a7f1aa6-2d05-4293-a78b-56656113e94a": {
       "attrs": {
        "height": 0.8,
        "width": 0.8,
        "x": 0.1,
        "y": 0.1
       },
       "content": {
        "cell": "45e03612-0eac-4fdb-9541-d60f17724c6b",
        "part": "whole"
       },
       "id": "8a7f1aa6-2d05-4293-a78b-56656113e94a"
      }
     }
    },
    "bc26cdca-8397-4c41-b3da-833db74993ed": {
     "id": "bc26cdca-8397-4c41-b3da-833db74993ed",
     "prev": "afc238d3-75c6-455d-8922-0f4cb24b21a4",
     "regions": {
      "3b0cceb4-0629-4481-9b0a-fdf0ee782bbd": {
       "attrs": {
        "height": 0.8,
        "width": 0.8,
        "x": 0.1,
        "y": 0.1
       },
       "content": {
        "cell": "ac5cc52c-84cc-413e-9a0a-12672233c022",
        "part": "whole"
       },
       "id": "3b0cceb4-0629-4481-9b0a-fdf0ee782bbd"
      }
     }
    },
    "bc41e450-4e34-421f-923c-1c0dcba30162": {
     "id": "bc41e450-4e34-421f-923c-1c0dcba30162",
     "prev": "9e1108f5-20d1-4fbd-9ac1-d1f401aa892b",
     "regions": {
      "070a3fdd-43c6-4690-b128-b47f5031e72a": {
       "attrs": {
        "height": 0.8,
        "width": 0.8,
        "x": 0.1,
        "y": 0.1
       },
       "content": {
        "cell": "e2b7f776-6695-4733-903f-023dc48dc478",
        "part": "whole"
       },
       "id": "070a3fdd-43c6-4690-b128-b47f5031e72a"
      }
     }
    },
    "bd86b0a8-f116-47da-add9-59ac13a704b4": {
     "id": "bd86b0a8-f116-47da-add9-59ac13a704b4",
     "prev": "ac02770c-6335-460a-ad90-d03715050541",
     "regions": {
      "80302cea-5c75-4b06-ba0e-bbc2ae9aad1f": {
       "attrs": {
        "height": 0.8,
        "width": 0.8,
        "x": 0.1,
        "y": 0.1
       },
       "content": {
        "cell": "b0393a65-6419-463d-93d2-c12e811cd6df",
        "part": "whole"
       },
       "id": "80302cea-5c75-4b06-ba0e-bbc2ae9aad1f"
      }
     }
    },
    "c23712b1-52aa-4d73-8e2e-3734016f9ab1": {
     "id": "c23712b1-52aa-4d73-8e2e-3734016f9ab1",
     "prev": "11c10903-fc35-4c92-b583-a5f7237afabb",
     "regions": {
      "aa389ce9-3024-4fbc-8427-a7baff075ece": {
       "attrs": {
        "height": 0.8,
        "width": 0.8,
        "x": 0.1,
        "y": 0.1
       },
       "content": {
        "cell": "36fd807e-2d55-42be-bc93-378dd2eef5f1",
        "part": "whole"
       },
       "id": "aa389ce9-3024-4fbc-8427-a7baff075ece"
      }
     }
    },
    "c3197fba-f568-4b54-b465-19379457feff": {
     "id": "c3197fba-f568-4b54-b465-19379457feff",
     "prev": "23059aa6-a9b4-47ec-ac11-163c24cb557c",
     "regions": {
      "f296ddde-4fe9-41e9-9a66-127d99b8a741": {
       "attrs": {
        "height": 0.8,
        "width": 0.8,
        "x": 0.1,
        "y": 0.1
       },
       "content": {
        "cell": "428b006e-a195-4229-be12-db978c2141fe",
        "part": "whole"
       },
       "id": "f296ddde-4fe9-41e9-9a66-127d99b8a741"
      }
     }
    },
    "c3d54498-773f-407f-b1d5-33949ed099e8": {
     "id": "c3d54498-773f-407f-b1d5-33949ed099e8",
     "prev": "6ee08281-2d39-4dca-96a0-2035d6308c7f",
     "regions": {
      "f40ece74-da66-484a-8b06-3633a6b369b9": {
       "attrs": {
        "height": 0.8,
        "width": 0.8,
        "x": 0.1,
        "y": 0.1
       },
       "content": {
        "cell": "b3ebfe61-387a-49ec-b545-b4609968749d",
        "part": "whole"
       },
       "id": "f40ece74-da66-484a-8b06-3633a6b369b9"
      }
     }
    },
    "c42b0010-3991-4793-a9ce-9182e1715f6b": {
     "id": "c42b0010-3991-4793-a9ce-9182e1715f6b",
     "prev": "16ad2754-bd0e-4f7f-b32a-339441f0fd34",
     "regions": {
      "e2e999c7-9353-4c85-87d3-b5953aee70b9": {
       "attrs": {
        "height": 0.8,
        "width": 0.8,
        "x": 0.1,
        "y": 0.1
       },
       "content": {
        "cell": "cefb9b1d-b94c-4b42-8a48-1ed30d1e81ce",
        "part": "whole"
       },
       "id": "e2e999c7-9353-4c85-87d3-b5953aee70b9"
      }
     }
    },
    "c6890ec3-4dfa-4e06-86ff-bdd4ec9070cf": {
     "id": "c6890ec3-4dfa-4e06-86ff-bdd4ec9070cf",
     "prev": "a59ab2d3-229b-46db-b0b6-50856a0bc1f4",
     "regions": {
      "8cde4316-c998-4c7f-9b18-2aa7ff8401ae": {
       "attrs": {
        "height": 0.8,
        "width": 0.8,
        "x": 0.1,
        "y": 0.1
       },
       "content": {
        "cell": "d23822ab-1292-4bce-a137-0be47ee8f6e1",
        "part": "whole"
       },
       "id": "8cde4316-c998-4c7f-9b18-2aa7ff8401ae"
      }
     }
    },
    "c6b268ac-e5b3-4112-80aa-b279aadec1aa": {
     "id": "c6b268ac-e5b3-4112-80aa-b279aadec1aa",
     "prev": "eeb37a74-7343-44a7-9138-2cbb42211f89",
     "regions": {
      "36629016-4c2e-49ab-8b29-a4cfce30bbf3": {
       "attrs": {
        "height": 0.8,
        "width": 0.8,
        "x": 0.1,
        "y": 0.1
       },
       "content": {
        "cell": "a5f17d13-db2a-431f-9356-c559cd106b3b",
        "part": "whole"
       },
       "id": "36629016-4c2e-49ab-8b29-a4cfce30bbf3"
      }
     }
    },
    "ccfd9b2b-92fc-4e8f-9555-661aa441fde1": {
     "id": "ccfd9b2b-92fc-4e8f-9555-661aa441fde1",
     "prev": "7fbb2720-0126-46a4-a9a6-1cdfb9d1d427",
     "regions": {
      "169a481a-3a05-4b62-b3dc-d572c818ba54": {
       "attrs": {
        "height": 0.8,
        "width": 0.8,
        "x": 0.1,
        "y": 0.1
       },
       "content": {
        "cell": "ebe149ac-45de-4979-9e26-660ad19650b2",
        "part": "whole"
       },
       "id": "169a481a-3a05-4b62-b3dc-d572c818ba54"
      }
     }
    },
    "cd5556cc-5820-4e26-b28c-5b52f18f5c30": {
     "id": "cd5556cc-5820-4e26-b28c-5b52f18f5c30",
     "prev": "82d76356-be3c-4347-b97d-b59fce745b5e",
     "regions": {
      "f3c4c12e-ccc3-4a59-b6e5-32133aa85854": {
       "attrs": {
        "height": 0.8,
        "width": 0.8,
        "x": 0.1,
        "y": 0.1
       },
       "content": {
        "cell": "4e4c07bf-c114-4ffc-96cc-64e962b73c41",
        "part": "whole"
       },
       "id": "f3c4c12e-ccc3-4a59-b6e5-32133aa85854"
      }
     }
    },
    "ceb61312-f846-4912-8d94-3161f4cd07dd": {
     "id": "ceb61312-f846-4912-8d94-3161f4cd07dd",
     "prev": "e398f669-fda2-4e12-8643-991f35d25823",
     "regions": {
      "a8ea3d96-558f-47be-92ae-fa0365f45e4f": {
       "attrs": {
        "height": 0.8,
        "width": 0.8,
        "x": 0.1,
        "y": 0.1
       },
       "content": {
        "cell": "813e7aa1-f242-4d0d-b76d-f8b6761e9db2",
        "part": "whole"
       },
       "id": "a8ea3d96-558f-47be-92ae-fa0365f45e4f"
      }
     }
    },
    "d0f6bd7d-3b43-4757-8b16-9a0807b6049c": {
     "id": "d0f6bd7d-3b43-4757-8b16-9a0807b6049c",
     "prev": "27c18eea-b546-4057-b89d-2640b2e4f370",
     "regions": {
      "39733603-2516-43d4-a7d8-198685b027f6": {
       "attrs": {
        "height": 0.8,
        "width": 0.8,
        "x": 0.1,
        "y": 0.1
       },
       "content": {
        "cell": "3e4aae5f-1515-4ab4-87c8-d0eae427f729",
        "part": "whole"
       },
       "id": "39733603-2516-43d4-a7d8-198685b027f6"
      }
     }
    },
    "d1ae8a74-1548-4150-9e57-31abbb6785d2": {
     "id": "d1ae8a74-1548-4150-9e57-31abbb6785d2",
     "prev": "7507d1ef-91cc-4872-a715-b8222091acc4",
     "regions": {
      "53b97d9b-2b31-4e49-9ebe-f619fae28203": {
       "attrs": {
        "height": 0.8,
        "width": 0.8,
        "x": 0.1,
        "y": 0.1
       },
       "content": {
        "cell": "63cc9e4d-7951-4e2f-90cf-800b86948f60",
        "part": "whole"
       },
       "id": "53b97d9b-2b31-4e49-9ebe-f619fae28203"
      }
     }
    },
    "d1f1e2c4-22e9-4f7d-b7eb-b2c21ab36c7a": {
     "id": "d1f1e2c4-22e9-4f7d-b7eb-b2c21ab36c7a",
     "prev": "19ffe766-a558-4224-8fda-59f50eb0b0ea",
     "regions": {
      "f974449e-cd54-4c8c-987d-8da8ff9a4254": {
       "attrs": {
        "height": 0.8,
        "width": 0.8,
        "x": 0.1,
        "y": 0.1
       },
       "content": {
        "cell": "ab32e7d7-7d06-476f-a5e4-7c03482e975b",
        "part": "whole"
       },
       "id": "f974449e-cd54-4c8c-987d-8da8ff9a4254"
      }
     }
    },
    "d2868c42-d7f1-46d4-afa4-e45dd161e7da": {
     "id": "d2868c42-d7f1-46d4-afa4-e45dd161e7da",
     "prev": "6d00dc82-efa4-418c-86bb-69dca27e049c",
     "regions": {
      "7a2e364d-aee4-4c45-8ddc-fd5f85c2b21a": {
       "attrs": {
        "height": 0.8,
        "width": 0.8,
        "x": 0.1,
        "y": 0.1
       },
       "content": {
        "cell": "7530c8e5-108b-4b63-bbdb-5edf22b183b8",
        "part": "whole"
       },
       "id": "7a2e364d-aee4-4c45-8ddc-fd5f85c2b21a"
      }
     }
    },
    "d41acefe-9ee0-4154-b95d-eda13e5d9293": {
     "id": "d41acefe-9ee0-4154-b95d-eda13e5d9293",
     "prev": "7a50145d-8dcb-4c35-a28e-6a50fa8b08f3",
     "regions": {
      "f4edfe3a-e9cb-4b01-bea3-7f356fd46a82": {
       "attrs": {
        "height": 0.8,
        "width": 0.8,
        "x": 0.1,
        "y": 0.1
       },
       "content": {
        "cell": "3f8311e8-4246-400e-83e3-cc35e0bbf728",
        "part": "whole"
       },
       "id": "f4edfe3a-e9cb-4b01-bea3-7f356fd46a82"
      }
     }
    },
    "d44577bf-b023-420e-bfb9-99ae87df6c4d": {
     "id": "d44577bf-b023-420e-bfb9-99ae87df6c4d",
     "prev": "eed795d1-c151-4544-8120-4383956e276a",
     "regions": {
      "c8be1517-00e6-45ab-8be5-b2b95f8af526": {
       "attrs": {
        "height": 0.8,
        "width": 0.8,
        "x": 0.1,
        "y": 0.1
       },
       "content": {
        "cell": "4812d547-edc9-45cf-a3a5-dfc127085316",
        "part": "whole"
       },
       "id": "c8be1517-00e6-45ab-8be5-b2b95f8af526"
      }
     }
    },
    "d45ae631-da34-4f82-b9da-c75048675dc8": {
     "id": "d45ae631-da34-4f82-b9da-c75048675dc8",
     "prev": "4f904e16-bac5-4f78-9b53-79c88142725a",
     "regions": {
      "46fc1c71-cb72-44db-b389-69fcffbe7271": {
       "attrs": {
        "height": 0.8,
        "width": 0.8,
        "x": 0.1,
        "y": 0.1
       },
       "content": {
        "cell": "4a56340c-4806-4e90-9d43-ac3da613038f",
        "part": "whole"
       },
       "id": "46fc1c71-cb72-44db-b389-69fcffbe7271"
      }
     }
    },
    "d541f049-1095-4485-bc95-7f8388d2e258": {
     "id": "d541f049-1095-4485-bc95-7f8388d2e258",
     "prev": "a8f8741d-600d-4c14-b517-8d3f5fd344a1",
     "regions": {
      "aa62ca16-72a5-4236-aa48-dc791faa4950": {
       "attrs": {
        "height": 0.8,
        "width": 0.8,
        "x": 0.1,
        "y": 0.1
       },
       "content": {
        "cell": "bfbe9da7-7f5d-410f-b595-ba1e3c7e97c2",
        "part": "whole"
       },
       "id": "aa62ca16-72a5-4236-aa48-dc791faa4950"
      }
     }
    },
    "da2379cb-5e29-4a1c-b23b-fcdf9abd6bd6": {
     "id": "da2379cb-5e29-4a1c-b23b-fcdf9abd6bd6",
     "prev": "21c36af5-ce47-45b3-9cae-abb0a6523d79",
     "regions": {
      "75ce81b5-2924-4cb6-8693-45bac86632c4": {
       "attrs": {
        "height": 0.8,
        "width": 0.8,
        "x": 0.1,
        "y": 0.1
       },
       "content": {
        "cell": "691d75ea-0747-4f87-b824-434bc2e45bc4",
        "part": "whole"
       },
       "id": "75ce81b5-2924-4cb6-8693-45bac86632c4"
      }
     }
    },
    "dadbe868-bbe2-48d7-8508-68357117dc52": {
     "id": "dadbe868-bbe2-48d7-8508-68357117dc52",
     "prev": "48a3f7a0-1527-4238-b4ea-c8e618ce21ce",
     "regions": {
      "47835856-f0b7-4c88-ab2d-60adeec96ad6": {
       "attrs": {
        "height": 0.8,
        "width": 0.8,
        "x": 0.1,
        "y": 0.1
       },
       "content": {
        "cell": "5ce2850d-d40d-486e-b9de-7d48d28e74e7",
        "part": "whole"
       },
       "id": "47835856-f0b7-4c88-ab2d-60adeec96ad6"
      }
     }
    },
    "db0952a0-646d-485a-9991-f26476282874": {
     "id": "db0952a0-646d-485a-9991-f26476282874",
     "prev": "1d34b31e-db22-4641-8c02-d2ac2389ef4c",
     "regions": {
      "d22b5279-306c-4c68-b7ba-7dcf80e92538": {
       "attrs": {
        "height": 0.8,
        "width": 0.8,
        "x": 0.1,
        "y": 0.1
       },
       "content": {
        "cell": "91aff75d-0d64-4b20-9ca2-2b7c531c4058",
        "part": "whole"
       },
       "id": "d22b5279-306c-4c68-b7ba-7dcf80e92538"
      }
     }
    },
    "df93bb2e-1f58-4812-9ad4-dd2678110a7b": {
     "id": "df93bb2e-1f58-4812-9ad4-dd2678110a7b",
     "prev": "77d9030b-7623-4127-bb93-4c37b458b285",
     "regions": {
      "43a6bbbf-8531-434b-af65-21f238e606ee": {
       "attrs": {
        "height": 0.8,
        "width": 0.8,
        "x": 0.1,
        "y": 0.1
       },
       "content": {
        "cell": "a52a97f1-6629-47d4-bfb1-f30a8c67e14e",
        "part": "whole"
       },
       "id": "43a6bbbf-8531-434b-af65-21f238e606ee"
      }
     }
    },
    "e1171c20-0c28-439a-ac74-4901a03442da": {
     "id": "e1171c20-0c28-439a-ac74-4901a03442da",
     "prev": "1d70d4a1-0cbe-420c-b186-f9ab5ac732ce",
     "regions": {
      "f10a40d2-3058-4e4f-aa47-caa4fe69f53f": {
       "attrs": {
        "height": 0.8,
        "width": 0.8,
        "x": 0.1,
        "y": 0.1
       },
       "content": {
        "cell": "5627f62d-44e0-4c3e-af0a-84626fe58ba2",
        "part": "whole"
       },
       "id": "f10a40d2-3058-4e4f-aa47-caa4fe69f53f"
      }
     }
    },
    "e1a61dad-c26f-4dbb-9d20-26d672741e75": {
     "id": "e1a61dad-c26f-4dbb-9d20-26d672741e75",
     "prev": "db0952a0-646d-485a-9991-f26476282874",
     "regions": {
      "60b419af-a288-49d8-99b4-e08e435028a4": {
       "attrs": {
        "height": 0.8,
        "width": 0.8,
        "x": 0.1,
        "y": 0.1
       },
       "content": {
        "cell": "f21046e3-6db8-4091-a987-35ab7bc4232c",
        "part": "whole"
       },
       "id": "60b419af-a288-49d8-99b4-e08e435028a4"
      }
     }
    },
    "e262513d-e77a-45cf-b1ca-3500853ed8a0": {
     "id": "e262513d-e77a-45cf-b1ca-3500853ed8a0",
     "prev": "614d1b1c-7f4a-4a44-b737-2e41e9a8acb6",
     "regions": {
      "a8fcbc2d-67cb-47da-9a91-01c70265df07": {
       "attrs": {
        "height": 0.8,
        "width": 0.8,
        "x": 0.1,
        "y": 0.1
       },
       "content": {
        "cell": "49ade83e-114c-4bc1-94fc-7866738312cd",
        "part": "whole"
       },
       "id": "a8fcbc2d-67cb-47da-9a91-01c70265df07"
      }
     }
    },
    "e2ece26b-f484-4fb7-b5b3-7ec9e3482b17": {
     "id": "e2ece26b-f484-4fb7-b5b3-7ec9e3482b17",
     "prev": "bd86b0a8-f116-47da-add9-59ac13a704b4",
     "regions": {
      "b9288906-0c82-4e95-94d3-a6f64052e619": {
       "attrs": {
        "height": 0.8,
        "width": 0.8,
        "x": 0.1,
        "y": 0.1
       },
       "content": {
        "cell": "2da05c93-b690-4e7b-b3b7-c286fd597fd4",
        "part": "whole"
       },
       "id": "b9288906-0c82-4e95-94d3-a6f64052e619"
      }
     }
    },
    "e398f669-fda2-4e12-8643-991f35d25823": {
     "id": "e398f669-fda2-4e12-8643-991f35d25823",
     "prev": "f7f10a60-4ad1-4d43-ad37-09a7bbaecf02",
     "regions": {
      "0a5e0c31-ea18-4613-96f4-b74af2b8b166": {
       "attrs": {
        "height": 0.8,
        "width": 0.8,
        "x": 0.1,
        "y": 0.1
       },
       "content": {
        "cell": "4dd17b68-ba63-4f38-aaf4-cdab3434a94c",
        "part": "whole"
       },
       "id": "0a5e0c31-ea18-4613-96f4-b74af2b8b166"
      }
     }
    },
    "e403bdfe-ad8b-444d-8ce0-a42e01c1f39e": {
     "id": "e403bdfe-ad8b-444d-8ce0-a42e01c1f39e",
     "prev": "1fa4179c-463f-4e38-b84f-061e35afbb9b",
     "regions": {
      "269f94ed-bdf1-43ae-9825-e07f7db58402": {
       "attrs": {
        "height": 0.8,
        "width": 0.8,
        "x": 0.1,
        "y": 0.1
       },
       "content": {
        "cell": "d288cab3-b5f9-43cc-af08-506cee743f33",
        "part": "whole"
       },
       "id": "269f94ed-bdf1-43ae-9825-e07f7db58402"
      }
     }
    },
    "e41ef8e1-21a5-4709-8ec1-b4cf867e3d21": {
     "id": "e41ef8e1-21a5-4709-8ec1-b4cf867e3d21",
     "prev": "cd5556cc-5820-4e26-b28c-5b52f18f5c30",
     "regions": {
      "bcebc4fb-9ea1-4cdc-898b-da264973c377": {
       "attrs": {
        "height": 0.8,
        "width": 0.8,
        "x": 0.1,
        "y": 0.1
       },
       "content": {
        "cell": "e342ac19-6855-45dd-a35e-9b32717a93a2",
        "part": "whole"
       },
       "id": "bcebc4fb-9ea1-4cdc-898b-da264973c377"
      }
     }
    },
    "e63d3e0e-f33c-4382-ae34-f40c816c5ec3": {
     "id": "e63d3e0e-f33c-4382-ae34-f40c816c5ec3",
     "prev": "567ef848-aed5-4c87-89a0-cccf2422e104",
     "regions": {
      "d627e149-e0f1-4ac3-a736-caf838ba1988": {
       "attrs": {
        "height": 0.8,
        "width": 0.8,
        "x": 0.1,
        "y": 0.1
       },
       "content": {
        "cell": "5d8ae2ab-7968-4d7f-b4bf-07c4ac85cea2",
        "part": "whole"
       },
       "id": "d627e149-e0f1-4ac3-a736-caf838ba1988"
      }
     }
    },
    "e87a18b4-0c77-430d-af38-5ff67f0b02aa": {
     "id": "e87a18b4-0c77-430d-af38-5ff67f0b02aa",
     "prev": "3a1be377-d0e7-4ae4-9c0b-b01f9ebcbd84",
     "regions": {
      "a10c0db9-56e6-498f-9361-7555723af1ba": {
       "attrs": {
        "height": 0.8,
        "width": 0.8,
        "x": 0.1,
        "y": 0.1
       },
       "content": {
        "cell": "4e51d576-e2e5-46d6-85f3-2d10aa199a42",
        "part": "whole"
       },
       "id": "a10c0db9-56e6-498f-9361-7555723af1ba"
      }
     }
    },
    "ec5d48d4-41fc-4b66-a319-121d4109d08b": {
     "id": "ec5d48d4-41fc-4b66-a319-121d4109d08b",
     "prev": "76e222ea-69c2-495c-98ab-df0a5690444e",
     "regions": {
      "6799ac4b-1d05-4708-8b5d-286a567e596c": {
       "attrs": {
        "height": 0.8,
        "width": 0.8,
        "x": 0.1,
        "y": 0.1
       },
       "content": {
        "cell": "bafc727e-f1c8-4d5b-bf14-25a608db4b99",
        "part": "whole"
       },
       "id": "6799ac4b-1d05-4708-8b5d-286a567e596c"
      }
     }
    },
    "eeb37a74-7343-44a7-9138-2cbb42211f89": {
     "id": "eeb37a74-7343-44a7-9138-2cbb42211f89",
     "prev": "219e0f98-18a2-4049-ab3c-6b93505b243e",
     "regions": {
      "aadb770d-8327-4b8f-ad1a-c95a50c2c025": {
       "attrs": {
        "height": 0.8,
        "width": 0.8,
        "x": 0.1,
        "y": 0.1
       },
       "content": {
        "cell": "476d7ccd-6e13-4246-8128-69ef8dd0fa46",
        "part": "whole"
       },
       "id": "aadb770d-8327-4b8f-ad1a-c95a50c2c025"
      }
     }
    },
    "eed795d1-c151-4544-8120-4383956e276a": {
     "id": "eed795d1-c151-4544-8120-4383956e276a",
     "prev": "f05f2649-3a29-4ed6-ad32-d2237093fb80",
     "regions": {
      "56a99098-2248-4bc7-b2e9-82a79f8ba192": {
       "attrs": {
        "height": 0.8,
        "width": 0.8,
        "x": 0.1,
        "y": 0.1
       },
       "content": {
        "cell": "ba5e65bf-c854-490e-aa43-9aa7e58250da",
        "part": "whole"
       },
       "id": "56a99098-2248-4bc7-b2e9-82a79f8ba192"
      }
     }
    },
    "f05f2649-3a29-4ed6-ad32-d2237093fb80": {
     "id": "f05f2649-3a29-4ed6-ad32-d2237093fb80",
     "prev": "d41acefe-9ee0-4154-b95d-eda13e5d9293",
     "regions": {
      "92108526-192c-413f-b9a3-d182f156803d": {
       "attrs": {
        "height": 0.8,
        "width": 0.8,
        "x": 0.1,
        "y": 0.1
       },
       "content": {
        "cell": "8b674bd4-d9ff-4ab6-ad4e-4a05f35ddc00",
        "part": "whole"
       },
       "id": "92108526-192c-413f-b9a3-d182f156803d"
      }
     }
    },
    "f451bb48-64ae-4fc1-9e04-9c609cd9e5b7": {
     "id": "f451bb48-64ae-4fc1-9e04-9c609cd9e5b7",
     "prev": "e262513d-e77a-45cf-b1ca-3500853ed8a0",
     "regions": {
      "ca8018e2-8a33-4e3c-918b-4fd094a2c24d": {
       "attrs": {
        "height": 0.8,
        "width": 0.8,
        "x": 0.1,
        "y": 0.1
       },
       "content": {
        "cell": "eb222c7c-1076-46b0-87be-1eff6f4901d3",
        "part": "whole"
       },
       "id": "ca8018e2-8a33-4e3c-918b-4fd094a2c24d"
      }
     }
    },
    "f5bc4ba6-8ee4-41f0-8e95-b3dffb26ac91": {
     "id": "f5bc4ba6-8ee4-41f0-8e95-b3dffb26ac91",
     "prev": "27c59d1d-b68a-489f-a5f8-c6fa324d0eb0",
     "regions": {
      "1d5e5a6f-5aaa-458e-9654-1c47e4ae51fe": {
       "attrs": {
        "height": 0.8,
        "width": 0.8,
        "x": 0.1,
        "y": 0.1
       },
       "content": {
        "cell": "91d67658-4069-4338-9829-7af6582949b7",
        "part": "whole"
       },
       "id": "1d5e5a6f-5aaa-458e-9654-1c47e4ae51fe"
      }
     }
    },
    "f69d95e4-41fc-4293-8355-083647ed5ebb": {
     "id": "f69d95e4-41fc-4293-8355-083647ed5ebb",
     "prev": "b268d893-3348-4da6-8259-0d19ffc28af9",
     "regions": {
      "92a1c691-62c2-4576-bdfc-ce6d9c7e703b": {
       "attrs": {
        "height": 0.8,
        "width": 0.8,
        "x": 0.1,
        "y": 0.1
       },
       "content": {
        "cell": "ca21f95c-d134-4615-8170-53c39fc9d945",
        "part": "whole"
       },
       "id": "92a1c691-62c2-4576-bdfc-ce6d9c7e703b"
      }
     }
    },
    "f6e6afc5-51e1-4b43-add9-79790fa0c17c": {
     "id": "f6e6afc5-51e1-4b43-add9-79790fa0c17c",
     "prev": "0fa6284d-f666-492a-86b0-622ed83b31dd",
     "regions": {
      "5e9db1eb-be61-4733-a351-04ec4cbe1752": {
       "attrs": {
        "height": 0.8,
        "width": 0.8,
        "x": 0.1,
        "y": 0.1
       },
       "content": {
        "cell": "ac1c0554-13f0-41a5-966f-1b024e21b9e2",
        "part": "whole"
       },
       "id": "5e9db1eb-be61-4733-a351-04ec4cbe1752"
      }
     }
    },
    "f7f10a60-4ad1-4d43-ad37-09a7bbaecf02": {
     "id": "f7f10a60-4ad1-4d43-ad37-09a7bbaecf02",
     "prev": "486f9226-ccc7-4d5c-839a-62abc75c8c1a",
     "regions": {
      "ce34d103-6c3c-402b-a6a9-e0ba59c2665e": {
       "attrs": {
        "height": 0.8,
        "width": 0.8,
        "x": 0.1,
        "y": 0.1
       },
       "content": {
        "cell": "2427e271-8d2e-4e53-942e-976bc24fd86f",
        "part": "whole"
       },
       "id": "ce34d103-6c3c-402b-a6a9-e0ba59c2665e"
      }
     }
    },
    "f8009e0a-4df8-49a5-b646-cb33ecc4480e": {
     "id": "f8009e0a-4df8-49a5-b646-cb33ecc4480e",
     "prev": "71474641-33fe-4571-b08b-7fd99b632c33",
     "regions": {
      "f166774d-673b-4e74-9dc2-e4864a3e8129": {
       "attrs": {
        "height": 0.8,
        "width": 0.8,
        "x": 0.1,
        "y": 0.1
       },
       "content": {
        "cell": "0ca41315-8390-499f-a449-d64ff76c8876",
        "part": "whole"
       },
       "id": "f166774d-673b-4e74-9dc2-e4864a3e8129"
      }
     }
    },
    "f9e4a84e-4d40-44d8-8129-bcd112118c91": {
     "id": "f9e4a84e-4d40-44d8-8129-bcd112118c91",
     "prev": "3b2dd118-d533-43f1-9a48-f01c2794c680",
     "regions": {
      "7a010ac5-c79d-4770-bf8b-19723db7c1ab": {
       "attrs": {
        "height": 0.8,
        "width": 0.8,
        "x": 0.1,
        "y": 0.1
       },
       "content": {
        "cell": "616ed17f-faed-4617-8e2f-01ce5e2ed64f",
        "part": "whole"
       },
       "id": "7a010ac5-c79d-4770-bf8b-19723db7c1ab"
      }
     }
    },
    "fbd6760d-ef0c-4a3b-b8dd-4812f37f18a6": {
     "id": "fbd6760d-ef0c-4a3b-b8dd-4812f37f18a6",
     "prev": "04dd53e3-f8cc-47d7-8785-7dfc2f41615c",
     "regions": {
      "a0c6283c-7d21-4b54-a8f7-ea86c31346cc": {
       "attrs": {
        "height": 0.8,
        "width": 0.8,
        "x": 0.1,
        "y": 0.1
       },
       "content": {
        "cell": "1c045857-2d36-48c3-8904-7b6550b5033e",
        "part": "whole"
       },
       "id": "a0c6283c-7d21-4b54-a8f7-ea86c31346cc"
      }
     }
    },
    "fc79a2d0-3c3b-43ec-93a0-3a9f68ef658b": {
     "id": "fc79a2d0-3c3b-43ec-93a0-3a9f68ef658b",
     "prev": "bb5800cd-9c46-4b76-9a31-ad5569ef49e8",
     "regions": {
      "dd6c9ece-acdd-412b-a765-eea86399b1e7": {
       "attrs": {
        "height": 0.8,
        "width": 0.8,
        "x": 0.1,
        "y": 0.1
       },
       "content": {
        "cell": "fffe8771-2474-4859-815b-1cafa7a4e7f1",
        "part": "whole"
       },
       "id": "dd6c9ece-acdd-412b-a765-eea86399b1e7"
      }
     }
    },
    "fe3e0bdd-77d3-4f3c-b40e-126e01d96ad0": {
     "id": "fe3e0bdd-77d3-4f3c-b40e-126e01d96ad0",
     "prev": "64fbdb89-a282-4de2-a430-276348b4471b",
     "regions": {
      "354b2416-a441-4f09-8fd6-5dff611978de": {
       "attrs": {
        "height": 0.8,
        "width": 0.8,
        "x": 0.1,
        "y": 0.1
       },
       "content": {
        "cell": "35a81c13-54a4-49dd-b6c8-0fa94682405a",
        "part": "whole"
       },
       "id": "354b2416-a441-4f09-8fd6-5dff611978de"
      }
     }
    },
    "ff7b63e4-bb97-4c27-ba01-1e2f67e74d9e": {
     "id": "ff7b63e4-bb97-4c27-ba01-1e2f67e74d9e",
     "prev": "33744bd1-f289-45aa-a66e-0311f509e708",
     "regions": {
      "89e1c471-98a0-4204-8021-14cecab88a52": {
       "attrs": {
        "height": 0.8,
        "width": 0.8,
        "x": 0.1,
        "y": 0.1
       },
       "content": {
        "cell": "60e1b7dd-5c48-4c53-8387-52a2c7e55b2e",
        "part": "whole"
       },
       "id": "89e1c471-98a0-4204-8021-14cecab88a52"
      }
     }
    }
   },
   "themes": {}
  }
 },
 "nbformat": 4,
 "nbformat_minor": 0
}
